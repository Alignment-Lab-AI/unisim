{
 "cells": [
  {
   "cell_type": "code",
   "execution_count": 1,
   "metadata": {},
   "outputs": [],
   "source": [
    "%load_ext autoreload\n",
    "%autoreload 2"
   ]
  },
  {
   "cell_type": "code",
   "execution_count": 2,
   "metadata": {},
   "outputs": [
    {
     "name": "stderr",
     "output_type": "stream",
     "text": [
      "/Users/elieb/git/unisim/.env/lib/python3.11/site-packages/tqdm/auto.py:21: TqdmWarning: IProgress not found. Please update jupyter and ipywidgets. See https://ipywidgets.readthedocs.io/en/stable/user_install.html\n",
      "  from .autonotebook import tqdm as notebook_tqdm\n"
     ]
    }
   ],
   "source": [
    "from time import time\n",
    "from datasets import load_dataset\n",
    "from perfcounters import PerfCounters"
   ]
  },
  {
   "cell_type": "code",
   "execution_count": 3,
   "metadata": {},
   "outputs": [
    {
     "name": "stdout",
     "output_type": "stream",
     "text": [
      "train_texts: 8530 - test_texts: 1066\n"
     ]
    }
   ],
   "source": [
    "train = load_dataset(\"rotten_tomatoes\", split=\"train\")\n",
    "test = load_dataset(\"rotten_tomatoes\", split=\"test\")\n",
    "\n",
    "train_texts = [t['text'] for t in train]\n",
    "test_texts = [t['text'] for t in test]\n",
    "print(f\"train_texts: {len(train_texts)} - test_texts: {len(test_texts)}\")"
   ]
  },
  {
   "cell_type": "code",
   "execution_count": 4,
   "metadata": {},
   "outputs": [
    {
     "name": "stdout",
     "output_type": "stream",
     "text": [
      "Using tf with cpu\n",
      "UniSim is not storing a copy of the index data to save memory\n",
      "If you want to store it use store_data=True\n",
      "[Embedder]\n",
      "|-batch_size:128\n",
      "[Indexer]\n",
      "|-is_exact:True\n",
      "|-use_tf_knn:True\n",
      "|-store index data:False\n"
     ]
    }
   ],
   "source": [
    "import os\n",
    "os.environ['BACKEND'] = 'tf'  # or tf or comment for auto\n",
    "from unisim import ExactUniSim, ApproxUniSim\n",
    "usim = ExactUniSim(store_data=False, use_tf_knn=True)\n",
    "# usim = ApproxUniSim(store_data=False)\n",
    "usim.info()\n"
   ]
  },
  {
   "cell_type": "code",
   "execution_count": 5,
   "metadata": {},
   "outputs": [
    {
     "name": "stderr",
     "output_type": "stream",
     "text": [
      "/Users/elieb/git/unisim/.env/lib/python3.11/site-packages/keras/src/initializers/initializers.py:120: UserWarning: The initializer RandomNormal is unseeded and being called multiple times, which will return identical values each time (even if the initializer is unseeded). Please update your code to provide a seed to the initializer, or avoid using the same initializer instance more than once.\n",
      "  warnings.warn(\n"
     ]
    },
    {
     "name": "stdout",
     "output_type": "stream",
     "text": [
      "WARNING:tensorflow:No training configuration found in save file, so the model was *not* compiled. Compile it manually.\n"
     ]
    }
   ],
   "source": [
    "v = usim.text.batch_embed(['lala', 'lali'])\n",
    "idx = usim.text.batch_index(test_texts[:20])"
   ]
  },
  {
   "cell_type": "markdown",
   "metadata": {},
   "source": [
    "ges (20, 256)\n",
    "bpes (1, 256)"
   ]
  },
  {
   "cell_type": "code",
   "execution_count": 6,
   "metadata": {},
   "outputs": [],
   "source": [
    "usim.text.embed('warm-up')\n",
    "usim.text.reset_index()\n",
    "usim.text.batch_index(test_texts[:20])\n",
    "dups = usim.text.batch_search(test_texts[:20])"
   ]
  },
  {
   "cell_type": "code",
   "execution_count": 7,
   "metadata": {},
   "outputs": [],
   "source": [
    "import numpy as np\n",
    "index_texts = np.asanyarray(train_texts[:900] + test_texts[:100])\n",
    "query_texts = np.asanyarray(test_texts[:500])\n"
   ]
  },
  {
   "cell_type": "code",
   "execution_count": 13,
   "metadata": {},
   "outputs": [
    {
     "name": "stdout",
     "output_type": "stream",
     "text": [
      "-=[Timing counters]=-\n",
      "+----------+---------+\n",
      "| name     |   value |\n",
      "|----------+---------|\n",
      "| total    | 5.69777 |\n",
      "| indexing | 3.80161 |\n",
      "| search   | 1.89613 |\n",
      "+----------+---------+\n",
      "\n",
      "\n",
      "indexing 263 qps\n",
      "search 264 qps\n"
     ]
    }
   ],
   "source": [
    "usim.text.reset_index()\n",
    "\n",
    "cnts = PerfCounters()\n",
    "cnts.start('total')\n",
    "\n",
    "cnts.start('indexing')\n",
    "usim.text.batch_index(index_texts)\n",
    "cnts.stop('indexing')\n",
    "\n",
    "cnts.start('search')\n",
    "dups = usim.text.batch_search(query_texts)\n",
    "cnts.stop('search')\n",
    "cnts.stop('total')\n",
    "\n",
    "\n",
    "cnts.report()\n",
    "iqps = len(index_texts) / cnts.get('indexing')\n",
    "sqps = len(query_texts) / cnts.get('search')\n",
    "print(f'indexing {round(iqps)} qps')\n",
    "print(f'search {round(sqps)} qps')"
   ]
  },
  {
   "cell_type": "code",
   "execution_count": 14,
   "metadata": {},
   "outputs": [
    {
     "name": "stdout",
     "output_type": "stream",
     "text": [
      "Query 0\n",
      "  idx  is_global      global_sim  is_partial      partial_sim  content\n",
      "-----  -----------  ------------  ------------  -------------  ---------\n",
      "  900  True                 1     True                   1\n",
      "  534  False                0.54  False                  0.54\n",
      "   86  False                0.54  False                  0.54\n",
      "   56  False                0.52  False                  0.52\n",
      "  866  False                0.52  False                  0.52\n"
     ]
    }
   ],
   "source": [
    "# set True to store data to show the cotent\n",
    "for d in dups:\n",
    "    if d.num_global_matches:\n",
    "        usim.viz.result(d)\n",
    "        break"
   ]
  },
  {
   "cell_type": "code",
   "execution_count": 15,
   "metadata": {},
   "outputs": [
    {
     "name": "stdout",
     "output_type": "stream",
     "text": [
      "11405 sec, 3.2h\n"
     ]
    }
   ],
   "source": [
    "wiki_time = (3_000_000 / iqps)\n",
    "wiki_hour = wiki_time / 3600\n",
    "print(f\"{round(wiki_time)} sec, {round(wiki_hour, 1)}h\")"
   ]
  },
  {
   "cell_type": "code",
   "execution_count": 16,
   "metadata": {},
   "outputs": [
    {
     "name": "stdout",
     "output_type": "stream",
     "text": [
      "-=[Timing counters]=-\n",
      "+--------------------------+------------+\n",
      "| name                     |      value |\n",
      "|--------------------------+------------|\n",
      "| compute_embeddings_total | 3.56328    |\n",
      "| predict                  | 3.25436    |\n",
      "| binarizer                | 0.305219   |\n",
      "| averaging                | 0.00369477 |\n",
      "+--------------------------+------------+\n",
      "\n",
      "\n",
      "-=[Timing counters]=-\n",
      "+----------------------------+-------------+\n",
      "| name                       |       value |\n",
      "|----------------------------+-------------|\n",
      "| total                      | 3.56512     |\n",
      "| batch_embed                | 3.56437     |\n",
      "| flatten_partial_embeddings | 0.000588655 |\n",
      "| batch_index                | 0.000123024 |\n",
      "| compute_global_idxs        | 3.19481e-05 |\n",
      "+----------------------------+-------------+\n",
      "\n",
      "\n"
     ]
    }
   ],
   "source": [
    "usim.text.reset_index()\n",
    "g = usim.text.batch_index(index_texts, verbose=1)"
   ]
  },
  {
   "cell_type": "markdown",
   "metadata": {},
   "source": [
    "# indexing\n",
    "\n",
    "## binarizer\n",
    "- fused operation  0.31305\n",
    "- baseline         0.325764  \n",
    "\n",
    "# searching\n",
    "## TF compile\n",
    "-=[Timing counters]=-\n",
    "+----------+---------+\n",
    "| name     |   value |\n",
    "|----------+---------|\n",
    "| total    | 5.63792 |\n",
    "| indexing | 3.94475 |\n",
    "| search   | 1.69313 |\n",
    "+----------+---------+\n",
    "indexing 254 qps\n",
    "search 295 qps  vs 236qps\n",
    "\n",
    "\n",
    "# not useful \n",
    "- store data=False not useful on 1000 example\n",
    "\n",
    "\n",
    "# baseline\n",
    "\n",
    "| name     |   value |\n",
    "|----------+---------|\n",
    "| total    | 6.36012 |\n",
    "| indexing | 4.37516 |\n",
    "| search   | 1.9849  |\n",
    "\n",
    "indexing 223 qps\n",
    "search 236 qps\n"
   ]
  }
 ],
 "metadata": {
  "kernelspec": {
   "display_name": ".env",
   "language": "python",
   "name": "python3"
  },
  "language_info": {
   "codemirror_mode": {
    "name": "ipython",
    "version": 3
   },
   "file_extension": ".py",
   "mimetype": "text/x-python",
   "name": "python",
   "nbconvert_exporter": "python",
   "pygments_lexer": "ipython3",
   "version": "3.11.4"
  },
  "orig_nbformat": 4
 },
 "nbformat": 4,
 "nbformat_minor": 2
}
