{
 "cells": [
  {
   "cell_type": "code",
   "execution_count": null,
   "metadata": {},
   "outputs": [],
   "source": [
    "%load_ext autoreload\n",
    "%autoreload 2"
   ]
  },
  {
   "cell_type": "code",
   "execution_count": 24,
   "metadata": {},
   "outputs": [],
   "source": [
    "from time import time\n",
    "from datasets import load_dataset\n",
    "from perfcounters import PerfCounters"
   ]
  },
  {
   "cell_type": "code",
   "execution_count": 10,
   "metadata": {},
   "outputs": [
    {
     "name": "stdout",
     "output_type": "stream",
     "text": [
      "train_texts: 8530 - test_texts: 1066\n"
     ]
    }
   ],
   "source": [
    "train = load_dataset(\"rotten_tomatoes\", split=\"train\")\n",
    "test = load_dataset(\"rotten_tomatoes\", split=\"test\")\n",
    "\n",
    "train_texts = [t['text'] for t in train]\n",
    "test_texts = [t['text'] for t in test]\n",
    "print(f\"train_texts: {len(train_texts)} - test_texts: {len(test_texts)}\")"
   ]
  },
  {
   "cell_type": "code",
   "execution_count": 12,
   "metadata": {},
   "outputs": [],
   "source": [
    "from unisim.config import use_tf_backend\n",
    "use_tf_backend()"
   ]
  },
  {
   "cell_type": "code",
   "execution_count": 14,
   "metadata": {},
   "outputs": [
    {
     "name": "stdout",
     "output_type": "stream",
     "text": [
      "UniSim is storing a copy of the indexed data\n",
      "if you are using large data corpus consider disable this behavior using store_data=False\n",
      "[Indexer]\n",
      "|-is_exact:True\n",
      "|-use_tf_knn:True\n",
      "|-store index data:True\n"
     ]
    }
   ],
   "source": [
    "\n",
    "from unisim import ExactUniSim, ApproxUniSim\n",
    "usim = ExactUniSim(store_data=True, use_tf_knn=True)\n",
    "usim.info()"
   ]
  },
  {
   "cell_type": "code",
   "execution_count": 22,
   "metadata": {},
   "outputs": [],
   "source": [
    "e = usim.text.embed('lalal')  # warmup"
   ]
  },
  {
   "cell_type": "code",
   "execution_count": 25,
   "metadata": {},
   "outputs": [
    {
     "name": "stdout",
     "output_type": "stream",
     "text": [
      "gk 5 pk 5\n",
      "-=[Timing counters]=-\n",
      "+-----------+------------+\n",
      "| name      |      value |\n",
      "|-----------+------------|\n",
      "| total     | 125.759    |\n",
      "| indexing  | 120.557    |\n",
      "| search    |   5.05722  |\n",
      "| indexing2 |   0.143259 |\n",
      "+-----------+------------+\n",
      "\n",
      "\n"
     ]
    }
   ],
   "source": [
    "usim.text.reset_index()\n",
    "\n",
    "cnts = PerfCounters()\n",
    "cnts.start('total')\n",
    "\n",
    "cnts.start('indexing')\n",
    "usim.text.batch_index(train_texts)\n",
    "cnts.stop('indexing')\n",
    "\n",
    "cnts.start('indexing2')\n",
    "usim.text.batch_index(test_texts[:20])\n",
    "cnts.stop('indexing2')\n",
    "\n",
    "cnts.start('search')\n",
    "dups = usim.text.batch_search(test_texts)\n",
    "cnts.stop('search')\n",
    "cnts.stop('total')\n",
    "cnts.report()\n"
   ]
  },
  {
   "cell_type": "code",
   "execution_count": 30,
   "metadata": {},
   "outputs": [
    {
     "name": "stdout",
     "output_type": "stream",
     "text": [
      "indexing 71 qps\n",
      "search 211 qps\n"
     ]
    }
   ],
   "source": [
    "iqps = len(train_texts) / cnts.get('indexing')\n",
    "sqps = len(test_texts) / cnts.get('search')\n",
    "print(f'indexing {round(iqps)} qps')\n",
    "print(f'search {round(sqps)} qps')"
   ]
  },
  {
   "cell_type": "code",
   "execution_count": 34,
   "metadata": {},
   "outputs": [
    {
     "name": "stdout",
     "output_type": "stream",
     "text": [
      "42400 sec, 11.8h\n"
     ]
    }
   ],
   "source": [
    "wiki_time = (3_000_000 / iqps)\n",
    "wiki_hour = wiki_time / 3600\n",
    "print(f\"{round(wiki_time)} sec, {round(wiki_hour, 1)}h\")"
   ]
  },
  {
   "cell_type": "code",
   "execution_count": 26,
   "metadata": {},
   "outputs": [
    {
     "name": "stdout",
     "output_type": "stream",
     "text": [
      "Query 0: \"lovingly photographed in the manner of a golden book sprung to life , stuart little 2 manages sweetness largely without stickiness .\"\n",
      "  idx  is_global      global_sim  is_partial      partial_sim  content\n",
      "-----  -----------  ------------  ------------  -------------  ------------------------------\n",
      " 8530  True                 1     True                   1     lovingly photographed in the m\n",
      "  909  False                0.56  False                  0.56  culkin , who's in virtually ev\n",
      " 3951  False                0.55  False                  0.55  baran is shockingly devoid of\n",
      " 8209  False                0.54  False                  0.54  unfortunately , one hour photo\n",
      " 3510  False                0.54  False                  0.54  if divine secrets of the ya-ya\n"
     ]
    }
   ],
   "source": [
    "# for d in dups:\n",
    "#     if d.is_partial:\n",
    "        \n",
    "for d in dups:\n",
    "    if d.num_global_matches:\n",
    "        usim.viz.result(d)\n",
    "        break"
   ]
  }
 ],
 "metadata": {
  "kernelspec": {
   "display_name": ".env",
   "language": "python",
   "name": "python3"
  },
  "language_info": {
   "codemirror_mode": {
    "name": "ipython",
    "version": 3
   },
   "file_extension": ".py",
   "mimetype": "text/x-python",
   "name": "python",
   "nbconvert_exporter": "python",
   "pygments_lexer": "ipython3",
   "version": "3.11.4"
  },
  "orig_nbformat": 4
 },
 "nbformat": 4,
 "nbformat_minor": 2
}
