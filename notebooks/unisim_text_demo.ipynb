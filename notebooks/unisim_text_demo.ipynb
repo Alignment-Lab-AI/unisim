{
 "cells": [
  {
   "cell_type": "code",
   "execution_count": 1,
   "metadata": {},
   "outputs": [
    {
     "name": "stderr",
     "output_type": "stream",
     "text": [
      "/usr/local/lib/python3.10/dist-packages/tqdm/auto.py:21: TqdmWarning: IProgress not found. Please update jupyter and ipywidgets. See https://ipywidgets.readthedocs.io/en/stable/user_install.html\n",
      "  from .autonotebook import tqdm as notebook_tqdm\n"
     ]
    },
    {
     "name": "stdout",
     "output_type": "stream",
     "text": [
      "Loaded backend\n",
      "Using tf with gpu\n"
     ]
    }
   ],
   "source": [
    "from datasets import load_dataset\n",
    "from unisim import TextSim\n",
    "from tabulate import tabulate\n",
    "import pandas as pd"
   ]
  },
  {
   "cell_type": "markdown",
   "metadata": {},
   "source": [
    "## Load Dataset\n",
    "\n",
    "For this example, we use a product matching dataset \n",
    "\n",
    "https://huggingface.co/datasets/RUC-DataLab/ER-dataset\n",
    "\n",
    "https://github.com/ruc-datalab/DADER\n",
    "\n",
    "There are additional datasets that test entity retrieval and matching\n",
    "\n",
    "citation, product matching, restaurant matching"
   ]
  },
  {
   "cell_type": "code",
   "execution_count": 43,
   "metadata": {},
   "outputs": [],
   "source": [
    "dataset = load_dataset(\"RUC-DataLab/ER-dataset\", data_files=\"dblp_scholar.csv\", split=\"train\")"
   ]
  },
  {
   "cell_type": "code",
   "execution_count": 2,
   "metadata": {},
   "outputs": [
    {
     "ename": "NameError",
     "evalue": "name 'text_sim' is not defined",
     "output_type": "error",
     "traceback": [
      "\u001b[0;31m---------------------------------------------------------------------------\u001b[0m",
      "\u001b[0;31mNameError\u001b[0m                                 Traceback (most recent call last)",
      "Cell \u001b[0;32mIn[2], line 1\u001b[0m\n\u001b[0;32m----> 1\u001b[0m \u001b[43mtext_sim\u001b[49m\u001b[38;5;241m.\u001b[39msimilarity(\u001b[38;5;124m\"\u001b[39m\u001b[38;5;124mthis is a text\u001b[39m\u001b[38;5;124m\"\u001b[39m, \u001b[38;5;124m\"\u001b[39m\u001b[38;5;124mThis is a txt! 😀\u001b[39m\u001b[38;5;124m\"\u001b[39m) \n",
      "\u001b[0;31mNameError\u001b[0m: name 'text_sim' is not defined"
     ]
    }
   ],
   "source": []
  },
  {
   "cell_type": "code",
   "execution_count": 41,
   "metadata": {},
   "outputs": [],
   "source": [
    "# restaurants, products are good to do like differences in matching addresses etc easy to do \n",
    "\n",
    "# restaurants1 not bad, better than fodors zagats which gets 100 percent\n",
    "# beer is pretty good\n",
    "# walmart amazon not bad\n",
    "# itunes_amazon is meh maybe too easy\n",
    "# dblp_sholcar and acm decent might be too easy , scholar is harder than ACM which is like 99% accuracy\n",
    "# restauratnts 3 and 4 are decent but might be too easy\n",
    "# fodors zagats too aesy\n",
    "\n",
    "# not good because book editions books 4 > book 2\n",
    "# anime not easy either its like the diference is saesons \n",
    "# cosmetics not good either, it's like different colors are not clasified as the same thing\n",
    "# abt_buy not that good, missing descriptions and not super clean it seems \n",
    "# movies1 not good year range is kinda weird/ \n",
    "# shoes and comuters not great, there are near-dups that are marked as not the same item \n",
    "# ebboks not good, based on similarity description similarity"
   ]
  },
  {
   "cell_type": "code",
   "execution_count": 44,
   "metadata": {},
   "outputs": [
    {
     "data": {
      "text/plain": [
       "{'A_title': ['the demarcation protocol : a technique for maintaining constraints in distributed database systems ',\n",
       "  'on-demand data elevation in hierarchical multimedia storage servers ',\n",
       "  'database tuning : principles , experiments , and troubleshooting techniques ',\n",
       "  'dna-miner : a system prototype for mining dna sequences ',\n",
       "  'communication efficient distributed mining of association rules '],\n",
       " 'A_authors': ['d barbarс , h garcia-molina ',\n",
       "  'p triantafillou , t papadakis ',\n",
       "  'd shasha , p bonnet ',\n",
       "  'j han , h jamil , y lu , l chen , y liao , j pei ',\n",
       "  'a schuster , r wolff '],\n",
       " 'A_venue': ['vldb j. ',\n",
       "  'vldb ',\n",
       "  'vldb ',\n",
       "  'sigmod conference ',\n",
       "  'sigmod conference '],\n",
       " 'A_year': [1994, 1997, 2002, 2001, 2001],\n",
       " 'B_title': ['local verification of global integrity constraints in distributed databases ',\n",
       "  'on-demand data elevation in a hierarchical multimedia storage server ',\n",
       "  'database tuning : principles , experiments , and troubleshooting techniques ( part i ) ',\n",
       "  'n. stefanovic 1997 â ?? geominer : a system prototype for spatial data miningâ ?? ',\n",
       "  'mining generalized association rules '],\n",
       " 'B_authors': ['a gupta , j widom ',\n",
       "  'p triantallou , t papadakis ',\n",
       "  'd shasha , p bonnet ',\n",
       "  'j han , k koperski ',\n",
       "  'r agrawal , r srikant '],\n",
       " 'B_venue': [' ',\n",
       "  'proc . of 23rd intl. conf . on very large data bases , vldb , ',\n",
       "  'proceedings of the 2002 acm sigmod international conference & hellip ; , ',\n",
       "  'proc . acm-sigmod int . conf . on management of data ( sigmod &#39; 97 ',\n",
       "  'proceedings of the 1995 international conference of very & hellip ; , '],\n",
       " 'B_year': [' ', '1997.0 ', '2002.0 ', ' ', ' '],\n",
       " 'label': [0, 1, 1, 0, 0]}"
      ]
     },
     "execution_count": 44,
     "metadata": {},
     "output_type": "execute_result"
    }
   ],
   "source": [
    "dataset[:5]"
   ]
  },
  {
   "cell_type": "code",
   "execution_count": 3,
   "metadata": {},
   "outputs": [
    {
     "name": "stdout",
     "output_type": "stream",
     "text": [
      "Size of dataset: 450\n",
      "Dataset features: ['A_NAME', 'A_PHONENUMBER', 'A_ADDRESS', 'B_NAME', 'B_PHONENUMBER', 'B_ADDRESS', 'label']\n"
     ]
    }
   ],
   "source": [
    "print(\"Size of dataset:\", len(dataset))\n",
    "\n",
    "dataset_features = list(dataset.features.keys())\n",
    "print(\"Dataset features:\", dataset_features)"
   ]
  },
  {
   "cell_type": "code",
   "execution_count": 4,
   "metadata": {},
   "outputs": [],
   "source": [
    "text1_features = [x for x in dataset_features if x.startswith(\"A\")]\n",
    "text2_features = [x for x in dataset_features if x.startswith(\"B\")]\n",
    "is_match_feature = \"label\"\n",
    "\n",
    "def get_text_pair(idx):\n",
    "    ex = dataset[idx]\n",
    "\n",
    "    text1 = \" \".join(ex[x] for x in text1_features)\n",
    "    text2 = \" \".join(ex[x] for x in text2_features)\n",
    "\n",
    "    label = ex[is_match_feature]\n",
    "    return [text1, text2, label]"
   ]
  },
  {
   "cell_type": "markdown",
   "metadata": {},
   "source": [
    "### TextSim"
   ]
  },
  {
   "cell_type": "code",
   "execution_count": 4,
   "metadata": {},
   "outputs": [
    {
     "name": "stderr",
     "output_type": "stream",
     "text": [
      "/usr/local/lib/python3.10/dist-packages/keras/src/initializers/initializers.py:120: UserWarning: The initializer RandomNormal is unseeded and being called multiple times, which will return identical values each time (even if the initializer is unseeded). Please update your code to provide a seed to the initializer, or avoid using the same initializer instance more than once.\n",
      "  warnings.warn(\n"
     ]
    },
    {
     "name": "stdout",
     "output_type": "stream",
     "text": [
      "WARNING:tensorflow:No training configuration found in save file, so the model was *not* compiled. Compile it manually.\n",
      "INFO: UniSim is storing a copy of the indexed data\n",
      "INFO: If you are using large data corpus, consider disabling this behavior using store_data=False\n"
     ]
    },
    {
     "data": {
      "text/plain": [
       "0.4220390021800995"
      ]
     },
     "execution_count": 4,
     "metadata": {},
     "output_type": "execute_result"
    }
   ],
   "source": [
    "text_sim = TextSim(index_type=\"exact\")\n",
    "text_sim.similarity(\"this is a text\", \"apples\") "
   ]
  },
  {
   "cell_type": "markdown",
   "metadata": {},
   "source": [
    "### Computing Similarity between Texts"
   ]
  },
  {
   "cell_type": "code",
   "execution_count": 8,
   "metadata": {},
   "outputs": [
    {
     "data": {
      "text/plain": [
       "0.9418152570724487"
      ]
     },
     "execution_count": 8,
     "metadata": {},
     "output_type": "execute_result"
    }
   ],
   "source": [
    "text_sim.similarity(\"this is an example text\", \"This is an example txt! 😀 \")"
   ]
  },
  {
   "cell_type": "code",
   "execution_count": 45,
   "metadata": {},
   "outputs": [
    {
     "data": {
      "text/plain": [
       "0.5612893104553223"
      ]
     },
     "execution_count": 45,
     "metadata": {},
     "output_type": "execute_result"
    }
   ],
   "source": [
    "text_sim.similarity(\"hello\", \"h3110\")"
   ]
  },
  {
   "cell_type": "code",
   "execution_count": 7,
   "metadata": {},
   "outputs": [
    {
     "name": "stdout",
     "output_type": "stream",
     "text": [
      "      query     target  similarity  is_match\n",
      "0     apple      apple    1.000000      True\n",
      "1      appl      apple    0.914230      True\n",
      "2  icecream  ice cream    0.950734      True\n",
      "3     house      mouse    0.760066     False\n",
      "4    random      mouse    0.456315     False\n"
     ]
    }
   ],
   "source": [
    "queries = [\"apple\", \"appl\", \"icecream\", \"house\", \"random\"]\n",
    "targets = [\"apple\", \"ice cream\", \"mouse\"]\n",
    "\n",
    "results_df = text_sim.match(queries, targets, similarity_threshold=0.9)\n",
    "print(results_df.head())"
   ]
  },
  {
   "cell_type": "code",
   "execution_count": 10,
   "metadata": {},
   "outputs": [
    {
     "data": {
      "text/plain": [
       "(2, 256)"
      ]
     },
     "execution_count": 10,
     "metadata": {},
     "output_type": "execute_result"
    }
   ],
   "source": [
    "# You can directly compute text embeddings using TextSim's `embed()` method\n",
    "example_texts = [\n",
    "    \"This is an example text!\",\n",
    "    \"You can even use extremely long texts, TextSim is capable of handling and matching arbitrarily-long texts.\"\n",
    "]\n",
    "embeddings = text_sim.embed(example_texts)\n",
    "embeddings.shape  # (2, 256) dimension"
   ]
  },
  {
   "cell_type": "code",
   "execution_count": 31,
   "metadata": {},
   "outputs": [
    {
     "name": "stderr",
     "output_type": "stream",
     "text": [
      "/usr/local/lib/python3.10/dist-packages/keras/src/initializers/initializers.py:120: UserWarning: The initializer RandomNormal is unseeded and being called multiple times, which will return identical values each time (even if the initializer is unseeded). Please update your code to provide a seed to the initializer, or avoid using the same initializer instance more than once.\n",
      "  warnings.warn(\n"
     ]
    },
    {
     "name": "stdout",
     "output_type": "stream",
     "text": [
      "WARNING:tensorflow:No training configuration found in save file, so the model was *not* compiled. Compile it manually.\n",
      "INFO: UniSim is storing a copy of the indexed data\n",
      "INFO: If you are using large data corpus, consider disabling this behavior using store_data=False\n"
     ]
    }
   ],
   "source": [
    "# you can maintain an index of texts as well. \n",
    "# we support Approximate Nearest Neighbor search, with index_type=\"approx\" using USearch, which will scale to millions or even billions of indexed examples\n",
    "\n",
    "text_sim = TextSim()\n",
    "\n",
    "# dataset\n",
    "index_examples = [\n",
    "    \"I love ice cream and cookies\",\n",
    "    \"Ice cream is super delicious\",\n",
    "    \"my mom makes the best homemade cookies 🍪🍪🍪\",\n",
    "    \"UniSim supports very long texts as well.\",\n",
    "    \"UniSim supports multilingual texts too. 你好!\",\n",
    "]\n",
    "text_sim.add(index_examples)\n",
    "\n",
    "# you want to find nearest things in your index\n",
    "query_examples = [\n",
    "    \"I luv ice cream and cookies🍦🍪\",\n",
    "    \"This is an example query text.\",\n",
    "    \"Unrelated text with no match in the dataset...\"\n",
    "]\n",
    "\n",
    "result_collection = text_sim.search(query_examples, similarity_threshold=0.9, k=5)"
   ]
  },
  {
   "cell_type": "code",
   "execution_count": 32,
   "metadata": {},
   "outputs": [
    {
     "name": "stdout",
     "output_type": "stream",
     "text": [
      "Query 0: \"I luv ice cream and cookies🍦🍪\"\n",
      "Most similar matches:\n",
      "\n",
      "  idx  is_match      similarity  text\n",
      "-----  ----------  ------------  -------------------------------------------------\n",
      "    3  True                0.91  I love ice cream and cookies\n",
      "    4  False               0.66  Ice cream is super delicious\n",
      "    5  False               0.53  my mom makes the best homemade cookies 🍪🍪🍪\n",
      "    0  False               0.42  This is an example text.\n",
      "    2  False               0.36  UniSim supports multilingual texts as well. 你好!\n"
     ]
    }
   ],
   "source": [
    "text_sim.visualize(result_collection.results[0])\n"
   ]
  },
  {
   "cell_type": "code",
   "execution_count": 16,
   "metadata": {},
   "outputs": [
    {
     "name": "stdout",
     "output_type": "stream",
     "text": [
      "1\n"
     ]
    }
   ],
   "source": [
    "print(result_collection.total_matches)\n",
    "results = result_collection.results"
   ]
  },
  {
   "cell_type": "code",
   "execution_count": 20,
   "metadata": {},
   "outputs": [],
   "source": [
    "result_collection = text_sim.search([\"This is some text??\"], similarity_threshold=0.9, k=5)"
   ]
  },
  {
   "cell_type": "code",
   "execution_count": 21,
   "metadata": {},
   "outputs": [
    {
     "name": "stdout",
     "output_type": "stream",
     "text": [
      "Query 0: \"This is some text??\"\n",
      "Most similar matches:\n",
      "\n",
      "  idx  is_match      similarity  text\n",
      "-----  ----------  ------------  -------------------------------------------\n",
      "    1  True                0.95  This is some text\n",
      "    2  False               0.5   These are example texts you are looking for\n",
      "    0  False               0.3   asdfsdf\n"
     ]
    }
   ],
   "source": [
    "\n",
    "text_sim.visualize(result_collection.results[0])\n",
    "\n",
    "# text_sim.visualize(results[1])"
   ]
  },
  {
   "cell_type": "code",
   "execution_count": 23,
   "metadata": {},
   "outputs": [
    {
     "name": "stdout",
     "output_type": "stream",
     "text": [
      "text1                                                                  text2                                                                        is_match    similarity\n",
      "---------------------------------------------------------------------  -------------------------------------------------------------------------  ----------  ------------\n",
      "15 Romolo (415) 398-1359 15 Romolo Place, San Francisco, CA            15 Romolo (415) 398-1359 15 Romolo Pl, San Francisco, CA 94133                      1      0.971069\n",
      "456 Shanghai Cuisine 1261 69 Mott Street, New York, NY                 Shanghai Asian Manor (212) 766-6311 21 Mott St, New York, NY 10013                  0      0.779613\n",
      "5A5 Steak Lounge (415) 989-2539 244 Jackson Street, San Francisco, CA  Delicious Dim Sum (415) 781-0721 752 Jackson St, San Francisco, CA 94133            0      0.687863\n",
      "9th Street Pizza (213) 627-7798 231 E 9th St, Los Angeles, CA          Han Bat Sul Lung Tang (213) 383-9499 4163 W 5th St, Los Angeles, CA 90020           0      0.610497\n",
      "9th Street Pizza (213) 627-7798 231 E 9th St, Los Angeles, CA          Jun Won Restaurant (213) 383-8855 3100 W 8th St, Los Angeles, CA 90005              0      0.617363\n"
     ]
    }
   ],
   "source": [
    "example_data = [get_text_pair(idx) for idx in range(0, 5)]\n",
    "\n",
    "for i in range(len(example_data)):\n",
    "    text1, text2, is_match = example_data[i]\n",
    "    similarity = text_sim.similarity(text1, text2)\n",
    "    example_data[i].append(similarity)\n",
    "\n",
    "print(tabulate(example_data, headers=[\"text1\", \"text2\", \"is_match\", \"similarity\"]))"
   ]
  },
  {
   "cell_type": "code",
   "execution_count": 24,
   "metadata": {},
   "outputs": [
    {
     "name": "stdout",
     "output_type": "stream",
     "text": [
      "Nana (312) 929-2486 3267 S. Halsted Street, Chicago, IL\n",
      "Allende Restaurant (773) 477-7114 2408 N. Lincoln Avenue, Chicago, IL\n",
      "Jordan's Big Ten Pub (608) 251-6375 1330 Regent St, Madison, WI\n",
      "La Salsa Fresh Mexican Grill (310) 234-8338 10800 W Pico Blvd, Los Angeles, CA\n",
      "Jimmy John's (608) 255-0301 527 State St, Madison, WI\n"
     ]
    }
   ],
   "source": [
    "targets = list(set([get_text_pair(idx)[0] for idx in range(0, len(dataset))]))  # TODO does not preserve order \n",
    "print(\"\\n\".join([t for t in targets[:5]]))"
   ]
  },
  {
   "cell_type": "code",
   "execution_count": 25,
   "metadata": {},
   "outputs": [
    {
     "name": "stdout",
     "output_type": "stream",
     "text": [
      "Colibri Mexican Bistro (415) 440-2737 438 Geary St, San Francisco, CA 94102\n",
      "Chipotle Mexican Grill (608) 233-4305 4000 University Ave, Madison, WI 53705\n",
      "Shallots Bistro (847) 677-3463 7016 Carpenter Rd, Skokie, IL 60076\n",
      "The Heights Deli & Bottle Shop (323) 223-0708 2927 N Broadway, Los Angeles, CA 90031\n",
      "La Cocina Boricua de la Familia Galarza (773) 235-7377 2420 W Fullerton Ave, Chicago, IL 60647\n"
     ]
    }
   ],
   "source": [
    "queries = list(set([get_text_pair(idx)[1] for idx in range(0, len(dataset))]))\n",
    "print(\"\\n\".join([t for t in queries[:5]]))"
   ]
  },
  {
   "cell_type": "code",
   "execution_count": 26,
   "metadata": {},
   "outputs": [
    {
     "data": {
      "text/html": [
       "<div>\n",
       "<style scoped>\n",
       "    .dataframe tbody tr th:only-of-type {\n",
       "        vertical-align: middle;\n",
       "    }\n",
       "\n",
       "    .dataframe tbody tr th {\n",
       "        vertical-align: top;\n",
       "    }\n",
       "\n",
       "    .dataframe thead th {\n",
       "        text-align: right;\n",
       "    }\n",
       "</style>\n",
       "<table border=\"1\" class=\"dataframe\">\n",
       "  <thead>\n",
       "    <tr style=\"text-align: right;\">\n",
       "      <th></th>\n",
       "      <th>query</th>\n",
       "      <th>target</th>\n",
       "      <th>similarity</th>\n",
       "      <th>is_match</th>\n",
       "    </tr>\n",
       "  </thead>\n",
       "  <tbody>\n",
       "    <tr>\n",
       "      <th>0</th>\n",
       "      <td>Colibri Mexican Bistro (415) 440-2737 438 Geary St, San Francisco, CA 94102</td>\n",
       "      <td>Colibri Mexican Bistro (415) 440-2737 438 Geary Street, San Francisco, CA</td>\n",
       "      <td>0.954280</td>\n",
       "      <td>True</td>\n",
       "    </tr>\n",
       "    <tr>\n",
       "      <th>1</th>\n",
       "      <td>Chipotle Mexican Grill (608) 233-4305 4000 University Ave, Madison, WI 53705</td>\n",
       "      <td>Chipotle Mexican Grill (608) 233-4305 4000 University Ave, Madison, WI</td>\n",
       "      <td>0.980320</td>\n",
       "      <td>True</td>\n",
       "    </tr>\n",
       "    <tr>\n",
       "      <th>2</th>\n",
       "      <td>Shallots Bistro (847) 677-3463 7016 Carpenter Rd, Skokie, IL 60076</td>\n",
       "      <td>Shallots Bistro (847) 677-3463 7016 Carpenter Road, Skokie, IL</td>\n",
       "      <td>0.959569</td>\n",
       "      <td>True</td>\n",
       "    </tr>\n",
       "    <tr>\n",
       "      <th>3</th>\n",
       "      <td>The Heights Deli &amp; Bottle Shop (323) 223-0708 2927 N Broadway, Los Angeles, CA 90031</td>\n",
       "      <td>Yang Chow (213) 625-0811 819 N Broadway, Los Angeles, CA</td>\n",
       "      <td>0.715259</td>\n",
       "      <td>False</td>\n",
       "    </tr>\n",
       "    <tr>\n",
       "      <th>4</th>\n",
       "      <td>La Cocina Boricua de la Familia Galarza (773) 235-7377 2420 W Fullerton Ave, Chicago, IL 60647</td>\n",
       "      <td>El Rinconcito Cubano (773) 489-4440 3248 W. Fullerton Avenue, Chicago, IL</td>\n",
       "      <td>0.674455</td>\n",
       "      <td>False</td>\n",
       "    </tr>\n",
       "    <tr>\n",
       "      <th>5</th>\n",
       "      <td>Chang Jiang (608) 288-1888 2935 S Fish Hatchery Rd, Fitchburg, WI 53711</td>\n",
       "      <td>Rolling Pin Bake Shop (608) 270-9611 2935 S Fish Hatchery Rd, Fitchburg, WI</td>\n",
       "      <td>0.735949</td>\n",
       "      <td>False</td>\n",
       "    </tr>\n",
       "    <tr>\n",
       "      <th>6</th>\n",
       "      <td>Tex Tubbs Taco Palace (608) 242-1800 2009 Atwood Ave, Madison, WI 53704</td>\n",
       "      <td>Cafe Zoma (608) 246-2009 2326 Atwood Ave, Madison, WI</td>\n",
       "      <td>0.748568</td>\n",
       "      <td>False</td>\n",
       "    </tr>\n",
       "    <tr>\n",
       "      <th>7</th>\n",
       "      <td>Pho Nam Noodle House (608) 836-7040 610 Junction Rd, Madison, WI 53717</td>\n",
       "      <td>Pho Nam (608) 836-7040 610 Junction Rd Suite 109, Madison, WI</td>\n",
       "      <td>0.850172</td>\n",
       "      <td>False</td>\n",
       "    </tr>\n",
       "    <tr>\n",
       "      <th>8</th>\n",
       "      <td>Pork &amp; Mindys (844) 573-6737 1623 N Milwaukee Ave, Chicago, IL 60647</td>\n",
       "      <td>Harold's Chicken Shack (773) 252-2424 1361 N. Milwaukee Avenue, Chicago, IL</td>\n",
       "      <td>0.755033</td>\n",
       "      <td>False</td>\n",
       "    </tr>\n",
       "    <tr>\n",
       "      <th>9</th>\n",
       "      <td>Hong Kong Lounge II (415) 668-8802 3300 Geary Blvd, San Francisco, CA 94118</td>\n",
       "      <td>Men Oh (415) 386-8802 5120 Geary Boulevard, San Francisco, CA</td>\n",
       "      <td>0.731154</td>\n",
       "      <td>False</td>\n",
       "    </tr>\n",
       "  </tbody>\n",
       "</table>\n",
       "</div>"
      ],
      "text/plain": [
       "                                                                                            query  \\\n",
       "0                     Colibri Mexican Bistro (415) 440-2737 438 Geary St, San Francisco, CA 94102   \n",
       "1                    Chipotle Mexican Grill (608) 233-4305 4000 University Ave, Madison, WI 53705   \n",
       "2                              Shallots Bistro (847) 677-3463 7016 Carpenter Rd, Skokie, IL 60076   \n",
       "3            The Heights Deli & Bottle Shop (323) 223-0708 2927 N Broadway, Los Angeles, CA 90031   \n",
       "4  La Cocina Boricua de la Familia Galarza (773) 235-7377 2420 W Fullerton Ave, Chicago, IL 60647   \n",
       "5                         Chang Jiang (608) 288-1888 2935 S Fish Hatchery Rd, Fitchburg, WI 53711   \n",
       "6                         Tex Tubbs Taco Palace (608) 242-1800 2009 Atwood Ave, Madison, WI 53704   \n",
       "7                          Pho Nam Noodle House (608) 836-7040 610 Junction Rd, Madison, WI 53717   \n",
       "8                            Pork & Mindys (844) 573-6737 1623 N Milwaukee Ave, Chicago, IL 60647   \n",
       "9                     Hong Kong Lounge II (415) 668-8802 3300 Geary Blvd, San Francisco, CA 94118   \n",
       "\n",
       "                                                                        target  \\\n",
       "0    Colibri Mexican Bistro (415) 440-2737 438 Geary Street, San Francisco, CA   \n",
       "1       Chipotle Mexican Grill (608) 233-4305 4000 University Ave, Madison, WI   \n",
       "2               Shallots Bistro (847) 677-3463 7016 Carpenter Road, Skokie, IL   \n",
       "3                     Yang Chow (213) 625-0811 819 N Broadway, Los Angeles, CA   \n",
       "4    El Rinconcito Cubano (773) 489-4440 3248 W. Fullerton Avenue, Chicago, IL   \n",
       "5  Rolling Pin Bake Shop (608) 270-9611 2935 S Fish Hatchery Rd, Fitchburg, WI   \n",
       "6                        Cafe Zoma (608) 246-2009 2326 Atwood Ave, Madison, WI   \n",
       "7                Pho Nam (608) 836-7040 610 Junction Rd Suite 109, Madison, WI   \n",
       "8  Harold's Chicken Shack (773) 252-2424 1361 N. Milwaukee Avenue, Chicago, IL   \n",
       "9                Men Oh (415) 386-8802 5120 Geary Boulevard, San Francisco, CA   \n",
       "\n",
       "   similarity  is_match  \n",
       "0    0.954280      True  \n",
       "1    0.980320      True  \n",
       "2    0.959569      True  \n",
       "3    0.715259     False  \n",
       "4    0.674455     False  \n",
       "5    0.735949     False  \n",
       "6    0.748568     False  \n",
       "7    0.850172     False  \n",
       "8    0.755033     False  \n",
       "9    0.731154     False  "
      ]
     },
     "metadata": {},
     "output_type": "display_data"
    }
   ],
   "source": [
    "results_df = text_sim.match(queries, targets)\n",
    "\n",
    "\n",
    "#  TODO find the ones that do have matches in the dataset and look them up\n",
    "# TODO find a few that do not have matches and look them up --- will show that they have no match\n",
    "\n",
    "with pd.option_context('display.max_colwidth', None):\n",
    "    display(results_df.head(10))"
   ]
  },
  {
   "cell_type": "markdown",
   "metadata": {},
   "source": [
    "### Indexing and Querying Similar Texts"
   ]
  },
  {
   "cell_type": "code",
   "execution_count": 27,
   "metadata": {},
   "outputs": [],
   "source": [
    "text_sim.reset_index()\n",
    "\n",
    "# add list of texts to the index\n",
    "text_sim.add(targets)"
   ]
  },
  {
   "cell_type": "code",
   "execution_count": 28,
   "metadata": {},
   "outputs": [],
   "source": [
    "result_collection = text_sim.search(queries, similarity_threshold=0.9, k=5)"
   ]
  },
  {
   "cell_type": "code",
   "execution_count": 30,
   "metadata": {},
   "outputs": [
    {
     "name": "stdout",
     "output_type": "stream",
     "text": [
      "Query 0: \"Colibri Mexican Bistro (415) 440-2737 438 Geary St, San Francisco, CA 94102\"\n",
      "Most similar matches:\n",
      "\n",
      "  idx  is_match      similarity  text\n",
      "-----  ----------  ------------  ----------------------------------------------------------------\n",
      "   72  True                0.95  Colibri Mexican Bistro (415) 440-2737 438 Geary Street, San Fran\n",
      "   30  False               0.75  Tommy's Mexican (415) 387-4747 5929 Geary Boulevard, San Francis\n",
      "  127  False               0.74  El Metate (415) 641-7209 2406 Bryant Street, San Francisco, CA\n",
      "  116  False               0.73  The Buena Vista (415) 474-5044 2765 Hyde Street, San Francisco,\n",
      "   55  False               0.72  Sushi Boat (415) 781-5111 389 Geary Street, San Francisco, CA\n"
     ]
    }
   ],
   "source": [
    "text_sim.visualize(result_collection.results[0])"
   ]
  },
  {
   "cell_type": "code",
   "execution_count": 31,
   "metadata": {},
   "outputs": [],
   "source": [
    "new_examples = [\"Googleplex (650) 253-0000 1600 Amphitheatre Parkway, Mountain View, CA 94043\"]\n",
    "text_sim.add(new_examples)"
   ]
  },
  {
   "cell_type": "code",
   "execution_count": 32,
   "metadata": {},
   "outputs": [
    {
     "name": "stdout",
     "output_type": "stream",
     "text": [
      "Query 0: \"googleplx 650-253-0000 1600 amphitheatre parkway, mountain view, ca 94043\"\n",
      "Most similar matches:\n",
      "\n",
      "  idx  is_match      similarity  text\n",
      "-----  ----------  ------------  ----------------------------------------------------------------\n",
      "  304  True                0.92  Googleplex (650) 253-0000 1600 Amphitheatre Parkway, Mountain Vi\n"
     ]
    }
   ],
   "source": [
    "result_collection = text_sim.search([\"googleplx 650-253-0000 1600 amphitheatre parkway, mountain view, ca 94043\"])\n",
    "result = result_collection.results[0]\n",
    "\n",
    "text_sim.visualize(result)"
   ]
  },
  {
   "cell_type": "code",
   "execution_count": 19,
   "metadata": {},
   "outputs": [],
   "source": []
  }
 ],
 "metadata": {
  "kernelspec": {
   "display_name": "Python 3.10.12 64-bit",
   "language": "python",
   "name": "python3"
  },
  "language_info": {
   "codemirror_mode": {
    "name": "ipython",
    "version": 3
   },
   "file_extension": ".py",
   "mimetype": "text/x-python",
   "name": "python",
   "nbconvert_exporter": "python",
   "pygments_lexer": "ipython3",
   "version": "3.10.12"
  },
  "orig_nbformat": 4,
  "vscode": {
   "interpreter": {
    "hash": "e7370f93d1d0cde622a1f8e1c04877d8463912d04d973331ad4851f04de6915a"
   }
  }
 },
 "nbformat": 4,
 "nbformat_minor": 2
}
