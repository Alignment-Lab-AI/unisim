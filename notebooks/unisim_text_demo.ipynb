{
 "cells": [
  {
   "cell_type": "markdown",
   "metadata": {},
   "source": [
    "## Text UniSim Demo\n",
    "\n",
    "This demo showcases how to use Text UniSim (TextSim) for efficient fuzzy string matching, near-duplicate detection, and string similarity using a real-world entity matching dataset.\n",
    "\n",
    "For additional information, please see the documentation on [GitHub](https://github.com/google/unisim). For more details on the RETSim model used by UniSim, please see the [TODO RETSim paper]()."
   ]
  },
  {
   "cell_type": "code",
   "execution_count": 1,
   "metadata": {},
   "outputs": [
    {
     "name": "stdout",
     "output_type": "stream",
     "text": [
      "Loaded backend\n",
      "Using tf with gpu\n"
     ]
    },
    {
     "name": "stderr",
     "output_type": "stream",
     "text": [
      "/usr/local/lib/python3.10/dist-packages/tqdm/auto.py:21: TqdmWarning: IProgress not found. Please update jupyter and ipywidgets. See https://ipywidgets.readthedocs.io/en/stable/user_install.html\n",
      "  from .autonotebook import tqdm as notebook_tqdm\n"
     ]
    }
   ],
   "source": [
    "# installing needed dependencies\n",
    "try:\n",
    "    import unisim\n",
    "except ImportError:\n",
    "    !pip install unisim\n",
    "\n",
    "try:\n",
    "    import datasets\n",
    "except ImportError:\n",
    "    !pip install datasets"
   ]
  },
  {
   "cell_type": "code",
   "execution_count": 2,
   "metadata": {},
   "outputs": [],
   "source": [
    "# imports\n",
    "from datasets import load_dataset\n",
    "from tabulate import tabulate\n",
    "import pandas as pd"
   ]
  },
  {
   "cell_type": "code",
   "execution_count": 3,
   "metadata": {},
   "outputs": [],
   "source": [
    "# import TextSim from UniSim\n",
    "from unisim import TextSim"
   ]
  },
  {
   "cell_type": "markdown",
   "metadata": {},
   "source": [
    "## Load Dataset\n",
    "\n",
    "For this demo, we use entity matching datasets available on [Huggingface](https://huggingface.co/datasets/RUC-DataLab/ER-dataset). We use the `restaurants1.csv` dataset which contains restaurants' names/phone numbers/addresses for this colab.\n",
    "\n",
    "Feel free to explore other examples they offer such as product matching (`walmart_amazon.csv`), paper citation matching (`dblp_scholar.csv`), and beer brands (`beer.csv`). The public datasets are from [DeepMatcher](https://github.com/anhaidgroup/deepmatcher/blob/master/Datasets.md), [Magellan](https://sites.google.com/site/anhaidgroup/useful-stuff/the-magellan-data-repository) and [WDC](http://webdatacommons.org/largescaleproductcorpus/v2/) and you can find a summary of them [here](https://github.com/ruc-datalab/DADER/tree/main)."
   ]
  },
  {
   "cell_type": "code",
   "execution_count": 4,
   "metadata": {},
   "outputs": [
    {
     "name": "stderr",
     "output_type": "stream",
     "text": [
      "/usr/local/lib/python3.10/dist-packages/huggingface_hub/repocard.py:105: UserWarning: Repo card metadata block was not found. Setting CardData to empty.\n",
      "  warnings.warn(\"Repo card metadata block was not found. Setting CardData to empty.\")\n"
     ]
    },
    {
     "name": "stdout",
     "output_type": "stream",
     "text": [
      "Size of dataset: 450\n",
      "Dataset features: ['A_NAME', 'A_PHONENUMBER', 'A_ADDRESS', 'B_NAME', 'B_PHONENUMBER', 'B_ADDRESS', 'label']\n"
     ]
    }
   ],
   "source": [
    "# load dataset from huggingface\n",
    "ds_name = \"restaurants1.csv\"\n",
    "dataset = load_dataset(\"RUC-DataLab/ER-dataset\", data_files=ds_name, split=\"train\")\n",
    "\n",
    "print(\"Size of dataset:\", len(dataset))\n",
    "\n",
    "dataset_features = list(dataset.features.keys())\n",
    "print(\"Dataset features:\", dataset_features)"
   ]
  },
  {
   "cell_type": "code",
   "execution_count": 5,
   "metadata": {},
   "outputs": [],
   "source": [
    "# get features corresponding to pairs of texts in the dataset (text1, text2)\n",
    "text1_features = [x for x in dataset_features if x.startswith(\"A\")]\n",
    "text2_features = [x for x in dataset_features if x.startswith(\"B\")]\n",
    "is_match_feature = \"label\"\n",
    "\n",
    "# create text pairs for example at idx in the dataset\n",
    "def get_text_pair(idx):\n",
    "    ex = dataset[idx]\n",
    "\n",
    "    text1 = \" \".join(str(ex[x]) for x in text1_features)\n",
    "    text2 = \" \".join(str(ex[x]) for x in text2_features)\n",
    "\n",
    "    label = ex[is_match_feature]\n",
    "    return [text1, text2, label]"
   ]
  },
  {
   "cell_type": "markdown",
   "metadata": {},
   "source": [
    "#### Initialize TextSim\n",
    "\n",
    "TextSim supports GPU acceleration (set `use_accelerator=True`) with a specified `batch_size` parameter. If a GPU is not detected, TextSim will default to CPU. By default, TextSim saves a copy of your dataset but you can set `store_data=False` to save memory when using larger datasets.\n",
    "\n",
    "Additionally, TextSim support Approximate Nearest Neighbor (ANN) search through [USearch](https://github.com/unum-cloud/usearch). Setting `index_type=\"approx\"` will make TextSim significantly faster on large datasets (sub-linear search time). However, please note that while ANN search is very accurate, it does not guarantee that it will always find the closest match to a search query."
   ]
  },
  {
   "cell_type": "code",
   "execution_count": 6,
   "metadata": {},
   "outputs": [
    {
     "name": "stderr",
     "output_type": "stream",
     "text": [
      "/usr/local/lib/python3.10/dist-packages/keras/src/initializers/initializers.py:120: UserWarning: The initializer RandomNormal is unseeded and being called multiple times, which will return identical values each time (even if the initializer is unseeded). Please update your code to provide a seed to the initializer, or avoid using the same initializer instance more than once.\n",
      "  warnings.warn(\n"
     ]
    },
    {
     "name": "stdout",
     "output_type": "stream",
     "text": [
      "WARNING:tensorflow:No training configuration found in save file, so the model was *not* compiled. Compile it manually.\n",
      "INFO: UniSim is storing a copy of the indexed data\n",
      "INFO: If you are using large data corpus, consider disabling this behavior using store_data=False\n"
     ]
    }
   ],
   "source": [
    "# create TextSim using default parameter settings\n",
    "text_sim = TextSim(\n",
    "    store_data=True, # set to False for large datasets to save memory\n",
    "    index_type=\"exact\", # set to \"approx\" for large datasets to use ANN search\n",
    "    batch_size=128, # increasing batch_size on GPU may be faster\n",
    "    use_accelerator=True, # uses GPU if available, otherwise uses CPU\n",
    ")"
   ]
  },
  {
   "cell_type": "markdown",
   "metadata": {},
   "source": [
    "#### Computing Similarity between Strings\n",
    "\n",
    "You can compute the similarity between two strings using the `.similarity(string1, string2)` method. The similarity value is a float between 0 and 1, with 1.0 representing identical strings. This is the cosine similarity between the vector representations of the strings.\n",
    "\n",
    "In this example, we compute the similarity between the first 5 pairs of the dataset."
   ]
  },
  {
   "cell_type": "code",
   "execution_count": 7,
   "metadata": {},
   "outputs": [
    {
     "data": {
      "text/html": [
       "<div>\n",
       "<style scoped>\n",
       "    .dataframe tbody tr th:only-of-type {\n",
       "        vertical-align: middle;\n",
       "    }\n",
       "\n",
       "    .dataframe tbody tr th {\n",
       "        vertical-align: top;\n",
       "    }\n",
       "\n",
       "    .dataframe thead th {\n",
       "        text-align: right;\n",
       "    }\n",
       "</style>\n",
       "<table border=\"1\" class=\"dataframe\">\n",
       "  <thead>\n",
       "    <tr style=\"text-align: right;\">\n",
       "      <th></th>\n",
       "      <th>text1</th>\n",
       "      <th>text2</th>\n",
       "      <th>match_label</th>\n",
       "      <th>similarity</th>\n",
       "    </tr>\n",
       "  </thead>\n",
       "  <tbody>\n",
       "    <tr>\n",
       "      <th>0</th>\n",
       "      <td>15 Romolo (415) 398-1359 15 Romolo Place, San ...</td>\n",
       "      <td>15 Romolo (415) 398-1359 15 Romolo Pl, San Fra...</td>\n",
       "      <td>1</td>\n",
       "      <td>0.971069</td>\n",
       "    </tr>\n",
       "    <tr>\n",
       "      <th>1</th>\n",
       "      <td>456 Shanghai Cuisine 1261 69 Mott Street, New ...</td>\n",
       "      <td>Shanghai Asian Manor (212) 766-6311 21 Mott St...</td>\n",
       "      <td>0</td>\n",
       "      <td>0.779613</td>\n",
       "    </tr>\n",
       "    <tr>\n",
       "      <th>2</th>\n",
       "      <td>5A5 Steak Lounge (415) 989-2539 244 Jackson St...</td>\n",
       "      <td>Delicious Dim Sum (415) 781-0721 752 Jackson S...</td>\n",
       "      <td>0</td>\n",
       "      <td>0.687863</td>\n",
       "    </tr>\n",
       "    <tr>\n",
       "      <th>3</th>\n",
       "      <td>9th Street Pizza (213) 627-7798 231 E 9th St, ...</td>\n",
       "      <td>Han Bat Sul Lung Tang (213) 383-9499 4163 W 5t...</td>\n",
       "      <td>0</td>\n",
       "      <td>0.610497</td>\n",
       "    </tr>\n",
       "    <tr>\n",
       "      <th>4</th>\n",
       "      <td>9th Street Pizza (213) 627-7798 231 E 9th St, ...</td>\n",
       "      <td>Jun Won Restaurant (213) 383-8855 3100 W 8th S...</td>\n",
       "      <td>0</td>\n",
       "      <td>0.617363</td>\n",
       "    </tr>\n",
       "  </tbody>\n",
       "</table>\n",
       "</div>"
      ],
      "text/plain": [
       "                                               text1  \\\n",
       "0  15 Romolo (415) 398-1359 15 Romolo Place, San ...   \n",
       "1  456 Shanghai Cuisine 1261 69 Mott Street, New ...   \n",
       "2  5A5 Steak Lounge (415) 989-2539 244 Jackson St...   \n",
       "3  9th Street Pizza (213) 627-7798 231 E 9th St, ...   \n",
       "4  9th Street Pizza (213) 627-7798 231 E 9th St, ...   \n",
       "\n",
       "                                               text2  match_label  similarity  \n",
       "0  15 Romolo (415) 398-1359 15 Romolo Pl, San Fra...            1    0.971069  \n",
       "1  Shanghai Asian Manor (212) 766-6311 21 Mott St...            0    0.779613  \n",
       "2  Delicious Dim Sum (415) 781-0721 752 Jackson S...            0    0.687863  \n",
       "3  Han Bat Sul Lung Tang (213) 383-9499 4163 W 5t...            0    0.610497  \n",
       "4  Jun Won Restaurant (213) 383-8855 3100 W 8th S...            0    0.617363  "
      ]
     },
     "metadata": {},
     "output_type": "display_data"
    }
   ],
   "source": [
    "example_data = [get_text_pair(idx) for idx in range(0, 5)]\n",
    "\n",
    "for i in range(len(example_data)):\n",
    "    text1, text2, is_match = example_data[i]  # ground truth is_match label\n",
    "\n",
    "    # compute similarity between text pair using .similarity\n",
    "    similarity = text_sim.similarity(text1, text2)\n",
    "\n",
    "    example_data[i].append(similarity)\n",
    "\n",
    "# display results in df\n",
    "df = pd.DataFrame(example_data, columns=[\"text1\", \"text2\", \"match_label\", \"similarity\"])\n",
    "display(df.head())"
   ]
  },
  {
   "cell_type": "markdown",
   "metadata": {},
   "source": [
    "We can see that the similarity between the first pair is 0.97, which is very high and indicates that the strings are near-duplicates of each other and the addresses match. The other pairs have far lower similarity values, indicating they are likely not matching strings and indeed, they do not represent the same entity."
   ]
  },
  {
   "cell_type": "markdown",
   "metadata": {},
   "source": [
    "#### Fuzzy String Matching\n",
    "\n",
    "TextSim offers efficient fuzzy string matching between two lists using the `.match` function. The `.match` function accepts `queries` (list of strings you want to find matches for) and `targets` (list of strings you are finding matches in). It returns a Pandas DataFrame, where each row contains a query, its most similar match found in targets, their similarity, and whether or not they are a match (if their similarity is >= `similarity_threshold`). `0.9` is a good starting point for `similarity_threshold` when matching near-duplicate strings.\n",
    "\n",
    "In this example, we show that TextSim is able to match restaurant addresses accurately even when there are typos, abbreviations, and formatting differences."
   ]
  },
  {
   "cell_type": "code",
   "execution_count": 8,
   "metadata": {},
   "outputs": [
    {
     "data": {
      "text/html": [
       "<div>\n",
       "<style scoped>\n",
       "    .dataframe tbody tr th:only-of-type {\n",
       "        vertical-align: middle;\n",
       "    }\n",
       "\n",
       "    .dataframe tbody tr th {\n",
       "        vertical-align: top;\n",
       "    }\n",
       "\n",
       "    .dataframe thead th {\n",
       "        text-align: right;\n",
       "    }\n",
       "</style>\n",
       "<table border=\"1\" class=\"dataframe\">\n",
       "  <thead>\n",
       "    <tr style=\"text-align: right;\">\n",
       "      <th></th>\n",
       "      <th>query</th>\n",
       "      <th>target</th>\n",
       "      <th>similarity</th>\n",
       "      <th>is_match</th>\n",
       "    </tr>\n",
       "  </thead>\n",
       "  <tbody>\n",
       "    <tr>\n",
       "      <th>0</th>\n",
       "      <td>Shanghai asia manor (212)-766-6311 21 Mott street, New York, NY 94133</td>\n",
       "      <td>Shanghai Asian Manor (212) 766-6311 21 Mott St, New York, NY 10013</td>\n",
       "      <td>0.906984</td>\n",
       "      <td>True</td>\n",
       "    </tr>\n",
       "    <tr>\n",
       "      <th>1</th>\n",
       "      <td>Googleplex (650) 253-0000 1600 Amphitheatre Pkwy, Mountain View, CA 94043</td>\n",
       "      <td>15 Romolo (415) 398-1359 15 Romolo Pl, San Francisco, CA 94133</td>\n",
       "      <td>0.466477</td>\n",
       "      <td>False</td>\n",
       "    </tr>\n",
       "    <tr>\n",
       "      <th>2</th>\n",
       "      <td>Sino-american books &amp; arts (415) 421-3345 751 Jackson St, San Francisco, CA 94133</td>\n",
       "      <td>Delicious Dim Sum (415) 781-0721 752 Jackson St, San Francisco, CA 94133</td>\n",
       "      <td>0.746303</td>\n",
       "      <td>False</td>\n",
       "    </tr>\n",
       "  </tbody>\n",
       "</table>\n",
       "</div>"
      ],
      "text/plain": [
       "                                                                               query  \\\n",
       "0              Shanghai asia manor (212)-766-6311 21 Mott street, New York, NY 94133   \n",
       "1          Googleplex (650) 253-0000 1600 Amphitheatre Pkwy, Mountain View, CA 94043   \n",
       "2  Sino-american books & arts (415) 421-3345 751 Jackson St, San Francisco, CA 94133   \n",
       "\n",
       "                                                                     target  \\\n",
       "0        Shanghai Asian Manor (212) 766-6311 21 Mott St, New York, NY 10013   \n",
       "1            15 Romolo (415) 398-1359 15 Romolo Pl, San Francisco, CA 94133   \n",
       "2  Delicious Dim Sum (415) 781-0721 752 Jackson St, San Francisco, CA 94133   \n",
       "\n",
       "   similarity  is_match  \n",
       "0    0.906984      True  \n",
       "1    0.466477     False  \n",
       "2    0.746303     False  "
      ]
     },
     "metadata": {},
     "output_type": "display_data"
    }
   ],
   "source": [
    "# targets to match queries to\n",
    "targets = [\n",
    "    \"Shanghai Asian Manor (212) 766-6311 21 Mott St, New York, NY 10013\",\n",
    "    \"Delicious Dim Sum (415) 781-0721 752 Jackson St, San Francisco, CA 94133\",\n",
    "    \"15 Romolo (415) 398-1359 15 Romolo Pl, San Francisco, CA 94133\",\n",
    "]\n",
    "\n",
    "# search queries we are looking up and finding matches for\n",
    "queries = [\n",
    "    \"Shanghai asia manor (212)-766-6311 21 Mott street, New York, NY 94133\", # near-dup match (capitalization, typos, different format)\n",
    "    \"Googleplex (650) 253-0000 1600 Amphitheatre Pkwy, Mountain View, CA 94043\", # no match\n",
    "    \"Sino-american books & arts (415) 421-3345 751 Jackson St, San Francisco, CA 94133\", # no match, different places but similar address\n",
    "]\n",
    "\n",
    "# .match does fuzzy matching between queries and targets lists\n",
    "results_df = text_sim.match(queries, targets, similarity_threshold=0.9)\n",
    "\n",
    "# display results dataframe\n",
    "with pd.option_context('display.max_colwidth', None):\n",
    "    display(results_df.head(10))"
   ]
  },
  {
   "cell_type": "markdown",
   "metadata": {},
   "source": [
    "We can try this on the whole dataset now. We use the first text in each pair as the target and the second text as the search query."
   ]
  },
  {
   "cell_type": "code",
   "execution_count": 9,
   "metadata": {},
   "outputs": [
    {
     "name": "stdout",
     "output_type": "stream",
     "text": [
      "Dataset examples:\n",
      "Spur Tree Lounge (212) 477-9977 74 Orchard Street, New York, NY\n",
      "Sushi Boat (415) 781-5111 389 Geary Street, San Francisco, CA\n",
      "Falling Water Cafe (608) 831-2000 1313 John Q Hammons Dr, Middleton, WI\n",
      "Shallots Bistro (847) 677-3463 7016 Carpenter Road, Skokie, IL\n",
      "Blu Jam Cafe (323) 951-9191 7371 Melrose Ave, Los Angeles, CA\n"
     ]
    }
   ],
   "source": [
    "targets = list(set([get_text_pair(idx)[0] for idx in range(0, len(dataset))]))\n",
    "queries = list(set([get_text_pair(idx)[1] for idx in range(0, len(dataset))]))\n",
    "\n",
    "print(\"Dataset examples:\")\n",
    "print(\"\\n\".join([t for t in targets[:5]]))"
   ]
  },
  {
   "cell_type": "code",
   "execution_count": 10,
   "metadata": {},
   "outputs": [
    {
     "data": {
      "text/html": [
       "<div>\n",
       "<style scoped>\n",
       "    .dataframe tbody tr th:only-of-type {\n",
       "        vertical-align: middle;\n",
       "    }\n",
       "\n",
       "    .dataframe tbody tr th {\n",
       "        vertical-align: top;\n",
       "    }\n",
       "\n",
       "    .dataframe thead th {\n",
       "        text-align: right;\n",
       "    }\n",
       "</style>\n",
       "<table border=\"1\" class=\"dataframe\">\n",
       "  <thead>\n",
       "    <tr style=\"text-align: right;\">\n",
       "      <th></th>\n",
       "      <th>query</th>\n",
       "      <th>target</th>\n",
       "      <th>similarity</th>\n",
       "      <th>is_match</th>\n",
       "    </tr>\n",
       "  </thead>\n",
       "  <tbody>\n",
       "    <tr>\n",
       "      <th>0</th>\n",
       "      <td>Saigon Sandwich (415) 474-5698 560 Larkin St, San Francisco, CA 94102</td>\n",
       "      <td>Saigon Sandwich (415) 474-5698 560 Larkin Street, San Francisco, CA</td>\n",
       "      <td>0.945792</td>\n",
       "      <td>True</td>\n",
       "    </tr>\n",
       "    <tr>\n",
       "      <th>1</th>\n",
       "      <td>Sapp Coffee Shop (323) 665-1035 5183 Hollywood Blvd, Los Angeles, CA 90027</td>\n",
       "      <td>Hero Shop (213) 265-7561 130 E 6th St, Los Angeles, CA</td>\n",
       "      <td>0.750662</td>\n",
       "      <td>False</td>\n",
       "    </tr>\n",
       "    <tr>\n",
       "      <th>2</th>\n",
       "      <td>Dong II Jang Restaurant (213) 383-5757 3455 W 8th St, Los Angeles, CA 90005</td>\n",
       "      <td>Dong Il Jang (213) 383-5757 3455 W 8th St, Los Angeles, CA</td>\n",
       "      <td>0.895420</td>\n",
       "      <td>False</td>\n",
       "    </tr>\n",
       "    <tr>\n",
       "      <th>3</th>\n",
       "      <td>ZuZu Cafe &amp; Market (608) 260-9898 1336 Drake St, Madison, WI 53715</td>\n",
       "      <td>Zuzu Cafe (608) 260-9898 1336 Drake St, Madison, WI</td>\n",
       "      <td>0.920317</td>\n",
       "      <td>True</td>\n",
       "    </tr>\n",
       "    <tr>\n",
       "      <th>4</th>\n",
       "      <td>BJs Kolaches (715) 340-6267 975 University Ave, Madison, WI 53706</td>\n",
       "      <td>Subway (608) 441-6887 2850 University Ave, Madison, WI</td>\n",
       "      <td>0.733150</td>\n",
       "      <td>False</td>\n",
       "    </tr>\n",
       "    <tr>\n",
       "      <th>5</th>\n",
       "      <td>Simone G.'s review of West River Caf (773) 866-2133 4400 N Kedzie Ave, Chicago, IL 60625</td>\n",
       "      <td>Vee Vee's (773) 465-2424 6232 N. Broadway Street, Chicago, IL</td>\n",
       "      <td>0.681165</td>\n",
       "      <td>False</td>\n",
       "    </tr>\n",
       "    <tr>\n",
       "      <th>6</th>\n",
       "      <td>The Plaza Tavern (608) 255-6592 319 N Henry St, Madison, WI 53703</td>\n",
       "      <td>Plaza Tavern &amp; Grill (608) 255-6592 319 N Henry St, Madison, WI</td>\n",
       "      <td>0.929599</td>\n",
       "      <td>True</td>\n",
       "    </tr>\n",
       "    <tr>\n",
       "      <th>7</th>\n",
       "      <td>Kopi Kopi NYC (212) 777-7285 68 W 3rd St, New York, NY 10012</td>\n",
       "      <td>Stout Restaurant &amp; Bar (212) 629-6191 133 W 33rd Street, New York, NY</td>\n",
       "      <td>0.706246</td>\n",
       "      <td>False</td>\n",
       "    </tr>\n",
       "    <tr>\n",
       "      <th>8</th>\n",
       "      <td>Brian S.'s review of Hong Kong Loung (415) 668-8836 5322 Geary Blvd, San Francisco, CA 94121</td>\n",
       "      <td>Men Oh (415) 386-8802 5120 Geary Boulevard, San Francisco, CA</td>\n",
       "      <td>0.716806</td>\n",
       "      <td>False</td>\n",
       "    </tr>\n",
       "    <tr>\n",
       "      <th>9</th>\n",
       "      <td>Bath &amp; Body Works (608) 826-0626 23 W Towne Mall, Madison, WI 53719</td>\n",
       "      <td>Fast Wok (608) 833-6738 106 W Towne Mall, Madison, WI</td>\n",
       "      <td>0.784806</td>\n",
       "      <td>False</td>\n",
       "    </tr>\n",
       "  </tbody>\n",
       "</table>\n",
       "</div>"
      ],
      "text/plain": [
       "                                                                                          query  \\\n",
       "0                         Saigon Sandwich (415) 474-5698 560 Larkin St, San Francisco, CA 94102   \n",
       "1                    Sapp Coffee Shop (323) 665-1035 5183 Hollywood Blvd, Los Angeles, CA 90027   \n",
       "2                   Dong II Jang Restaurant (213) 383-5757 3455 W 8th St, Los Angeles, CA 90005   \n",
       "3                            ZuZu Cafe & Market (608) 260-9898 1336 Drake St, Madison, WI 53715   \n",
       "4                             BJs Kolaches (715) 340-6267 975 University Ave, Madison, WI 53706   \n",
       "5      Simone G.'s review of West River Caf (773) 866-2133 4400 N Kedzie Ave, Chicago, IL 60625   \n",
       "6                             The Plaza Tavern (608) 255-6592 319 N Henry St, Madison, WI 53703   \n",
       "7                                  Kopi Kopi NYC (212) 777-7285 68 W 3rd St, New York, NY 10012   \n",
       "8  Brian S.'s review of Hong Kong Loung (415) 668-8836 5322 Geary Blvd, San Francisco, CA 94121   \n",
       "9                           Bath & Body Works (608) 826-0626 23 W Towne Mall, Madison, WI 53719   \n",
       "\n",
       "                                                                  target  \\\n",
       "0    Saigon Sandwich (415) 474-5698 560 Larkin Street, San Francisco, CA   \n",
       "1                 Hero Shop (213) 265-7561 130 E 6th St, Los Angeles, CA   \n",
       "2             Dong Il Jang (213) 383-5757 3455 W 8th St, Los Angeles, CA   \n",
       "3                    Zuzu Cafe (608) 260-9898 1336 Drake St, Madison, WI   \n",
       "4                 Subway (608) 441-6887 2850 University Ave, Madison, WI   \n",
       "5          Vee Vee's (773) 465-2424 6232 N. Broadway Street, Chicago, IL   \n",
       "6        Plaza Tavern & Grill (608) 255-6592 319 N Henry St, Madison, WI   \n",
       "7  Stout Restaurant & Bar (212) 629-6191 133 W 33rd Street, New York, NY   \n",
       "8          Men Oh (415) 386-8802 5120 Geary Boulevard, San Francisco, CA   \n",
       "9                  Fast Wok (608) 833-6738 106 W Towne Mall, Madison, WI   \n",
       "\n",
       "   similarity  is_match  \n",
       "0    0.945792      True  \n",
       "1    0.750662     False  \n",
       "2    0.895420     False  \n",
       "3    0.920317      True  \n",
       "4    0.733150     False  \n",
       "5    0.681165     False  \n",
       "6    0.929599      True  \n",
       "7    0.706246     False  \n",
       "8    0.716806     False  \n",
       "9    0.784806     False  "
      ]
     },
     "metadata": {},
     "output_type": "display_data"
    }
   ],
   "source": [
    "results_df = text_sim.match(queries, targets)\n",
    "\n",
    "with pd.option_context('display.max_colwidth', None):\n",
    "    display(results_df.head(10))"
   ]
  },
  {
   "cell_type": "markdown",
   "metadata": {},
   "source": [
    "### Indexing and Searching for Similar Texts in a Dataset\n",
    "\n",
    "TextSim allows you to maintain, update, and query a large index to find similar texts. This gives you more control over indexing and querying your dataset, including how many similar texts you want to retrieve per query and detailed results.\n",
    "\n",
    "You can use the `.add` method to add examples from your dataset to the index, then use  `.search` to search the index and return the most similar texts to your search query."
   ]
  },
  {
   "cell_type": "code",
   "execution_count": 11,
   "metadata": {},
   "outputs": [],
   "source": [
    "# resets the index if you previously added things\n",
    "text_sim.reset_index()\n",
    "\n",
    "# adds the dataset of target examples to the index\n",
    "text_sim.add(targets)\n",
    "\n",
    "# for each query, search for the k=5 most similar texts\n",
    "result_collection = text_sim.search(queries, similarity_threshold=0.9, k=5)"
   ]
  },
  {
   "cell_type": "code",
   "execution_count": 12,
   "metadata": {},
   "outputs": [
    {
     "name": "stdout",
     "output_type": "stream",
     "text": [
      "Total matches found: 103\n"
     ]
    }
   ],
   "source": [
    "# texts are considered near-duplicate matches if their similarity >= similarity_threshold\n",
    "total_matches = result_collection.total_matches\n",
    "print(\"Total matches found:\", total_matches)"
   ]
  },
  {
   "cell_type": "markdown",
   "metadata": {},
   "source": [
    "`result_collection.results` contains a list of results corresponding to each query. Each `Result` object contains the results of a search query, including the number of matches found (`.num_matches`), the idx/data/embedding of the query (`.query_idx`, `.query_data`, `.query_embedding`), and a list of `Match` objects (`.matches`).\n",
    "\n",
    "The list of `Match`'s correspond to the `k` most similar texts found for the query, sorted by similarity (most similar first). Each `Match` object contains info on whether it is a near-duplicate match (`.is_match`), the rank (`.rank`), the data (`.data`), the similarity value (`.similarity`), and the embedding (`.embedding`) of the matched text.\n",
    "\n",
    "You can visualize a search result using `text_sim.visualize(result)`."
   ]
  },
  {
   "cell_type": "code",
   "execution_count": 13,
   "metadata": {},
   "outputs": [
    {
     "name": "stdout",
     "output_type": "stream",
     "text": [
      "Query 0: \"Saigon Sandwich (415) 474-5698 560 Larkin St, San Francisco, CA 94102\"\n",
      "Most similar matches:\n",
      "\n",
      "  idx  is_match      similarity  text\n",
      "-----  ----------  ------------  ----------------------------------------------------------------\n",
      "  280  True                0.95  Saigon Sandwich (415) 474-5698 560 Larkin Street, San Francisco,\n",
      "  106  False               0.72  Rin's (415) 821-4776 4301 24th Street, San Francisco, CA\n",
      "   60  False               0.72  La Santaneca (415) 648-1034 3781 Mission Street, San Francisco,\n",
      "  211  False               0.71  Pakwan (415) 255-2440 3182 16th Street, San Francisco, CA\n",
      "  290  False               0.7   Rosamunde Sausage Grill (415) 437-6851 545 Haight Street, San Fr\n"
     ]
    }
   ],
   "source": [
    "# visualize results for each query using .visualize\n",
    "query_idx = 0\n",
    "result = result_collection.results[query_idx]\n",
    "text_sim.visualize(result)"
   ]
  },
  {
   "cell_type": "code",
   "execution_count": 14,
   "metadata": {},
   "outputs": [
    {
     "name": "stdout",
     "output_type": "stream",
     "text": [
      "Query 0: \"Saigon Sandwich (415) 474-5698 560 Larkin St, San Francisco, CA 94102\"\n",
      "Most similar matches:\n",
      "\n",
      "  idx  is_match      similarity  text\n",
      "-----  ----------  ------------  ----------------------------------------------------------------\n",
      "  280  True                0.95  Saigon Sandwich (415) 474-5698 560 Larkin Street, San Francisco,\n",
      "  106  False               0.72  Rin's (415) 821-4776 4301 24th Street, San Francisco, CA\n",
      "   60  False               0.72  La Santaneca (415) 648-1034 3781 Mission Street, San Francisco,\n",
      "  211  False               0.71  Pakwan (415) 255-2440 3182 16th Street, San Francisco, CA\n",
      "  290  False               0.7   Rosamunde Sausage Grill (415) 437-6851 545 Haight Street, San Fr\n"
     ]
    }
   ],
   "source": [
    "# visualize a matching result\n",
    "first_matching_idx = None\n",
    "for result in result_collection.results:\n",
    "    if result.num_matches > 0:\n",
    "        first_matching_idx = result.query_idx\n",
    "        break\n",
    "\n",
    "result = result_collection.results[first_matching_idx]\n",
    "text_sim.visualize(result)"
   ]
  },
  {
   "cell_type": "markdown",
   "metadata": {},
   "source": [
    "You can keep adding examples and querying your index after you create it. This is useful for production use-cases, where you have incoming data or frequently need to query your index."
   ]
  },
  {
   "cell_type": "code",
   "execution_count": 15,
   "metadata": {},
   "outputs": [
    {
     "name": "stdout",
     "output_type": "stream",
     "text": [
      "Query 0: \"googleplx 650-253-0000 1600 amphitheatre parkway, mountain view, ca 94043\"\n",
      "Most similar matches:\n",
      "\n",
      "  idx  is_match      similarity  text\n",
      "-----  ----------  ------------  ----------------------------------------------------------------\n",
      "  304  True                0.92  Googleplex (650) 253-0000 1600 Amphitheatre Parkway, Mountain Vi\n",
      "  159  False               0.52  KFC (608) 849-5004 600 W Main St, Waunakee, WI\n",
      "  158  False               0.51  Gus's Diner (608) 318-0900 630 N Westmount Dr, Sun Prairie, WI\n",
      "  210  False               0.5   Sweet Maple (415) 655-9169 2101 Sutter Street, San Francisco, CA\n",
      "   18  False               0.49  Pho Nam (608) 836-7040 610 Junction Rd Suite 109, Madison, WI\n"
     ]
    }
   ],
   "source": [
    "# add new example to the index\n",
    "new_examples = [\"Googleplex (650) 253-0000 1600 Amphitheatre Parkway, Mountain View, CA 94043\"]\n",
    "text_sim.add(new_examples)\n",
    "\n",
    "# search for the example, with typos in our query\n",
    "result_collection = text_sim.search([\"googleplx 650-253-0000 1600 amphitheatre parkway, mountain view, ca 94043\"], k=5)\n",
    "\n",
    "result = result_collection.results[0]\n",
    "text_sim.visualize(result)"
   ]
  }
 ],
 "metadata": {
  "kernelspec": {
   "display_name": "Python 3.10.12 64-bit",
   "language": "python",
   "name": "python3"
  },
  "language_info": {
   "codemirror_mode": {
    "name": "ipython",
    "version": 3
   },
   "file_extension": ".py",
   "mimetype": "text/x-python",
   "name": "python",
   "nbconvert_exporter": "python",
   "pygments_lexer": "ipython3",
   "version": "3.10.12"
  },
  "orig_nbformat": 4,
  "vscode": {
   "interpreter": {
    "hash": "e7370f93d1d0cde622a1f8e1c04877d8463912d04d973331ad4851f04de6915a"
   }
  }
 },
 "nbformat": 4,
 "nbformat_minor": 2
}
