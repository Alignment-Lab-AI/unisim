{
 "cells": [
  {
   "cell_type": "code",
   "execution_count": 1,
   "metadata": {},
   "outputs": [
    {
     "name": "stderr",
     "output_type": "stream",
     "text": [
      "/usr/local/lib/python3.10/dist-packages/tqdm/auto.py:21: TqdmWarning: IProgress not found. Please update jupyter and ipywidgets. See https://ipywidgets.readthedocs.io/en/stable/user_install.html\n",
      "  from .autonotebook import tqdm as notebook_tqdm\n"
     ]
    },
    {
     "name": "stdout",
     "output_type": "stream",
     "text": [
      "Loaded backend\n",
      "Using onnx with cpu\n"
     ]
    },
    {
     "name": "stderr",
     "output_type": "stream",
     "text": [
      "2023-11-16 23:59:55.813034: E tensorflow/compiler/xla/stream_executor/cuda/cuda_driver.cc:268] failed call to cuInit: CUDA_ERROR_NO_DEVICE: no CUDA-capable device is detected\n"
     ]
    }
   ],
   "source": [
    "from datasets import load_dataset\n",
    "from unisim import TextSim"
   ]
  },
  {
   "cell_type": "markdown",
   "metadata": {},
   "source": [
    "## Load Dataset\n",
    "\n",
    "For this example, we use a product matching dataset \n",
    "\n",
    "https://huggingface.co/datasets/RUC-DataLab/ER-dataset\n",
    "\n",
    "https://github.com/ruc-datalab/DADER\n",
    "\n",
    "There are additional datasets that test entity retrieval and matching\n",
    "\n",
    "citation, product matching, restaurant matching"
   ]
  },
  {
   "cell_type": "code",
   "execution_count": 2,
   "metadata": {},
   "outputs": [
    {
     "name": "stderr",
     "output_type": "stream",
     "text": [
      "/usr/local/lib/python3.10/dist-packages/huggingface_hub/repocard.py:105: UserWarning: Repo card metadata block was not found. Setting CardData to empty.\n",
      "  warnings.warn(\"Repo card metadata block was not found. Setting CardData to empty.\")\n"
     ]
    }
   ],
   "source": [
    "dataset = load_dataset(\"RUC-DataLab/ER-dataset\", data_files=\"restaurants1.csv\", split=\"train\")"
   ]
  },
  {
   "cell_type": "code",
   "execution_count": 3,
   "metadata": {},
   "outputs": [
    {
     "data": {
      "text/plain": [
       "dict_keys(['A_NAME', 'A_PHONENUMBER', 'A_ADDRESS', 'B_NAME', 'B_PHONENUMBER', 'B_ADDRESS', 'label'])"
      ]
     },
     "execution_count": 3,
     "metadata": {},
     "output_type": "execute_result"
    }
   ],
   "source": [
    "dataset.features.keys()"
   ]
  },
  {
   "cell_type": "code",
   "execution_count": 4,
   "metadata": {},
   "outputs": [
    {
     "data": {
      "text/plain": [
       "450"
      ]
     },
     "execution_count": 4,
     "metadata": {},
     "output_type": "execute_result"
    }
   ],
   "source": [
    "len(dataset)"
   ]
  },
  {
   "cell_type": "code",
   "execution_count": 7,
   "metadata": {},
   "outputs": [
    {
     "name": "stdout",
     "output_type": "stream",
     "text": [
      "INFO: UniSim is storing a copy of the indexed data\n",
      "INFO: If you are using large data corpus, consider disabling this behavior using store_data=False\n",
      "INFO: Accelerator is not available, using CPU\n"
     ]
    }
   ],
   "source": [
    "text_sim = TextSim()"
   ]
  },
  {
   "cell_type": "code",
   "execution_count": null,
   "metadata": {},
   "outputs": [],
   "source": []
  },
  {
   "cell_type": "code",
   "execution_count": 6,
   "metadata": {},
   "outputs": [],
   "source": [
    "# restaurants, products are good to do like differences in matching addresses etc easy to do \n",
    "\n",
    "# restaurants1 not bad, better than fodors zagats which gets 100 percent\n",
    "# beer is pretty good\n",
    "# walmart amazon not bad\n",
    "\n",
    "# itunes_amazon is meh maybe too easy\n",
    "# dblp_sholcar and acm decent might be too easy , scholar is harder than ACM which is like 99% accuracy\n",
    "# restauratnts 3 and 4 are decent but might be too easy\n",
    "# fodors zagats too aesy\n",
    "\n",
    "# not good because book editions books 4 > book 2\n",
    "# anime not easy either its like the diference is saesons \n",
    "# cosmetics not good either, it's like different colors are not clasified as the same thing\n",
    "# abt_buy not that good, missing descriptions and not super clean it seems \n",
    "# movies1 not good year range is kinda weird/ \n",
    "# shoes and comuters not great, there are near-dups that are marked as not the same item \n",
    "# ebboks not good, based on similarity description similarity \n"
   ]
  }
 ],
 "metadata": {
  "kernelspec": {
   "display_name": "Python 3.10.12 64-bit",
   "language": "python",
   "name": "python3"
  },
  "language_info": {
   "codemirror_mode": {
    "name": "ipython",
    "version": 3
   },
   "file_extension": ".py",
   "mimetype": "text/x-python",
   "name": "python",
   "nbconvert_exporter": "python",
   "pygments_lexer": "ipython3",
   "version": "3.10.12"
  },
  "orig_nbformat": 4,
  "vscode": {
   "interpreter": {
    "hash": "e7370f93d1d0cde622a1f8e1c04877d8463912d04d973331ad4851f04de6915a"
   }
  }
 },
 "nbformat": 4,
 "nbformat_minor": 2
}
