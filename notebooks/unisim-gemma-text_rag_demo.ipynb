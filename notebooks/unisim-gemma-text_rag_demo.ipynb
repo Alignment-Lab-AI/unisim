{
 "cells": [
  {
   "cell_type": "markdown",
   "metadata": {},
   "source": [
    "# explain colab here\n",
    "\n",
    "Explain unisim / textsim and link to the capabilities colab "
   ]
  },
  {
   "cell_type": "code",
   "execution_count": 210,
   "metadata": {},
   "outputs": [
    {
     "name": "stdout",
     "output_type": "stream",
     "text": [
      "Requirement already satisfied: tqdm in /Users/elieb/git/unisim/.env/lib/python3.11/site-packages (4.66.1)\n",
      "Collecting tqdm\n",
      "  Obtaining dependency information for tqdm from https://files.pythonhosted.org/packages/18/eb/fdb7eb9e48b7b02554e1664afd3bd3f117f6b6d6c5881438a0b055554f9b/tqdm-4.66.4-py3-none-any.whl.metadata\n",
      "  Downloading tqdm-4.66.4-py3-none-any.whl.metadata (57 kB)\n",
      "\u001b[2K     \u001b[90m━━━━━━━━━━━━━━━━━━━━━━━━━━━━━━━━━━━━━━━━\u001b[0m \u001b[32m57.6/57.6 kB\u001b[0m \u001b[31m1.5 MB/s\u001b[0m eta \u001b[36m0:00:00\u001b[0m\n",
      "\u001b[?25hRequirement already satisfied: Iprogress in /Users/elieb/git/unisim/.env/lib/python3.11/site-packages (0.4)\n",
      "Requirement already satisfied: unisim in /Users/elieb/git/unisim (0.0.1)\n",
      "Requirement already satisfied: ollama in /Users/elieb/git/unisim/.env/lib/python3.11/site-packages (0.2.0)\n",
      "Requirement already satisfied: tabulate in /Users/elieb/git/unisim/.env/lib/python3.11/site-packages (0.9.0)\n",
      "Requirement already satisfied: six in /Users/elieb/git/unisim/.env/lib/python3.11/site-packages (from Iprogress) (1.16.0)\n",
      "Requirement already satisfied: httpx<0.28.0,>=0.27.0 in /Users/elieb/git/unisim/.env/lib/python3.11/site-packages (from ollama) (0.27.0)\n",
      "Requirement already satisfied: anyio in /Users/elieb/git/unisim/.env/lib/python3.11/site-packages (from httpx<0.28.0,>=0.27.0->ollama) (4.3.0)\n",
      "Requirement already satisfied: certifi in /Users/elieb/git/unisim/.env/lib/python3.11/site-packages (from httpx<0.28.0,>=0.27.0->ollama) (2023.7.22)\n",
      "Requirement already satisfied: httpcore==1.* in /Users/elieb/git/unisim/.env/lib/python3.11/site-packages (from httpx<0.28.0,>=0.27.0->ollama) (1.0.5)\n",
      "Requirement already satisfied: idna in /Users/elieb/git/unisim/.env/lib/python3.11/site-packages (from httpx<0.28.0,>=0.27.0->ollama) (3.4)\n",
      "Requirement already satisfied: sniffio in /Users/elieb/git/unisim/.env/lib/python3.11/site-packages (from httpx<0.28.0,>=0.27.0->ollama) (1.3.1)\n",
      "Requirement already satisfied: h11<0.15,>=0.13 in /Users/elieb/git/unisim/.env/lib/python3.11/site-packages (from httpcore==1.*->httpx<0.28.0,>=0.27.0->ollama) (0.14.0)\n",
      "Downloading tqdm-4.66.4-py3-none-any.whl (78 kB)\n",
      "\u001b[2K   \u001b[90m━━━━━━━━━━━━━━━━━━━━━━━━━━━━━━━━━━━━━━━━\u001b[0m \u001b[32m78.3/78.3 kB\u001b[0m \u001b[31m5.9 MB/s\u001b[0m eta \u001b[36m0:00:00\u001b[0m\n",
      "\u001b[?25hInstalling collected packages: tqdm\n",
      "  Attempting uninstall: tqdm\n",
      "    Found existing installation: tqdm 4.66.1\n",
      "    Uninstalling tqdm-4.66.1:\n",
      "      Successfully uninstalled tqdm-4.66.1\n",
      "Successfully installed tqdm-4.66.4\n",
      "\n",
      "\u001b[1m[\u001b[0m\u001b[34;49mnotice\u001b[0m\u001b[1;39;49m]\u001b[0m\u001b[39;49m A new release of pip is available: \u001b[0m\u001b[31;49m23.2.1\u001b[0m\u001b[39;49m -> \u001b[0m\u001b[32;49m24.0\u001b[0m\n",
      "\u001b[1m[\u001b[0m\u001b[34;49mnotice\u001b[0m\u001b[1;39;49m]\u001b[0m\u001b[39;49m To update, run: \u001b[0m\u001b[32;49mpip install --upgrade pip\u001b[0m\n"
     ]
    }
   ],
   "source": [
    "# installing dependencies\n",
    "!pip install -U tqdm Iprogress unisim ollama tabulate"
   ]
  },
  {
   "cell_type": "code",
   "execution_count": 1,
   "metadata": {},
   "outputs": [
    {
     "name": "stderr",
     "output_type": "stream",
     "text": [
      "/Users/elieb/git/unisim/.env/lib/python3.11/site-packages/tqdm/auto.py:21: TqdmWarning: IProgress not found. Please update jupyter and ipywidgets. See https://ipywidgets.readthedocs.io/en/stable/user_install.html\n",
      "  from .autonotebook import tqdm as notebook_tqdm\n"
     ]
    },
    {
     "name": "stdout",
     "output_type": "stream",
     "text": [
      "INFO: Loaded backend\n",
      "INFO: Using ONNX with CPU\n"
     ]
    }
   ],
   "source": [
    "# Importing libraries\n",
    "import json\n",
    "from tabulate import tabulate\n",
    "from tqdm.auto import tqdm\n",
    "import ollama\n",
    "import unisim\n"
   ]
  },
  {
   "cell_type": "markdown",
   "metadata": {},
   "source": [
    "## Pre-Flight checks\n",
    "Quickly testing that ollama, Gemma and Unisim are all setup and working well"
   ]
  },
  {
   "cell_type": "code",
   "execution_count": 212,
   "metadata": {},
   "outputs": [
    {
     "data": {
      "text/plain": [
       "{'license': 'Gemma Terms of Use \\n\\nLast modified: February 21, 2024\\n\\nBy using, reproducing, modifying, distributing, performing or displaying any portion or element of Gemma, Model Derivatives including via any Hosted Service, (each as defined below) (collectively, the \"Gemma Services\") or otherwise accepting the terms of this Agreement, you agree to be bound by this Agreement.\\n\\nSection 1: DEFINITIONS\\n1.1 Definitions\\n(a) \"Agreement\" or \"Gemma Terms of Use\" means these terms and conditions that govern the use, reproduction, Distribution or modification of the Gemma Services and any terms and conditions incorporated by reference.\\n\\n(b) \"Distribution\" or \"Distribute\" means any transmission, publication, or other sharing of Gemma or Model Derivatives to a third party, including by providing or making Gemma or its functionality available as a hosted service via API, web access, or any other electronic or remote means (\"Hosted Service\").\\n\\n(c) \"Gemma\" means the set of machine learning language models, trained model weights and parameters identified at ai.google.dev/gemma, regardless of the source that you obtained it from.\\n\\n(d) \"Google\" means Google LLC.\\n\\n(e) \"Model Derivatives\" means all (i) modifications to Gemma, (ii) works based on Gemma, or (iii) any other machine learning model which is created by transfer of patterns of the weights, parameters, operations, or Output of Gemma, to that model in order to cause that model to perform similarly to Gemma, including distillation methods that use intermediate data representations or methods based on the generation of synthetic data Outputs by Gemma for training that model. For clarity, Outputs are not deemed Model Derivatives.\\n\\n(f) \"Output\" means the information content output of Gemma or a Model Derivative that results from operating or otherwise using Gemma or the Model Derivative, including via a Hosted Service.\\n\\n1.2\\nAs used in this Agreement, \"including\" means \"including without limitation\".\\n\\nSection 2: ELIGIBILITY AND USAGE\\n2.1 Eligibility\\nYou represent and warrant that you have the legal capacity to enter into this Agreement (including being of sufficient age of consent). If you are accessing or using any of the Gemma Services for or on behalf of a legal entity, (a) you are entering into this Agreement on behalf of yourself and that legal entity, (b) you represent and warrant that you have the authority to act on behalf of and bind that entity to this Agreement and (c) references to \"you\" or \"your\" in the remainder of this Agreement refers to both you (as an individual) and that entity.\\n\\n2.2 Use\\nYou may use, reproduce, modify, Distribute, perform or display any of the Gemma Services only in accordance with the terms of this Agreement, and must not violate (or encourage or permit anyone else to violate) any term of this Agreement.\\n\\nSection 3: DISTRIBUTION AND RESTRICTIONS\\n3.1 Distribution and Redistribution\\nYou may reproduce or Distribute copies of Gemma or Model Derivatives if you meet all of the following conditions:\\n\\nYou must include the use restrictions referenced in Section 3.2 as an enforceable provision in any agreement (e.g., license agreement, terms of use, etc.) governing the use and/or distribution of Gemma or Model Derivatives and you must provide notice to subsequent users you Distribute to that Gemma or Model Derivatives are subject to the use restrictions in Section 3.2.\\nYou must provide all third party recipients of Gemma or Model Derivatives a copy of this Agreement.\\nYou must cause any modified files to carry prominent notices stating that you modified the files.\\nAll Distributions (other than through a Hosted Service) must be accompanied by a \"Notice\" text file that contains the following notice: \"Gemma is provided under and subject to the Gemma Terms of Use found at ai.google.dev/gemma/terms\".\\nYou may add your own intellectual property statement to your modifications and, except as set forth in this Section, may provide additional or different terms and conditions for use, reproduction, or Distribution of your modifications, or for any such Model Derivatives as a whole, provided your use, reproduction, modification, Distribution, performance, and display of Gemma otherwise complies with the terms and conditions of this Agreement. Any additional or different terms and conditions you impose must not conflict with the terms of this Agreement.\\n\\n3.2 Use Restrictions\\nYou must not use any of the Gemma Services:\\n\\nfor the restricted uses set forth in the Gemma Prohibited Use Policy at ai.google.dev/gemma/prohibited_use_policy (\"Prohibited Use Policy\"), which is hereby incorporated by reference into this Agreement; or\\nin violation of applicable laws and regulations.\\nTo the maximum extent permitted by law, Google reserves the right to restrict (remotely or otherwise) usage of any of the Gemma Services that Google reasonably believes are in violation of this Agreement.\\n\\n3.3 Generated Output\\nGoogle claims no rights in Outputs you generate using Gemma. You and your users are solely responsible for Outputs and their subsequent uses.\\n\\nSection 4: ADDITIONAL PROVISIONS\\n4.1 Updates\\nGoogle may update Gemma from time to time, and you must make reasonable efforts to use the latest version of Gemma.\\n\\n4.2 Trademarks\\nNothing in this Agreement grants you any rights to use Google\\'s trademarks, trade names, logos or to otherwise suggest endorsement or misrepresent the relationship between you and Google. Google reserves any rights not expressly granted herein.\\n\\n4.3 DISCLAIMER OF WARRANTY\\nUNLESS REQUIRED BY APPLICABLE LAW, THE GEMMA SERVICES, AND OUTPUTS, ARE PROVIDED ON AN \"AS IS\" BASIS, WITHOUT WARRANTIES OR CONDITIONS OF ANY KIND, EITHER EXPRESS OR IMPLIED, INCLUDING ANY WARRANTIES OR CONDITIONS OF TITLE, NON-INFRINGEMENT, MERCHANTABILITY, OR FITNESS FOR A PARTICULAR PURPOSE. YOU ARE SOLELY RESPONSIBLE FOR DETERMINING THE APPROPRIATENESS OF USING, REPRODUCING, MODIFYING, PERFORMING, DISPLAYING OR OR DISTRIBUTING ANY OF THE GEMMA SERVICES OR OUTPUTS AND ASSUME ANY AND ALL RISKS ASSOCIATED WITH YOUR USE OR DISTRIBUTION OF ANY OF THE GEMMA SERVICES OR OUTPUTS AND YOUR EXERCISE OF RIGHTS AND PERMISSIONS UNDER THIS AGREEMENT.\\n\\n4.4 LIMITATION OF LIABILITY\\nTO THE FULLEST EXTENT PERMITTED BY APPLICABLE LAW, IN NO EVENT AND UNDER NO LEGAL THEORY, WHETHER IN TORT (INCLUDING NEGLIGENCE), PRODUCT LIABILITY, CONTRACT, OR OTHERWISE, UNLESS REQUIRED BY APPLICABLE LAW, SHALL GOOGLE OR ITS AFFILIATES BE LIABLE TO YOU FOR DAMAGES, INCLUDING ANY DIRECT, INDIRECT, SPECIAL, INCIDENTAL, EXEMPLARY, CONSEQUENTIAL, OR PUNITIVE DAMAGES, OR LOST PROFITS OF ANY KIND ARISING FROM THIS AGREEMENT OR RELATED TO, ANY OF THE GEMMA SERVICES OR OUTPUTS EVEN IF GOOGLE OR ITS AFFILIATES HAVE BEEN ADVISED OF THE POSSIBILITY OF SUCH DAMAGES.\\n\\n4.5 Term, Termination, and Survival\\nThe term of this Agreement will commence upon your acceptance of this Agreement (including acceptance by your use, modification, or Distribution, reproduction, performance or display of any portion or element of the Gemma Services) and will continue in full force and effect until terminated in accordance with the terms of this Agreement. Google may terminate this Agreement if you are in breach of any term of this Agreement. Upon termination of this Agreement, you must delete and cease use and Distribution of all copies of Gemma and Model Derivatives in your possession or control. Sections 1, 2.1, 3.3, 4.2 to 4.9 shall survive the termination of this Agreement.\\n\\n4.6 Governing Law and Jurisdiction\\nThis Agreement will be governed by the laws of the State of California without regard to choice of law principles. The UN Convention on Contracts for the International Sale of Goods does not apply to this Agreement. The state and federal courts of Santa Clara County, California shall have exclusive jurisdiction of any dispute arising out of this Agreement.\\n\\n4.7 Severability\\nIf any provision of this Agreement is held to be invalid, illegal or unenforceable, the remaining provisions shall be unaffected thereby and remain valid as if such provision had not been set forth herein.\\n\\n4.8 Entire Agreement\\nThis Agreement states all the terms agreed between the parties and supersedes all other agreements between the parties as of the date of acceptance relating to its subject matter.\\n\\n4.9 No Waiver\\nGoogle will not be treated as having waived any rights by not exercising (or delaying the exercise of) any rights under this Agreement.\\n\\n',\n",
       " 'modelfile': '# Modelfile generate by \"ollama show\"\\n# To build a new Modelfile based on this, replace FROM with:\\n# FROM gemma:latest\\n\\nFROM /Users/elieb/.ollama/models/blobs/sha256-ef311de6af9db043d51ca4b1e766c28e0a1ac41d60420fed5e001dc470c64b77\\nTEMPLATE \"<start_of_turn>user\\n{{ if .System }}{{ .System }} {{ end }}{{ .Prompt }}<end_of_turn>\\n<start_of_turn>model\\n{{ .Response }}<end_of_turn>\\n\"\\nPARAMETER penalize_newline false\\nPARAMETER repeat_penalty 1\\nPARAMETER stop <start_of_turn>\\nPARAMETER stop <end_of_turn>\\nLICENSE \"\"\"Gemma Terms of Use \\n\\nLast modified: February 21, 2024\\n\\nBy using, reproducing, modifying, distributing, performing or displaying any portion or element of Gemma, Model Derivatives including via any Hosted Service, (each as defined below) (collectively, the \"Gemma Services\") or otherwise accepting the terms of this Agreement, you agree to be bound by this Agreement.\\n\\nSection 1: DEFINITIONS\\n1.1 Definitions\\n(a) \"Agreement\" or \"Gemma Terms of Use\" means these terms and conditions that govern the use, reproduction, Distribution or modification of the Gemma Services and any terms and conditions incorporated by reference.\\n\\n(b) \"Distribution\" or \"Distribute\" means any transmission, publication, or other sharing of Gemma or Model Derivatives to a third party, including by providing or making Gemma or its functionality available as a hosted service via API, web access, or any other electronic or remote means (\"Hosted Service\").\\n\\n(c) \"Gemma\" means the set of machine learning language models, trained model weights and parameters identified at ai.google.dev/gemma, regardless of the source that you obtained it from.\\n\\n(d) \"Google\" means Google LLC.\\n\\n(e) \"Model Derivatives\" means all (i) modifications to Gemma, (ii) works based on Gemma, or (iii) any other machine learning model which is created by transfer of patterns of the weights, parameters, operations, or Output of Gemma, to that model in order to cause that model to perform similarly to Gemma, including distillation methods that use intermediate data representations or methods based on the generation of synthetic data Outputs by Gemma for training that model. For clarity, Outputs are not deemed Model Derivatives.\\n\\n(f) \"Output\" means the information content output of Gemma or a Model Derivative that results from operating or otherwise using Gemma or the Model Derivative, including via a Hosted Service.\\n\\n1.2\\nAs used in this Agreement, \"including\" means \"including without limitation\".\\n\\nSection 2: ELIGIBILITY AND USAGE\\n2.1 Eligibility\\nYou represent and warrant that you have the legal capacity to enter into this Agreement (including being of sufficient age of consent). If you are accessing or using any of the Gemma Services for or on behalf of a legal entity, (a) you are entering into this Agreement on behalf of yourself and that legal entity, (b) you represent and warrant that you have the authority to act on behalf of and bind that entity to this Agreement and (c) references to \"you\" or \"your\" in the remainder of this Agreement refers to both you (as an individual) and that entity.\\n\\n2.2 Use\\nYou may use, reproduce, modify, Distribute, perform or display any of the Gemma Services only in accordance with the terms of this Agreement, and must not violate (or encourage or permit anyone else to violate) any term of this Agreement.\\n\\nSection 3: DISTRIBUTION AND RESTRICTIONS\\n3.1 Distribution and Redistribution\\nYou may reproduce or Distribute copies of Gemma or Model Derivatives if you meet all of the following conditions:\\n\\nYou must include the use restrictions referenced in Section 3.2 as an enforceable provision in any agreement (e.g., license agreement, terms of use, etc.) governing the use and/or distribution of Gemma or Model Derivatives and you must provide notice to subsequent users you Distribute to that Gemma or Model Derivatives are subject to the use restrictions in Section 3.2.\\nYou must provide all third party recipients of Gemma or Model Derivatives a copy of this Agreement.\\nYou must cause any modified files to carry prominent notices stating that you modified the files.\\nAll Distributions (other than through a Hosted Service) must be accompanied by a \"Notice\" text file that contains the following notice: \"Gemma is provided under and subject to the Gemma Terms of Use found at ai.google.dev/gemma/terms\".\\nYou may add your own intellectual property statement to your modifications and, except as set forth in this Section, may provide additional or different terms and conditions for use, reproduction, or Distribution of your modifications, or for any such Model Derivatives as a whole, provided your use, reproduction, modification, Distribution, performance, and display of Gemma otherwise complies with the terms and conditions of this Agreement. Any additional or different terms and conditions you impose must not conflict with the terms of this Agreement.\\n\\n3.2 Use Restrictions\\nYou must not use any of the Gemma Services:\\n\\nfor the restricted uses set forth in the Gemma Prohibited Use Policy at ai.google.dev/gemma/prohibited_use_policy (\"Prohibited Use Policy\"), which is hereby incorporated by reference into this Agreement; or\\nin violation of applicable laws and regulations.\\nTo the maximum extent permitted by law, Google reserves the right to restrict (remotely or otherwise) usage of any of the Gemma Services that Google reasonably believes are in violation of this Agreement.\\n\\n3.3 Generated Output\\nGoogle claims no rights in Outputs you generate using Gemma. You and your users are solely responsible for Outputs and their subsequent uses.\\n\\nSection 4: ADDITIONAL PROVISIONS\\n4.1 Updates\\nGoogle may update Gemma from time to time, and you must make reasonable efforts to use the latest version of Gemma.\\n\\n4.2 Trademarks\\nNothing in this Agreement grants you any rights to use Google\\'s trademarks, trade names, logos or to otherwise suggest endorsement or misrepresent the relationship between you and Google. Google reserves any rights not expressly granted herein.\\n\\n4.3 DISCLAIMER OF WARRANTY\\nUNLESS REQUIRED BY APPLICABLE LAW, THE GEMMA SERVICES, AND OUTPUTS, ARE PROVIDED ON AN \"AS IS\" BASIS, WITHOUT WARRANTIES OR CONDITIONS OF ANY KIND, EITHER EXPRESS OR IMPLIED, INCLUDING ANY WARRANTIES OR CONDITIONS OF TITLE, NON-INFRINGEMENT, MERCHANTABILITY, OR FITNESS FOR A PARTICULAR PURPOSE. YOU ARE SOLELY RESPONSIBLE FOR DETERMINING THE APPROPRIATENESS OF USING, REPRODUCING, MODIFYING, PERFORMING, DISPLAYING OR OR DISTRIBUTING ANY OF THE GEMMA SERVICES OR OUTPUTS AND ASSUME ANY AND ALL RISKS ASSOCIATED WITH YOUR USE OR DISTRIBUTION OF ANY OF THE GEMMA SERVICES OR OUTPUTS AND YOUR EXERCISE OF RIGHTS AND PERMISSIONS UNDER THIS AGREEMENT.\\n\\n4.4 LIMITATION OF LIABILITY\\nTO THE FULLEST EXTENT PERMITTED BY APPLICABLE LAW, IN NO EVENT AND UNDER NO LEGAL THEORY, WHETHER IN TORT (INCLUDING NEGLIGENCE), PRODUCT LIABILITY, CONTRACT, OR OTHERWISE, UNLESS REQUIRED BY APPLICABLE LAW, SHALL GOOGLE OR ITS AFFILIATES BE LIABLE TO YOU FOR DAMAGES, INCLUDING ANY DIRECT, INDIRECT, SPECIAL, INCIDENTAL, EXEMPLARY, CONSEQUENTIAL, OR PUNITIVE DAMAGES, OR LOST PROFITS OF ANY KIND ARISING FROM THIS AGREEMENT OR RELATED TO, ANY OF THE GEMMA SERVICES OR OUTPUTS EVEN IF GOOGLE OR ITS AFFILIATES HAVE BEEN ADVISED OF THE POSSIBILITY OF SUCH DAMAGES.\\n\\n4.5 Term, Termination, and Survival\\nThe term of this Agreement will commence upon your acceptance of this Agreement (including acceptance by your use, modification, or Distribution, reproduction, performance or display of any portion or element of the Gemma Services) and will continue in full force and effect until terminated in accordance with the terms of this Agreement. Google may terminate this Agreement if you are in breach of any term of this Agreement. Upon termination of this Agreement, you must delete and cease use and Distribution of all copies of Gemma and Model Derivatives in your possession or control. Sections 1, 2.1, 3.3, 4.2 to 4.9 shall survive the termination of this Agreement.\\n\\n4.6 Governing Law and Jurisdiction\\nThis Agreement will be governed by the laws of the State of California without regard to choice of law principles. The UN Convention on Contracts for the International Sale of Goods does not apply to this Agreement. The state and federal courts of Santa Clara County, California shall have exclusive jurisdiction of any dispute arising out of this Agreement.\\n\\n4.7 Severability\\nIf any provision of this Agreement is held to be invalid, illegal or unenforceable, the remaining provisions shall be unaffected thereby and remain valid as if such provision had not been set forth herein.\\n\\n4.8 Entire Agreement\\nThis Agreement states all the terms agreed between the parties and supersedes all other agreements between the parties as of the date of acceptance relating to its subject matter.\\n\\n4.9 No Waiver\\nGoogle will not be treated as having waived any rights by not exercising (or delaying the exercise of) any rights under this Agreement.\\n\\n\"\"\"\\n',\n",
       " 'parameters': 'penalize_newline               false\\nrepeat_penalty                 1\\nstop                           \"<start_of_turn>\"\\nstop                           \"<end_of_turn>\"',\n",
       " 'template': '<start_of_turn>user\\n{{ if .System }}{{ .System }} {{ end }}{{ .Prompt }}<end_of_turn>\\n<start_of_turn>model\\n{{ .Response }}<end_of_turn>\\n',\n",
       " 'details': {'parent_model': '',\n",
       "  'format': 'gguf',\n",
       "  'family': 'gemma',\n",
       "  'families': ['gemma'],\n",
       "  'parameter_size': '9B',\n",
       "  'quantization_level': 'Q4_0'}}"
      ]
     },
     "execution_count": 212,
     "metadata": {},
     "output_type": "execute_result"
    }
   ],
   "source": [
    "# Make sure Gemma is installed with ollama otherwise installing it\n",
    "MODEL = 'gemma'\n",
    "try:\n",
    "    ollama.show(MODEL)\n",
    "except Exception as e:\n",
    "    print(f\"can't find {MODEL}: {e} installing it\")\n",
    "    ollama.pull(MODEL)\n",
    "ollama.show(MODEL)\n",
    "\n"
   ]
  },
  {
   "cell_type": "code",
   "execution_count": 213,
   "metadata": {},
   "outputs": [
    {
     "data": {
      "text/plain": [
       "\"Hello Elie! 👋 It's lovely to hear from you. How can I help you today?\""
      ]
     },
     "execution_count": 213,
     "metadata": {},
     "output_type": "execute_result"
    }
   ],
   "source": [
    "# small wrapper function to make generation easier and check it all work\n",
    "# we use generate as we are going for a RAG style system so streaming is not useful\n",
    "def generate(prompt: str) -> str:\n",
    "    res = ollama.generate(model=MODEL, prompt=prompt)\n",
    "    if res['done']:\n",
    "        return res['response']\n",
    "    else:\n",
    "        raise Exception(f\"Generation failed: {res['done_reason']}\")\n",
    "\n",
    "generate(\"Hello Gemma it is Elie\")"
   ]
  },
  {
   "cell_type": "code",
   "execution_count": 2,
   "metadata": {},
   "outputs": [
    {
     "name": "stdout",
     "output_type": "stream",
     "text": [
      "[Loading model]\n",
      "|-model_id: text/retsim/v1\n",
      "|-model path: /Users/elieb/git/unisim/unisim/embedder/models/text/retsim/v1.onnx\n",
      "|-input: ['unk__340', 512, 24], tensor(float)\n",
      "|-output: ['unk__341', 256], tensor(float)\n",
      "INFO: UniSim is storing a copy of the indexed data\n",
      "INFO: If you are using large data corpus, consider disabling this behavior using store_data=False\n",
      "INFO: Accelerator is not available, using CPU\n",
      "Similarity 0.9258707761764526 - TextSim works as intended\n"
     ]
    }
   ],
   "source": [
    "# initializizing TextSim for near duplicate text similarity\n",
    "VERBOSE = True  # interactive demo so we want to see what happen\n",
    "txtsim = unisim.TextSim(verbose=True)\n",
    "# check it works as intendeds\n",
    "sim_value = txtsim.similarity(\"Gemma\", \"Gemmaa\")\n",
    "if sim_value > 0.9:\n",
    "    print(f\"Similarity {sim_value} - TextSim works as intended\")\n",
    "else:\n",
    "    print(f\"Similarity {sim_value} - Something is very wrong with TextSim\")"
   ]
  },
  {
   "cell_type": "markdown",
   "metadata": {},
   "source": [
    "## Testing model without retrivial augmentations"
   ]
  },
  {
   "cell_type": "code",
   "execution_count": 215,
   "metadata": {},
   "outputs": [],
   "source": [
    "questions = [\n",
    "             {\"q\":'Which School is Harry Potter part of?', 'type': 'basic fact'},\n",
    "             {\"q\": 'Who is ermionne?', 'type': 'typo'},\n",
    "             {\"q\": 'What is Aberforth job?', 'type': 'harder fact'},\n",
    "             {\"q\": \"'what is dubldore job?'\", 'type': 'harder fact and typo'}\n",
    "]"
   ]
  },
  {
   "cell_type": "code",
   "execution_count": 216,
   "metadata": {},
   "outputs": [
    {
     "name": "stderr",
     "output_type": "stream",
     "text": [
      "Generating direct answers: 100%|██████████| 4/4 [00:16<00:00,  4.19s/it]\n"
     ]
    }
   ],
   "source": [
    "# generate direct answers using Gemma\n",
    "for q in tqdm(questions, desc=\"Generating direct answers\"):\n",
    "    q['direct'] = generate(q['q'])\n"
   ]
  },
  {
   "cell_type": "code",
   "execution_count": 217,
   "metadata": {},
   "outputs": [
    {
     "name": "stdout",
     "output_type": "stream",
     "text": [
      "[answers without retrival]\n",
      "\n",
      "Q:Which School is Harry Potter part of?? (type: basic fact)\n",
      "Direct answer: Hogwarts School of Witchcraft and Wizardry..\n",
      "\n",
      "Q:Who is ermionne?? (type: typo)\n",
      "Direct answer: Errmionne is a character in the League of Legends universe. She is a young woman from the Freljord r..\n",
      "\n",
      "Q:What is Aberforth job?? (type: harder fact)\n",
      "Direct answer: Aberforth Dumbledore is a wizard and a Potions Master at Hogwarts School of Witchcraft and Wizardry...\n",
      "\n",
      "Q:'what is dubldore job?'? (type: harder fact and typo)\n",
      "Direct answer: **Dublador** is a voice-over artist who records dialogue for animated films, television shows, video..\n",
      "\n"
     ]
    }
   ],
   "source": [
    "print(\"[answers without retrival]\\n\")\n",
    "for q in questions:\n",
    "    a =  q['direct'][:100].replace('\\n', ' ')\n",
    "    print(f\"Q:{q['q']}? (type: {q['type']})\")\n",
    "    print(f\"Direct answer: {a}..\")\n",
    "    print(\"\")"
   ]
  },
  {
   "cell_type": "markdown",
   "metadata": {},
   "source": [
    "**Results are not great, let's use Unisim to index Harry Potter Data and get better results using the RAG pattern**"
   ]
  },
  {
   "cell_type": "markdown",
   "metadata": {},
   "source": [
    "## Indexing Harry Potter characters data \n",
    "Data from Kaggle [https://www.kaggle.com/datasets/zez000/characters-in-harry-potter-books](Characters in Harry Potter Books)\n",
    "\n",
    "Each characters has its name and a few fields. Our game plan is to use \n",
    "unisim/textsim to perform typo resilient name lookup and retrive the relevants fields\n",
    "to help Gemma answer about the characters\n",
    "\n",
    "\n",
    "| Field               | Description    | Retrieval Strategy |\n",
    "| :------------------ | :------------- | :------------------|\n",
    "| Name                |  char name     | unisim embedding   |\n",
    "| Descr               |  Char info     | Retrieved          |\n",
    "| Link                |  link to wiki  | Retrieved          |\n",
    "| Gender              |  Char gender   | Retrieved          |\n",
    "| Species/Race        |                | Retrieved          |\n",
    "| Blood School        |  Magic school  | Retrieved          |\n",
    "| Profession          |                | Retrieved          |\n",
    "\n"
   ]
  },
  {
   "cell_type": "code",
   "execution_count": 3,
   "metadata": {},
   "outputs": [
    {
     "name": "stdout",
     "output_type": "stream",
     "text": [
      "1350 characters loaded from harry_potter_characters.json\n"
     ]
    }
   ],
   "source": [
    "raw_data = json.loads(open('data/harry_potter_characters.json').read())\n",
    "CHARACTERS_INFO = {}  # we are deduping the data using the name as key\n",
    "for d in raw_data:\n",
    "    name = d['Name'].lower().strip()\n",
    "    CHARACTERS_INFO[name] = d\n",
    "print(f'{len(CHARACTERS_INFO)} characters loaded from harry_potter_characters.json')"
   ]
  },
  {
   "cell_type": "code",
   "execution_count": 4,
   "metadata": {},
   "outputs": [
    {
     "data": {
      "text/plain": [
       "['mrs. abbott',\n",
       " 'hannah abbott',\n",
       " 'abel treetops',\n",
       " 'euan abercrombie',\n",
       " 'aberforth dumbledore',\n",
       " 'abernathy',\n",
       " 'abraham peasegood',\n",
       " 'abraham potter',\n",
       " 'abraxas malfoy',\n",
       " 'achilles tolliver']"
      ]
     },
     "execution_count": 4,
     "metadata": {},
     "output_type": "execute_result"
    }
   ],
   "source": [
    "# indexing data with text sim\n",
    "txtsim.reset_index()  # clean up in case we run this cell multiple times\n",
    "idx = txtsim.add(list(CHARACTERS_INFO.keys()))\n",
    "txtsim.indexed_data[:10]  # display what we added"
   ]
  },
  {
   "cell_type": "code",
   "execution_count": 7,
   "metadata": {},
   "outputs": [
    {
     "name": "stdout",
     "output_type": "stream",
     "text": [
      "Query 0: \"abraxxas malfoy\"\n",
      "Most similar matches:\n",
      "\n",
      "  idx  is_match      similarity  text\n",
      "-----  ----------  ------------  ---------------\n",
      "    8  True                0.99  abraxas malfoy\n",
      "  904  False               0.72  nicholas malfoy\n",
      "  260  False               0.72  brutus malfoy\n"
     ]
    },
    {
     "data": {
      "text/plain": [
       "[{'Name': 'Abraxas Malfoy',\n",
       "  'Link': 'https://www.hp-lexicon.org/character/malfoy-family/abraxas-malfoy/',\n",
       "  'Descr': 'Abraxas Malfoy was a wizard who was believed to be involved in a plot which led to the first Muggle-born Minister for Magic, Nobby Leach, leaving office owing to a mysterious illness (Pm). Abraxas died of Dragon Pox (HBP9). ',\n",
       "  'Gender': 'Male',\n",
       "  'Species/Race': 'Wizard',\n",
       "  'Blood': 'Pure blood',\n",
       "  'School': 'Unknown',\n",
       "  'Profession': 'Unknown'}]"
      ]
     },
     "execution_count": 7,
     "metadata": {},
     "output_type": "execute_result"
    }
   ],
   "source": [
    "# writing a small lookup function wrapper and testing it\n",
    "def lookup(name: str, k: int = 3, threshold: float = 0.9, verbose: bool = False) -> dict:\n",
    "    data = []\n",
    "    name = [name.lower().strip()]\n",
    "    lkp = txtsim.search(name, similarity_threshold=threshold, k=k)\n",
    "    # visualize results for each query using .visualize\n",
    "    res = lkp.results[0]\n",
    "    if verbose:\n",
    "        txtsim.visualize(res)\n",
    "    for m in res.matches:\n",
    "        if m.is_match:\n",
    "            data.append(CHARACTERS_INFO[m.data])\n",
    "\n",
    "    # no match? then let's use the first best result\n",
    "    if not len(data):\n",
    "        data.append(CHARACTERS_INFO[res.matches[0].data])\n",
    "    return data\n",
    "\n",
    "lookup(\"abraxxas malfoy\", verbose=True)   # verbose to show all the matches"
   ]
  },
  {
   "cell_type": "markdown",
   "metadata": {},
   "source": [
    "## GEMMA + UniSim RAG"
   ]
  },
  {
   "cell_type": "code",
   "execution_count": 202,
   "metadata": {},
   "outputs": [
    {
     "name": "stdout",
     "output_type": "stream",
     "text": [
      "Char prompt: In the following sentence: 'what is dubldore job?' who is the subject? reply only with name.\n",
      "Character: 'Dubldore'\n",
      "Query 0: \"dubldore\"\n",
      "Most similar matches:\n",
      "\n",
      "  idx  is_match      similarity  text\n",
      "-----  ----------  ------------  --------------------\n",
      "   32  False               0.74  albus dumbledore\n",
      "    4  False               0.72  aberforth dumbledore\n",
      "   86  False               0.71  ariana dumbledore\n",
      "  114  False               0.69  aurelius dumbledore\n",
      "  433  False               0.69  kendra dumbledore\n",
      "Augmented prompt: Using the following data: [{'Name': 'Albus Dumbledore', 'Link': 'https://www.hp-lexicon.org/character/dumbledore-family/albus-dumbledore/', 'Descr': 'Albus Dumbledore was the Headmaster of Hogwarts for over thirty years, a time period that encompassed both of Voldemort’s attempts to take over the Wizarding world. Considered to be the most powerful wizard of his time, Dumbledore was awarded the Order of Merlin, First Class, and was the Supreme Mugwump… ', 'Gender': 'Male', 'Species/Race': 'Wizard', 'Blood': 'Half-blood', 'School': 'Hogwarts - Staff\\nHogwarts - Gryffindor', 'Profession': 'Headmaster at Hogwarts School'}] answer the following question: 'what is albus dumbledore job?'. Don't mention your sources - just the answer.\n"
     ]
    },
    {
     "data": {
      "text/plain": [
       "'Albus Dumbledore was the Headmaster at Hogwarts School.'"
      ]
     },
     "execution_count": 202,
     "metadata": {},
     "output_type": "execute_result"
    }
   ],
   "source": [
    "def rag(prompt: str, k: int = 5, threshold: float = 0.9, verbose: bool = False) -> str:\n",
    "    # normalizing the prompt\n",
    "    prompt = prompt.lower().strip()\n",
    "\n",
    "    # ask Gemma who is the character\n",
    "    char_prompt = f\"In the following sentence: '{prompt}' who is the subject? reply only with name.\"\n",
    "    if verbose:\n",
    "        print(f\"Char prompt: {char_prompt}\")\n",
    "    character = generate(char_prompt)\n",
    "    if verbose:\n",
    "        print(f\"Character: '{character}'\")\n",
    "\n",
    "    # lookup the character\n",
    "    data = lookup(character, k=k, threshold=threshold, verbose=verbose)\n",
    "\n",
    "    # augmented prompt\n",
    "    # replace the name in the prompt with the one in the rag\n",
    "    prompt = prompt.replace(character.lower().strip(), data[0]['Name'].lower().strip())\n",
    "\n",
    "    aug_prompt = f\"Using the following data: {data} answer the following question: '{prompt}'. Don't mention your sources - just the answer.\"\n",
    "\n",
    "    if verbose:\n",
    "        print(f\"Augmented prompt: {aug_prompt}\")\n",
    "    response = generate(aug_prompt)\n",
    "\n",
    "    return response\n",
    "rag('what is dubldore job?', verbose=True)"
   ]
  },
  {
   "cell_type": "code",
   "execution_count": 205,
   "metadata": {},
   "outputs": [
    {
     "name": "stderr",
     "output_type": "stream",
     "text": [
      "Generating rag answers: 100%|██████████| 4/4 [00:23<00:00,  5.90s/it]\n"
     ]
    }
   ],
   "source": [
    "# generate direct answers using Gemma\n",
    "for q in tqdm(questions, desc=\"Generating rag answers\"):\n",
    "    q['direct'] = generate(q['q'])  # redoing in case the questoins were changed\n",
    "    q['rag'] = rag(q['q'])\n"
   ]
  },
  {
   "cell_type": "code",
   "execution_count": 208,
   "metadata": {},
   "outputs": [
    {
     "name": "stdout",
     "output_type": "stream",
     "text": [
      "[Answers with RAG vs without]\n",
      "\n",
      "Q:Which School is Harry Potter part of?? (type: basic fact)\n",
      "Direct answer: Hogwarts School of Witchcraft and Wizardry..\n",
      "RAG anwer: Hogwarts - Gryffindor\n",
      "\n",
      "Q:Who is ermionne?? (type: typo)\n",
      "Direct answer: Ermionne is a character from Greek mythology, most famously known for her role in the story of Herac..\n",
      "RAG anwer: Hermione Granger is a resourceful, principled and brilliant witch known for her intelligence and clo\n",
      "\n",
      "Q:What is Aberforth job?? (type: harder fact)\n",
      "Direct answer: Aberforth Dumbledore is a character in the Harry Potter series of books and films. He is an eccentri..\n",
      "RAG anwer: Aberforth Dumbledore was a barman at the Hog's Head in Hogsmeade.\n",
      "\n",
      "Q:'what is dubldore job?'? (type: harder fact and typo)\n",
      "Direct answer: **Dubldore is a customer engagement platform that helps businesses create interactive digital experi..\n",
      "RAG anwer: Albus Dumbledore was the Headmaster at Hogwarts School.\n",
      "\n"
     ]
    }
   ],
   "source": [
    "print(\"[Answers with RAG vs without]\\n\")\n",
    "for q in questions:\n",
    "    a =  q['direct'][:100].replace('\\n', ' ')\n",
    "    print(f\"Q:{q['q']}? (type: {q['type']})\")\n",
    "    print(f\"Direct answer: {a}..\")\n",
    "    r =  q['rag'][:100].replace('\\n', ' ')\n",
    "    print(f'RAG anwer: {r}')\n",
    "    print(\"\")"
   ]
  }
 ],
 "metadata": {
  "language_info": {
   "name": "python"
  }
 },
 "nbformat": 4,
 "nbformat_minor": 2
}
