{
 "cells": [
  {
   "cell_type": "code",
   "execution_count": 1,
   "metadata": {},
   "outputs": [],
   "source": [
    "%load_ext autoreload\n",
    "%autoreload 2"
   ]
  },
  {
   "cell_type": "code",
   "execution_count": 4,
   "metadata": {},
   "outputs": [
    {
     "name": "stdout",
     "output_type": "stream",
     "text": [
      "Using tensorflow backend on device: cpu\n"
     ]
    }
   ],
   "source": [
    "from unisim import ExactUniSim"
   ]
  },
  {
   "cell_type": "code",
   "execution_count": 6,
   "metadata": {},
   "outputs": [],
   "source": [
    "from unisim import ExactUniSim\n",
    "usim = ExactUniSim()\n",
    "\n",
    "apa = 'apa' * 1024"
   ]
  },
  {
   "cell_type": "code",
   "execution_count": 7,
   "metadata": {},
   "outputs": [
    {
     "name": "stderr",
     "output_type": "stream",
     "text": [
      "/Users/elieb/git/unisim/.env/lib/python3.11/site-packages/keras/src/initializers/initializers.py:120: UserWarning: The initializer RandomNormal is unseeded and being called multiple times, which will return identical values each time (even if the initializer is unseeded). Please update your code to provide a seed to the initializer, or avoid using the same initializer instance more than once.\n",
      "  warnings.warn(\n"
     ]
    },
    {
     "name": "stdout",
     "output_type": "stream",
     "text": [
      "WARNING:tensorflow:No training configuration found in save file, so the model was *not* compiled. Compile it manually.\n",
      "(2, 256)\n"
     ]
    }
   ],
   "source": [
    "g, e = usim.text.batch_embed(['2 strings one family', apa])\n",
    "print(g.shape)"
   ]
  },
  {
   "cell_type": "code",
   "execution_count": 8,
   "metadata": {},
   "outputs": [
    {
     "name": "stdout",
     "output_type": "stream",
     "text": [
      "(256,) 1\n",
      "(2, 256) 2\n"
     ]
    }
   ],
   "source": [
    "g, e = usim.text.embed('2 strings one family')\n",
    "print(g.shape, len(e))\n",
    "g, e = usim.text.batch_embed(['2 strings one family', apa])\n",
    "print(g.shape, len(e))"
   ]
  },
  {
   "cell_type": "code",
   "execution_count": 21,
   "metadata": {},
   "outputs": [
    {
     "name": "stdout",
     "output_type": "stream",
     "text": [
      "False False 0.3702680468559265\n"
     ]
    }
   ],
   "source": [
    "t = 'apa' * 1024\n",
    "\n",
    "d = usim.text.similarity('apapa', t)\n",
    "print(d.is_match, d.is_near_duplicate, d.distance)"
   ]
  },
  {
   "cell_type": "code",
   "execution_count": 34,
   "metadata": {},
   "outputs": [
    {
     "name": "stdout",
     "output_type": "stream",
     "text": [
      "(2, 256)\n",
      "(1, 1)\n",
      "(<tf.Tensor: shape=(), dtype=float32, numpy=0.48523557>, <tf.Tensor: shape=(1, 1), dtype=float32, numpy=array([[0.48523563]], dtype=float32)>)\n"
     ]
    }
   ],
   "source": [
    "# golden test 0.41\n",
    "d = usim.text.similarity('Doubting dreams'.lower(), 'rough winds do shake the darling buds of may,'.lower())\n",
    "print(d)\n"
   ]
  },
  {
   "cell_type": "code",
   "execution_count": null,
   "metadata": {},
   "outputs": [],
   "source": [
    "usim.text.index()\n",
    "usim.text.search()\n"
   ]
  }
 ],
 "metadata": {
  "kernelspec": {
   "display_name": ".env",
   "language": "python",
   "name": "python3"
  },
  "language_info": {
   "codemirror_mode": {
    "name": "ipython",
    "version": 3
   },
   "file_extension": ".py",
   "mimetype": "text/x-python",
   "name": "python",
   "nbconvert_exporter": "python",
   "pygments_lexer": "ipython3",
   "version": "3.11.4"
  },
  "orig_nbformat": 4
 },
 "nbformat": 4,
 "nbformat_minor": 2
}
