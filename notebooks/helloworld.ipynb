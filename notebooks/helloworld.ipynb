{
 "cells": [
  {
   "cell_type": "code",
   "execution_count": 1,
   "metadata": {},
   "outputs": [],
   "source": [
    "%load_ext autoreload\n",
    "%autoreload 2"
   ]
  },
  {
   "cell_type": "code",
   "execution_count": 2,
   "metadata": {},
   "outputs": [
    {
     "name": "stdout",
     "output_type": "stream",
     "text": [
      "Using onnx with cpu\n"
     ]
    }
   ],
   "source": [
    "from time import time\n",
    "from unisim import ExactUniSim, ApproxUniSim"
   ]
  },
  {
   "cell_type": "code",
   "execution_count": 3,
   "metadata": {},
   "outputs": [
    {
     "name": "stdout",
     "output_type": "stream",
     "text": [
      "UniSim is storing a copy of the indexed data\n",
      "if you are using large data corpus consider disable this behavior using store_data=False\n",
      "[Indexer]\n",
      "|-is_exact:True\n",
      "|-use_tf_knn:False\n",
      "|-store index data:True\n"
     ]
    }
   ],
   "source": [
    "# usim = ExactUniSim(store_data=True, use_tf_knn=False)\n",
    "usim = ExactUniSim(store_data=True, use_tf_knn=False)\n",
    "#usim = ApproxUniSim(store_data=True)\n",
    "usim.info()\n"
   ]
  },
  {
   "cell_type": "code",
   "execution_count": 4,
   "metadata": {},
   "outputs": [
    {
     "name": "stdout",
     "output_type": "stream",
     "text": [
      "512 512 1\n",
      "(256,) 1\n",
      "512 512 1\n",
      "3584 3584 7\n",
      "(2, 256) 2\n"
     ]
    },
    {
     "name": "stderr",
     "output_type": "stream",
     "text": [
      "/Users/elieb/git/unisim/.env/lib/python3.11/site-packages/onnxruntime/capi/onnxruntime_inference_collection.py:65: UserWarning: Specified provider 'CUDAExecutionProvider' is not in available provider names.Available providers: 'CPUExecutionProvider'\n",
      "  warnings.warn(\n",
      "/Users/elieb/git/unisim/.env/lib/python3.11/site-packages/onnxruntime/capi/onnxruntime_inference_collection.py:65: UserWarning: Specified provider 'DmlExecutionProvider' is not in available provider names.Available providers: 'CPUExecutionProvider'\n",
      "  warnings.warn(\n"
     ]
    }
   ],
   "source": [
    "apa = 'apa' * 1024\n",
    "g, e = usim.text.embed('2 strings one family')\n",
    "print(g.shape, len(e))\n",
    "g, e = usim.text.batch_embed(['2 strings one family', apa])\n",
    "print(g.shape, len(e))"
   ]
  },
  {
   "cell_type": "code",
   "execution_count": 6,
   "metadata": {},
   "outputs": [
    {
     "name": "stdout",
     "output_type": "stream",
     "text": [
      "total ms 336 - 3ms\n"
     ]
    }
   ],
   "source": [
    "N = 100\n",
    "ts = time()\n",
    "for _ in range(N):\n",
    "    usim.text.embed('2 strings one family')\n",
    "total = (time() - ts) * 1000\n",
    "print(f'total ms {round(total)} - {round(total/N)}ms')"
   ]
  },
  {
   "cell_type": "code",
   "execution_count": 7,
   "metadata": {},
   "outputs": [
    {
     "name": "stdout",
     "output_type": "stream",
     "text": [
      "long range False False 0.29860445857048035\n",
      "golden 0.48526307940483093\n",
      "exact 1.0000001192092896\n"
     ]
    }
   ],
   "source": [
    "t = 'apa' * 1024\n",
    "d = usim.text.similarity('apapa', t)\n",
    "print('long range', d.is_global_match, d.is_partial_match, d.distance)\n",
    "\n",
    "# golden test 0.48\n",
    "d = usim.text.similarity('Doubting dreams'.lower(), 'rough winds do shake the darling buds of may,'.lower())\n",
    "print('golden', d.distance)\n",
    "\n",
    "d = usim.text.similarity('I love icecreams', 'I love icecreams')\n",
    "print('exact', d.distance)\n"
   ]
  },
  {
   "cell_type": "code",
   "execution_count": 8,
   "metadata": {},
   "outputs": [
    {
     "name": "stdout",
     "output_type": "stream",
     "text": [
      "4096\n"
     ]
    }
   ],
   "source": [
    "example = 't' * 4096\n",
    "print(len(example))\n"
   ]
  },
  {
   "cell_type": "code",
   "execution_count": 12,
   "metadata": {},
   "outputs": [
    {
     "name": "stdout",
     "output_type": "stream",
     "text": [
      "total ms 38\n",
      "Query 2: \"cookiess!!!\"\n",
      "  idx  is_global      global_sim  is_partial      partial_sim  content\n",
      "-----  -----------  ------------  ------------  -------------  -----------------------------\n",
      "    3  True                 1     True                   1     cookiess!!!\n",
      "    4  False                0.73  False                  0.73  no cookies for you\n",
      "    0  False                0.41  False                  0.41  t\n",
      "    1  False                0.4   False                  0.4   I love icecreams\n",
      "    5  False                0.38  False                  0.38  icecream or icecream sandwich\n",
      "    2  False                0.32  False                  0.32  tea oh tea\n"
     ]
    }
   ],
   "source": [
    "usim.text.reset_index()\n",
    "ts  = time()\n",
    "usim.text.batch_index(['t', 'I love icecreams', 'tea oh tea', 'cookiess!!!', 'no cookies for you'])\n",
    "usim.text.batch_index(['icecream or icecream sandwich that is the question'])\n",
    "\n",
    "\n",
    "m = usim.text.batch_search(['I love icecreams', 'my icecream', 'cookiess!!!'],\n",
    "                           pk=6, gk=6)\n",
    "total = (time() - ts) * 1000\n",
    "print(f'total ms {round(total)}')\n",
    "usim.viz.result(m[2])"
   ]
  },
  {
   "cell_type": "markdown",
   "metadata": {},
   "source": []
  },
  {
   "cell_type": "code",
   "execution_count": null,
   "metadata": {},
   "outputs": [
    {
     "name": "stdout",
     "output_type": "stream",
     "text": [
      "[Indexer info]\n",
      "|-is_exact: False\n",
      "|-use_tf: False\n"
     ]
    }
   ],
   "source": [
    "usim.text.indexer.info()"
   ]
  },
  {
   "cell_type": "code",
   "execution_count": null,
   "metadata": {},
   "outputs": [],
   "source": []
  }
 ],
 "metadata": {
  "kernelspec": {
   "display_name": ".env",
   "language": "python",
   "name": "python3"
  },
  "language_info": {
   "codemirror_mode": {
    "name": "ipython",
    "version": 3
   },
   "file_extension": ".py",
   "mimetype": "text/x-python",
   "name": "python",
   "nbconvert_exporter": "python",
   "pygments_lexer": "ipython3",
   "version": "3.11.4"
  },
  "orig_nbformat": 4
 },
 "nbformat": 4,
 "nbformat_minor": 2
}
