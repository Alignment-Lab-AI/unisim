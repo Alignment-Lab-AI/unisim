{
 "cells": [
  {
   "cell_type": "code",
   "execution_count": 1,
   "metadata": {},
   "outputs": [],
   "source": [
    "%load_ext autoreload\n",
    "%autoreload 2"
   ]
  },
  {
   "cell_type": "code",
   "execution_count": 2,
   "metadata": {},
   "outputs": [
    {
     "name": "stdout",
     "output_type": "stream",
     "text": [
      "Using onnx with cpu\n"
     ]
    },
    {
     "name": "stderr",
     "output_type": "stream",
     "text": [
      "/Users/elieb/git/unisim/.env/lib/python3.11/site-packages/tqdm/auto.py:21: TqdmWarning: IProgress not found. Please update jupyter and ipywidgets. See https://ipywidgets.readthedocs.io/en/stable/user_install.html\n",
      "  from .autonotebook import tqdm as notebook_tqdm\n"
     ]
    }
   ],
   "source": [
    "from time import time\n",
    "from unisim import ExactUniSim, ApproxUniSim"
   ]
  },
  {
   "cell_type": "code",
   "execution_count": 3,
   "metadata": {},
   "outputs": [
    {
     "name": "stdout",
     "output_type": "stream",
     "text": [
      "UniSim is storing a copy of the indexed data\n",
      "if you are using large data corpus consider disable this behavior using store_data=False\n",
      "[Embedder]\n",
      "|-batch_size:128\n",
      "[Indexer]\n",
      "|-is_exact:True\n",
      "|-use_tf_knn:False\n",
      "|-store index data:True\n"
     ]
    }
   ],
   "source": [
    "# usim = ExactUniSim(store_data=True, use_tf_knn=False)\n",
    "usim = ExactUniSim(store_data=True, \n",
    "                   use_tf_knn=False)\n",
    "#usim = ApproxUniSim(store_data=True)\n",
    "usim.info()\n"
   ]
  },
  {
   "cell_type": "code",
   "execution_count": 13,
   "metadata": {},
   "outputs": [
    {
     "name": "stderr",
     "output_type": "stream",
     "text": [
      "0it [00:00, ?it/s]\n"
     ]
    },
    {
     "name": "stdout",
     "output_type": "stream",
     "text": [
      "(256,) 1\n"
     ]
    },
    {
     "name": "stderr",
     "output_type": "stream",
     "text": [
      "0it [00:00, ?it/s]"
     ]
    },
    {
     "name": "stdout",
     "output_type": "stream",
     "text": [
      "(2, 256) 2\n"
     ]
    },
    {
     "name": "stderr",
     "output_type": "stream",
     "text": [
      "\n"
     ]
    }
   ],
   "source": [
    "apa = 'apa' * 1024\n",
    "g, e = usim.text.embed('2 strings one family')\n",
    "print(g.shape, len(e))\n",
    "g, e = usim.text.batch_embed(['2 strings one family', apa])\n",
    "print(g.shape, len(e))"
   ]
  },
  {
   "cell_type": "code",
   "execution_count": 15,
   "metadata": {},
   "outputs": [
    {
     "name": "stderr",
     "output_type": "stream",
     "text": [
      "Computing partial embeddings: 100%|██████████| 1/1 [00:00<00:00, 298.44embeddings/s]\n",
      "Computing partial embeddings: 100%|██████████| 1/1 [00:00<00:00, 316.17embeddings/s]\n",
      "Computing partial embeddings: 100%|██████████| 1/1 [00:00<00:00, 283.92embeddings/s]\n",
      "Computing partial embeddings: 100%|██████████| 1/1 [00:00<00:00, 315.76embeddings/s]\n",
      "Computing partial embeddings: 100%|██████████| 1/1 [00:00<00:00, 327.02embeddings/s]\n",
      "Computing partial embeddings: 100%|██████████| 1/1 [00:00<00:00, 316.77embeddings/s]\n",
      "Computing partial embeddings: 100%|██████████| 1/1 [00:00<00:00, 318.06embeddings/s]\n",
      "Computing partial embeddings: 100%|██████████| 1/1 [00:00<00:00, 333.99embeddings/s]\n",
      "Computing partial embeddings: 100%|██████████| 1/1 [00:00<00:00, 295.71embeddings/s]\n",
      "Computing partial embeddings: 100%|██████████| 1/1 [00:00<00:00, 322.79embeddings/s]\n",
      "Computing partial embeddings: 100%|██████████| 1/1 [00:00<00:00, 313.29embeddings/s]\n",
      "Computing partial embeddings: 100%|██████████| 1/1 [00:00<00:00, 332.78embeddings/s]\n",
      "Computing partial embeddings: 100%|██████████| 1/1 [00:00<00:00, 329.35embeddings/s]\n",
      "Computing partial embeddings: 100%|██████████| 1/1 [00:00<00:00, 293.68embeddings/s]\n",
      "Computing partial embeddings: 100%|██████████| 1/1 [00:00<00:00, 325.95embeddings/s]\n",
      "Computing partial embeddings: 100%|██████████| 1/1 [00:00<00:00, 318.45embeddings/s]\n",
      "Computing partial embeddings: 100%|██████████| 1/1 [00:00<00:00, 301.66embeddings/s]\n",
      "Computing partial embeddings: 100%|██████████| 1/1 [00:00<00:00, 319.61embeddings/s]\n",
      "Computing partial embeddings: 100%|██████████| 1/1 [00:00<00:00, 308.95embeddings/s]\n",
      "Computing partial embeddings: 100%|██████████| 1/1 [00:00<00:00, 283.61embeddings/s]\n",
      "Computing partial embeddings: 100%|██████████| 1/1 [00:00<00:00, 322.34embeddings/s]\n",
      "Computing partial embeddings: 100%|██████████| 1/1 [00:00<00:00, 327.88embeddings/s]\n",
      "Computing partial embeddings: 100%|██████████| 1/1 [00:00<00:00, 312.10embeddings/s]\n",
      "Computing partial embeddings: 100%|██████████| 1/1 [00:00<00:00, 295.27embeddings/s]\n",
      "Computing partial embeddings: 100%|██████████| 1/1 [00:00<00:00, 324.13embeddings/s]\n",
      "Computing partial embeddings: 100%|██████████| 1/1 [00:00<00:00, 333.78embeddings/s]\n",
      "Computing partial embeddings: 100%|██████████| 1/1 [00:00<00:00, 333.78embeddings/s]\n",
      "Computing partial embeddings: 100%|██████████| 1/1 [00:00<00:00, 283.11embeddings/s]\n",
      "Computing partial embeddings: 100%|██████████| 1/1 [00:00<00:00, 315.15embeddings/s]\n",
      "Computing partial embeddings: 100%|██████████| 1/1 [00:00<00:00, 303.87embeddings/s]\n",
      "Computing partial embeddings: 100%|██████████| 1/1 [00:00<00:00, 297.98embeddings/s]\n",
      "Computing partial embeddings: 100%|██████████| 1/1 [00:00<00:00, 303.94embeddings/s]\n",
      "Computing partial embeddings: 100%|██████████| 1/1 [00:00<00:00, 326.02embeddings/s]\n",
      "Computing partial embeddings: 100%|██████████| 1/1 [00:00<00:00, 334.34embeddings/s]\n",
      "Computing partial embeddings: 100%|██████████| 1/1 [00:00<00:00, 300.11embeddings/s]\n",
      "Computing partial embeddings: 100%|██████████| 1/1 [00:00<00:00, 302.58embeddings/s]\n",
      "Computing partial embeddings: 100%|██████████| 1/1 [00:00<00:00, 327.09embeddings/s]\n",
      "Computing partial embeddings: 100%|██████████| 1/1 [00:00<00:00, 297.36embeddings/s]\n",
      "Computing partial embeddings: 100%|██████████| 1/1 [00:00<00:00, 315.55embeddings/s]\n",
      "Computing partial embeddings: 100%|██████████| 1/1 [00:00<00:00, 314.58embeddings/s]\n",
      "Computing partial embeddings: 100%|██████████| 1/1 [00:00<00:00, 329.79embeddings/s]\n",
      "Computing partial embeddings: 100%|██████████| 1/1 [00:00<00:00, 304.33embeddings/s]\n",
      "Computing partial embeddings: 100%|██████████| 1/1 [00:00<00:00, 301.38embeddings/s]\n",
      "Computing partial embeddings: 100%|██████████| 1/1 [00:00<00:00, 323.81embeddings/s]\n",
      "Computing partial embeddings: 100%|██████████| 1/1 [00:00<00:00, 318.98embeddings/s]\n",
      "Computing partial embeddings: 100%|██████████| 1/1 [00:00<00:00, 315.46embeddings/s]\n",
      "Computing partial embeddings: 100%|██████████| 1/1 [00:00<00:00, 305.15embeddings/s]\n",
      "Computing partial embeddings: 100%|██████████| 1/1 [00:00<00:00, 313.69embeddings/s]\n",
      "Computing partial embeddings: 100%|██████████| 1/1 [00:00<00:00, 330.65embeddings/s]\n",
      "Computing partial embeddings: 100%|██████████| 1/1 [00:00<00:00, 314.96embeddings/s]\n",
      "Computing partial embeddings: 100%|██████████| 1/1 [00:00<00:00, 303.03embeddings/s]\n",
      "Computing partial embeddings: 100%|██████████| 1/1 [00:00<00:00, 289.68embeddings/s]\n",
      "Computing partial embeddings: 100%|██████████| 1/1 [00:00<00:00, 304.22embeddings/s]\n",
      "Computing partial embeddings: 100%|██████████| 1/1 [00:00<00:00, 284.51embeddings/s]\n",
      "Computing partial embeddings: 100%|██████████| 1/1 [00:00<00:00, 292.37embeddings/s]\n",
      "Computing partial embeddings: 100%|██████████| 1/1 [00:00<00:00, 301.57embeddings/s]\n",
      "Computing partial embeddings: 100%|██████████| 1/1 [00:00<00:00, 280.20embeddings/s]\n",
      "Computing partial embeddings: 100%|██████████| 1/1 [00:00<00:00, 315.65embeddings/s]\n",
      "Computing partial embeddings: 100%|██████████| 1/1 [00:00<00:00, 314.63embeddings/s]\n",
      "Computing partial embeddings: 100%|██████████| 1/1 [00:00<00:00, 306.74embeddings/s]\n",
      "Computing partial embeddings: 100%|██████████| 1/1 [00:00<00:00, 313.19embeddings/s]\n",
      "Computing partial embeddings: 100%|██████████| 1/1 [00:00<00:00, 315.96embeddings/s]\n",
      "Computing partial embeddings: 100%|██████████| 1/1 [00:00<00:00, 322.49embeddings/s]\n",
      "Computing partial embeddings: 100%|██████████| 1/1 [00:00<00:00, 283.11embeddings/s]\n",
      "Computing partial embeddings: 100%|██████████| 1/1 [00:00<00:00, 315.55embeddings/s]\n",
      "Computing partial embeddings: 100%|██████████| 1/1 [00:00<00:00, 334.34embeddings/s]\n",
      "Computing partial embeddings: 100%|██████████| 1/1 [00:00<00:00, 339.89embeddings/s]\n",
      "Computing partial embeddings: 100%|██████████| 1/1 [00:00<00:00, 314.04embeddings/s]\n",
      "Computing partial embeddings: 100%|██████████| 1/1 [00:00<00:00, 315.67embeddings/s]\n",
      "Computing partial embeddings: 100%|██████████| 1/1 [00:00<00:00, 319.98embeddings/s]\n",
      "Computing partial embeddings: 100%|██████████| 1/1 [00:00<00:00, 316.96embeddings/s]\n",
      "Computing partial embeddings: 100%|██████████| 1/1 [00:00<00:00, 307.61embeddings/s]\n",
      "Computing partial embeddings: 100%|██████████| 1/1 [00:00<00:00, 318.98embeddings/s]\n",
      "Computing partial embeddings: 100%|██████████| 1/1 [00:00<00:00, 326.18embeddings/s]\n",
      "Computing partial embeddings: 100%|██████████| 1/1 [00:00<00:00, 315.93embeddings/s]\n",
      "Computing partial embeddings: 100%|██████████| 1/1 [00:00<00:00, 319.49embeddings/s]\n",
      "Computing partial embeddings: 100%|██████████| 1/1 [00:00<00:00, 324.69embeddings/s]\n",
      "Computing partial embeddings: 100%|██████████| 1/1 [00:00<00:00, 326.58embeddings/s]\n",
      "Computing partial embeddings: 100%|██████████| 1/1 [00:00<00:00, 331.23embeddings/s]\n",
      "Computing partial embeddings: 100%|██████████| 1/1 [00:00<00:00, 314.46embeddings/s]\n",
      "Computing partial embeddings: 100%|██████████| 1/1 [00:00<00:00, 319.08embeddings/s]\n",
      "Computing partial embeddings: 100%|██████████| 1/1 [00:00<00:00, 332.12embeddings/s]\n",
      "Computing partial embeddings: 100%|██████████| 1/1 [00:00<00:00, 330.81embeddings/s]\n",
      "Computing partial embeddings: 100%|██████████| 1/1 [00:00<00:00, 316.34embeddings/s]\n",
      "Computing partial embeddings: 100%|██████████| 1/1 [00:00<00:00, 328.60embeddings/s]\n",
      "Computing partial embeddings: 100%|██████████| 1/1 [00:00<00:00, 331.67embeddings/s]\n",
      "Computing partial embeddings: 100%|██████████| 1/1 [00:00<00:00, 325.42embeddings/s]\n",
      "Computing partial embeddings: 100%|██████████| 1/1 [00:00<00:00, 317.65embeddings/s]\n",
      "Computing partial embeddings: 100%|██████████| 1/1 [00:00<00:00, 322.69embeddings/s]\n",
      "Computing partial embeddings: 100%|██████████| 1/1 [00:00<00:00, 330.26embeddings/s]\n",
      "Computing partial embeddings: 100%|██████████| 1/1 [00:00<00:00, 332.46embeddings/s]\n",
      "Computing partial embeddings: 100%|██████████| 1/1 [00:00<00:00, 319.37embeddings/s]\n",
      "Computing partial embeddings: 100%|██████████| 1/1 [00:00<00:00, 319.88embeddings/s]\n",
      "Computing partial embeddings: 100%|██████████| 1/1 [00:00<00:00, 328.73embeddings/s]\n",
      "Computing partial embeddings: 100%|██████████| 1/1 [00:00<00:00, 325.62embeddings/s]\n",
      "Computing partial embeddings: 100%|██████████| 1/1 [00:00<00:00, 307.05embeddings/s]\n",
      "Computing partial embeddings: 100%|██████████| 1/1 [00:00<00:00, 321.55embeddings/s]\n",
      "Computing partial embeddings: 100%|██████████| 1/1 [00:00<00:00, 324.36embeddings/s]\n",
      "Computing partial embeddings: 100%|██████████| 1/1 [00:00<00:00, 80.46embeddings/s]\n",
      "Computing partial embeddings: 100%|██████████| 1/1 [00:00<00:00, 134.20embeddings/s]"
     ]
    },
    {
     "name": "stdout",
     "output_type": "stream",
     "text": [
      "total ms 462 - 5ms\n"
     ]
    },
    {
     "name": "stderr",
     "output_type": "stream",
     "text": [
      "\n"
     ]
    }
   ],
   "source": [
    "N = 100\n",
    "ts = time()\n",
    "for _ in range(N):\n",
    "    usim.text.embed('2 strings one family')\n",
    "total = (time() - ts) * 1000\n",
    "print(f'total ms {round(total)} - {round(total/N)}ms')"
   ]
  },
  {
   "cell_type": "code",
   "execution_count": 28,
   "metadata": {},
   "outputs": [
    {
     "name": "stderr",
     "output_type": "stream",
     "text": [
      "Computing partial embeddings: 100%|██████████| 7/7 [00:00<00:00, 216.43embeddings/s]\n"
     ]
    },
    {
     "name": "stdout",
     "output_type": "stream",
     "text": [
      "long range False False 0.2628413438796997\n"
     ]
    },
    {
     "name": "stderr",
     "output_type": "stream",
     "text": [
      "Computing partial embeddings: 100%|██████████| 2/2 [00:00<00:00, 198.14embeddings/s]\n"
     ]
    },
    {
     "name": "stdout",
     "output_type": "stream",
     "text": [
      "golden 0.48702412843704224\n"
     ]
    },
    {
     "name": "stderr",
     "output_type": "stream",
     "text": [
      "Computing partial embeddings: 100%|██████████| 2/2 [00:00<00:00, 276.92embeddings/s]"
     ]
    },
    {
     "name": "stdout",
     "output_type": "stream",
     "text": [
      "exact 0.9999998211860657\n"
     ]
    },
    {
     "name": "stderr",
     "output_type": "stream",
     "text": [
      "\n"
     ]
    }
   ],
   "source": [
    "t = 'apa' * 1024\n",
    "d = usim.text.similarity('apapa', t)\n",
    "print('long range', d.is_global_match, d.is_partial_match, d.distance)\n",
    "\n",
    "\n",
    "# golden test 0.48\n",
    "d = usim.text.similarity('Doubting dreams'.lower(), 'rough winds do shake the darling buds of may,'.lower())\n",
    "print('golden', d.distance)\n",
    "\n",
    "d = usim.text.similarity('I love icecreams', 'I love icecreams')\n",
    "print('exact', d.distance)\n"
   ]
  },
  {
   "cell_type": "code",
   "execution_count": 25,
   "metadata": {},
   "outputs": [
    {
     "name": "stdout",
     "output_type": "stream",
     "text": [
      "4096\n"
     ]
    }
   ],
   "source": [
    "example = 't' * 4096\n",
    "print(len(example))\n"
   ]
  },
  {
   "cell_type": "code",
   "execution_count": 55,
   "metadata": {},
   "outputs": [
    {
     "name": "stderr",
     "output_type": "stream",
     "text": [
      "Computing partial embeddings: 100%|██████████| 14/14 [00:00<00:00, 350.65embeddings/s]\n",
      "Computing partial embeddings: 100%|██████████| 1/1 [00:00<00:00, 301.84embeddings/s]\n",
      "Computing partial embeddings: 100%|██████████| 4/4 [00:00<00:00, 331.79embeddings/s]"
     ]
    },
    {
     "name": "stdout",
     "output_type": "stream",
     "text": [
      "total ms 68\n",
      "Partial Match: 4\n",
      "Query 3: \"cookies\"\n",
      "  idx  is_global    global_sim    is_partial    partial_sim    content\n",
      "-----  -----------  ------------  ------------  -------------  ------------------------------\n",
      "    4  True         0.92          True          0.92           cookiess!!!\n",
      "    5  False        0.8           False                        no cookies for you\n",
      "    1  False                      True          0.93           kkkkkkkkkkkkkkkkkkkkkkkkkkkkkk\n"
     ]
    },
    {
     "name": "stderr",
     "output_type": "stream",
     "text": [
      "\n"
     ]
    }
   ],
   "source": [
    "usim.text.reset_index()\n",
    "ts  = time()\n",
    "chunk = 'cookies'\n",
    "partial =  'k' * 530 + chunk\n",
    "usim.text.batch_index([example,  partial,  'I love icecreams', 'tea oh tea', 'cookiess!!!', 'no cookies for you'])\n",
    "usim.text.batch_index(['icecream or icecream sandwich that is the question'])\n",
    "\n",
    "\n",
    "rc = usim.text.batch_search(['I love icecreams', 'my icecream', 'cookiess!!!', chunk],\n",
    "                           pk=2, gk=2)\n",
    "total = (time() - ts) * 1000\n",
    "print(f'total ms {round(total)}')\n",
    "print(rc)\n",
    "usim.viz.result(rc.results[3])"
   ]
  },
  {
   "cell_type": "markdown",
   "metadata": {},
   "source": []
  },
  {
   "cell_type": "code",
   "execution_count": 49,
   "metadata": {},
   "outputs": [
    {
     "name": "stdout",
     "output_type": "stream",
     "text": [
      "[Indexer info]\n",
      "|-is_exact: True\n",
      "|-use_tf_knn: False\n"
     ]
    }
   ],
   "source": [
    "usim.text.indexer.info()"
   ]
  },
  {
   "cell_type": "code",
   "execution_count": null,
   "metadata": {},
   "outputs": [],
   "source": []
  }
 ],
 "metadata": {
  "kernelspec": {
   "display_name": ".env",
   "language": "python",
   "name": "python3"
  },
  "language_info": {
   "codemirror_mode": {
    "name": "ipython",
    "version": 3
   },
   "file_extension": ".py",
   "mimetype": "text/x-python",
   "name": "python",
   "nbconvert_exporter": "python",
   "pygments_lexer": "ipython3",
   "version": "3.11.4"
  },
  "orig_nbformat": 4
 },
 "nbformat": 4,
 "nbformat_minor": 2
}
