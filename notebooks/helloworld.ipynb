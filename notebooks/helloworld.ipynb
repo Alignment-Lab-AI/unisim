{
 "cells": [
  {
   "cell_type": "code",
   "execution_count": 1,
   "metadata": {},
   "outputs": [],
   "source": [
    "%load_ext autoreload\n",
    "%autoreload 2"
   ]
  },
  {
   "cell_type": "code",
   "execution_count": 2,
   "metadata": {},
   "outputs": [
    {
     "name": "stderr",
     "output_type": "stream",
     "text": [
      "2023-10-18 18:25:38.733204: I tensorflow/core/platform/cpu_feature_guard.cc:183] This TensorFlow binary is optimized to use available CPU instructions in performance-critical operations.\n",
      "To enable the following instructions: SSE3 SSE4.1 SSE4.2 AVX, in other operations, rebuild TensorFlow with the appropriate compiler flags.\n"
     ]
    },
    {
     "name": "stdout",
     "output_type": "stream",
     "text": [
      "Using onnx with cpu\n"
     ]
    },
    {
     "name": "stderr",
     "output_type": "stream",
     "text": [
      "2023-10-18 18:25:40.403631: I tensorflow/compiler/xla/stream_executor/cuda/cuda_gpu_executor.cc:1013] successful NUMA node read from SysFS had negative value (-1), but there must be at least one NUMA node, so returning NUMA node zero. See more at https://github.com/torvalds/linux/blob/v6.0/Documentation/ABI/testing/sysfs-bus-pci#L344-L355\n",
      "2023-10-18 18:25:40.411663: I tensorflow/compiler/xla/stream_executor/cuda/cuda_gpu_executor.cc:1013] successful NUMA node read from SysFS had negative value (-1), but there must be at least one NUMA node, so returning NUMA node zero. See more at https://github.com/torvalds/linux/blob/v6.0/Documentation/ABI/testing/sysfs-bus-pci#L344-L355\n",
      "2023-10-18 18:25:40.411880: I tensorflow/compiler/xla/stream_executor/cuda/cuda_gpu_executor.cc:1013] successful NUMA node read from SysFS had negative value (-1), but there must be at least one NUMA node, so returning NUMA node zero. See more at https://github.com/torvalds/linux/blob/v6.0/Documentation/ABI/testing/sysfs-bus-pci#L344-L355\n"
     ]
    }
   ],
   "source": [
    "from time import time\n",
    "from unisim import ExactUniSim, ApproxUniSim"
   ]
  },
  {
   "cell_type": "code",
   "execution_count": 3,
   "metadata": {},
   "outputs": [
    {
     "name": "stdout",
     "output_type": "stream",
     "text": [
      "UniSim is storing a copy of the indexed data\n",
      "if you are using large data corpus consider disable this behavior using store_data=False\n",
      "[Embedder]\n",
      "|-batch_size:128\n",
      "[Indexer]\n",
      "|-is_exact:True\n",
      "|-use_tf_knn:False\n",
      "|-store index data:True\n"
     ]
    }
   ],
   "source": [
    "# usim = ExactUniSim(store_data=True, use_tf_knn=False)\n",
    "usim = ExactUniSim(store_data=True, \n",
    "                   use_tf_knn=False)\n",
    "#usim = ApproxUniSim(store_data=True)\n",
    "usim.info()\n"
   ]
  },
  {
   "cell_type": "code",
   "execution_count": 4,
   "metadata": {},
   "outputs": [
    {
     "name": "stderr",
     "output_type": "stream",
     "text": [
      "/usr/local/lib/python3.10/dist-packages/onnxruntime/capi/onnxruntime_inference_collection.py:69: UserWarning: Specified provider 'CUDAExecutionProvider' is not in available provider names.Available providers: 'AzureExecutionProvider, CPUExecutionProvider'\n",
      "  warnings.warn(\n",
      "/usr/local/lib/python3.10/dist-packages/onnxruntime/capi/onnxruntime_inference_collection.py:69: UserWarning: Specified provider 'DmlExecutionProvider' is not in available provider names.Available providers: 'AzureExecutionProvider, CPUExecutionProvider'\n",
      "  warnings.warn(\n"
     ]
    },
    {
     "data": {
      "application/vnd.jupyter.widget-view+json": {
       "model_id": "1f99aae22b37437eae3e720194969000",
       "version_major": 2,
       "version_minor": 0
      },
      "text/plain": [
       "Computing partial embeddings:   0%|          | 0/1 [00:00<?, ?embeddings/s]"
      ]
     },
     "metadata": {},
     "output_type": "display_data"
    },
    {
     "name": "stdout",
     "output_type": "stream",
     "text": [
      "(1, 256) 1\n"
     ]
    },
    {
     "data": {
      "application/vnd.jupyter.widget-view+json": {
       "model_id": "683b7741650044219c2922428f60f75a",
       "version_major": 2,
       "version_minor": 0
      },
      "text/plain": [
       "Computing partial embeddings:   0%|          | 0/7 [00:00<?, ?embeddings/s]"
      ]
     },
     "metadata": {},
     "output_type": "display_data"
    },
    {
     "name": "stdout",
     "output_type": "stream",
     "text": [
      "(2, 256) 2\n"
     ]
    },
    {
     "name": "stderr",
     "output_type": "stream",
     "text": [
      "<__array_function__ internals>:180: VisibleDeprecationWarning: Creating an ndarray from ragged nested sequences (which is a list-or-tuple of lists-or-tuples-or ndarrays with different lengths or shapes) is deprecated. If you meant to do this, you must specify 'dtype=object' when creating the ndarray.\n"
     ]
    }
   ],
   "source": [
    "apa = 'apa' * 1024\n",
    "g, e = usim.text.embed(['2 strings one family'])\n",
    "print(g.shape, len(e))\n",
    "g, e = usim.text.embed(['2 strings one family', apa])\n",
    "print(g.shape, len(e))"
   ]
  },
  {
   "cell_type": "code",
   "execution_count": 5,
   "metadata": {},
   "outputs": [
    {
     "data": {
      "application/vnd.jupyter.widget-view+json": {
       "model_id": "cea0cdccc2bb493b9617ce735de029c4",
       "version_major": 2,
       "version_minor": 0
      },
      "text/plain": [
       "Computing partial embeddings:   0%|          | 0/1 [00:00<?, ?embeddings/s]"
      ]
     },
     "metadata": {},
     "output_type": "display_data"
    },
    {
     "data": {
      "application/vnd.jupyter.widget-view+json": {
       "model_id": "707f9d926dee445aa34f10918e04621d",
       "version_major": 2,
       "version_minor": 0
      },
      "text/plain": [
       "Computing partial embeddings:   0%|          | 0/1 [00:00<?, ?embeddings/s]"
      ]
     },
     "metadata": {},
     "output_type": "display_data"
    },
    {
     "data": {
      "application/vnd.jupyter.widget-view+json": {
       "model_id": "dcf65f57449f430a9312d9109e371953",
       "version_major": 2,
       "version_minor": 0
      },
      "text/plain": [
       "Computing partial embeddings:   0%|          | 0/1 [00:00<?, ?embeddings/s]"
      ]
     },
     "metadata": {},
     "output_type": "display_data"
    },
    {
     "data": {
      "application/vnd.jupyter.widget-view+json": {
       "model_id": "1539d6ac0add4fd58ca5a05b5bb98cad",
       "version_major": 2,
       "version_minor": 0
      },
      "text/plain": [
       "Computing partial embeddings:   0%|          | 0/1 [00:00<?, ?embeddings/s]"
      ]
     },
     "metadata": {},
     "output_type": "display_data"
    },
    {
     "data": {
      "application/vnd.jupyter.widget-view+json": {
       "model_id": "8908b38456504037bc8ab8b4a8a08de3",
       "version_major": 2,
       "version_minor": 0
      },
      "text/plain": [
       "Computing partial embeddings:   0%|          | 0/1 [00:00<?, ?embeddings/s]"
      ]
     },
     "metadata": {},
     "output_type": "display_data"
    },
    {
     "data": {
      "application/vnd.jupyter.widget-view+json": {
       "model_id": "685798d4a60a4a11b650197a2a662cfc",
       "version_major": 2,
       "version_minor": 0
      },
      "text/plain": [
       "Computing partial embeddings:   0%|          | 0/1 [00:00<?, ?embeddings/s]"
      ]
     },
     "metadata": {},
     "output_type": "display_data"
    },
    {
     "data": {
      "application/vnd.jupyter.widget-view+json": {
       "model_id": "8ac98c3bb6e64179a461e1cb33a935b8",
       "version_major": 2,
       "version_minor": 0
      },
      "text/plain": [
       "Computing partial embeddings:   0%|          | 0/1 [00:00<?, ?embeddings/s]"
      ]
     },
     "metadata": {},
     "output_type": "display_data"
    },
    {
     "data": {
      "application/vnd.jupyter.widget-view+json": {
       "model_id": "ec09afa87b6744df85a3c0058ff20849",
       "version_major": 2,
       "version_minor": 0
      },
      "text/plain": [
       "Computing partial embeddings:   0%|          | 0/1 [00:00<?, ?embeddings/s]"
      ]
     },
     "metadata": {},
     "output_type": "display_data"
    },
    {
     "data": {
      "application/vnd.jupyter.widget-view+json": {
       "model_id": "dc2661180bcc441bac09249d5ea65db0",
       "version_major": 2,
       "version_minor": 0
      },
      "text/plain": [
       "Computing partial embeddings:   0%|          | 0/1 [00:00<?, ?embeddings/s]"
      ]
     },
     "metadata": {},
     "output_type": "display_data"
    },
    {
     "data": {
      "application/vnd.jupyter.widget-view+json": {
       "model_id": "a7e8dc63f29c475080090c2bf6c8a55e",
       "version_major": 2,
       "version_minor": 0
      },
      "text/plain": [
       "Computing partial embeddings:   0%|          | 0/1 [00:00<?, ?embeddings/s]"
      ]
     },
     "metadata": {},
     "output_type": "display_data"
    },
    {
     "data": {
      "application/vnd.jupyter.widget-view+json": {
       "model_id": "220c2da81f6e475fa746a8f018133120",
       "version_major": 2,
       "version_minor": 0
      },
      "text/plain": [
       "Computing partial embeddings:   0%|          | 0/1 [00:00<?, ?embeddings/s]"
      ]
     },
     "metadata": {},
     "output_type": "display_data"
    },
    {
     "data": {
      "application/vnd.jupyter.widget-view+json": {
       "model_id": "123404ded4a44b6fabc8291186b491eb",
       "version_major": 2,
       "version_minor": 0
      },
      "text/plain": [
       "Computing partial embeddings:   0%|          | 0/1 [00:00<?, ?embeddings/s]"
      ]
     },
     "metadata": {},
     "output_type": "display_data"
    },
    {
     "data": {
      "application/vnd.jupyter.widget-view+json": {
       "model_id": "40e242312bac48998755bccdfc502199",
       "version_major": 2,
       "version_minor": 0
      },
      "text/plain": [
       "Computing partial embeddings:   0%|          | 0/1 [00:00<?, ?embeddings/s]"
      ]
     },
     "metadata": {},
     "output_type": "display_data"
    },
    {
     "data": {
      "application/vnd.jupyter.widget-view+json": {
       "model_id": "10140d825e084972a36cc1785fa7a407",
       "version_major": 2,
       "version_minor": 0
      },
      "text/plain": [
       "Computing partial embeddings:   0%|          | 0/1 [00:00<?, ?embeddings/s]"
      ]
     },
     "metadata": {},
     "output_type": "display_data"
    },
    {
     "data": {
      "application/vnd.jupyter.widget-view+json": {
       "model_id": "4388e01f261b42ff809c335df16a1c81",
       "version_major": 2,
       "version_minor": 0
      },
      "text/plain": [
       "Computing partial embeddings:   0%|          | 0/1 [00:00<?, ?embeddings/s]"
      ]
     },
     "metadata": {},
     "output_type": "display_data"
    },
    {
     "data": {
      "application/vnd.jupyter.widget-view+json": {
       "model_id": "3b6a12263a4b44b38688103484218e64",
       "version_major": 2,
       "version_minor": 0
      },
      "text/plain": [
       "Computing partial embeddings:   0%|          | 0/1 [00:00<?, ?embeddings/s]"
      ]
     },
     "metadata": {},
     "output_type": "display_data"
    },
    {
     "data": {
      "application/vnd.jupyter.widget-view+json": {
       "model_id": "46165be1e7174d25a0b60088b14c8fc6",
       "version_major": 2,
       "version_minor": 0
      },
      "text/plain": [
       "Computing partial embeddings:   0%|          | 0/1 [00:00<?, ?embeddings/s]"
      ]
     },
     "metadata": {},
     "output_type": "display_data"
    },
    {
     "data": {
      "application/vnd.jupyter.widget-view+json": {
       "model_id": "d941e2995d3b48889c6ceb42581002f9",
       "version_major": 2,
       "version_minor": 0
      },
      "text/plain": [
       "Computing partial embeddings:   0%|          | 0/1 [00:00<?, ?embeddings/s]"
      ]
     },
     "metadata": {},
     "output_type": "display_data"
    },
    {
     "data": {
      "application/vnd.jupyter.widget-view+json": {
       "model_id": "2cfcab95ab09447b9ccb3d68f807d54a",
       "version_major": 2,
       "version_minor": 0
      },
      "text/plain": [
       "Computing partial embeddings:   0%|          | 0/1 [00:00<?, ?embeddings/s]"
      ]
     },
     "metadata": {},
     "output_type": "display_data"
    },
    {
     "data": {
      "application/vnd.jupyter.widget-view+json": {
       "model_id": "24f69f02ea004414999013f2a9bd3d92",
       "version_major": 2,
       "version_minor": 0
      },
      "text/plain": [
       "Computing partial embeddings:   0%|          | 0/1 [00:00<?, ?embeddings/s]"
      ]
     },
     "metadata": {},
     "output_type": "display_data"
    },
    {
     "data": {
      "application/vnd.jupyter.widget-view+json": {
       "model_id": "c6440173ceb842e7bc2094de116d29a0",
       "version_major": 2,
       "version_minor": 0
      },
      "text/plain": [
       "Computing partial embeddings:   0%|          | 0/1 [00:00<?, ?embeddings/s]"
      ]
     },
     "metadata": {},
     "output_type": "display_data"
    },
    {
     "data": {
      "application/vnd.jupyter.widget-view+json": {
       "model_id": "9ae9565b018d43b9bc2a3b7b5f6d3766",
       "version_major": 2,
       "version_minor": 0
      },
      "text/plain": [
       "Computing partial embeddings:   0%|          | 0/1 [00:00<?, ?embeddings/s]"
      ]
     },
     "metadata": {},
     "output_type": "display_data"
    },
    {
     "data": {
      "application/vnd.jupyter.widget-view+json": {
       "model_id": "9b842e53c3134abe9cc81da7c0dfe5e2",
       "version_major": 2,
       "version_minor": 0
      },
      "text/plain": [
       "Computing partial embeddings:   0%|          | 0/1 [00:00<?, ?embeddings/s]"
      ]
     },
     "metadata": {},
     "output_type": "display_data"
    },
    {
     "data": {
      "application/vnd.jupyter.widget-view+json": {
       "model_id": "71cdc4af8267496cb42b6a11c0a6814f",
       "version_major": 2,
       "version_minor": 0
      },
      "text/plain": [
       "Computing partial embeddings:   0%|          | 0/1 [00:00<?, ?embeddings/s]"
      ]
     },
     "metadata": {},
     "output_type": "display_data"
    },
    {
     "data": {
      "application/vnd.jupyter.widget-view+json": {
       "model_id": "1137ff1d11f3465a8e6664e1d6f4b477",
       "version_major": 2,
       "version_minor": 0
      },
      "text/plain": [
       "Computing partial embeddings:   0%|          | 0/1 [00:00<?, ?embeddings/s]"
      ]
     },
     "metadata": {},
     "output_type": "display_data"
    },
    {
     "data": {
      "application/vnd.jupyter.widget-view+json": {
       "model_id": "6d45668aab7c497d9cff574a9724a4f2",
       "version_major": 2,
       "version_minor": 0
      },
      "text/plain": [
       "Computing partial embeddings:   0%|          | 0/1 [00:00<?, ?embeddings/s]"
      ]
     },
     "metadata": {},
     "output_type": "display_data"
    },
    {
     "data": {
      "application/vnd.jupyter.widget-view+json": {
       "model_id": "9006f1ed695c4d878ef4cf317e4946f2",
       "version_major": 2,
       "version_minor": 0
      },
      "text/plain": [
       "Computing partial embeddings:   0%|          | 0/1 [00:00<?, ?embeddings/s]"
      ]
     },
     "metadata": {},
     "output_type": "display_data"
    },
    {
     "data": {
      "application/vnd.jupyter.widget-view+json": {
       "model_id": "9b3adc026a274cffbcb5e987d8b18b4a",
       "version_major": 2,
       "version_minor": 0
      },
      "text/plain": [
       "Computing partial embeddings:   0%|          | 0/1 [00:00<?, ?embeddings/s]"
      ]
     },
     "metadata": {},
     "output_type": "display_data"
    },
    {
     "data": {
      "application/vnd.jupyter.widget-view+json": {
       "model_id": "6eca9550500247daad06e6d20efdce15",
       "version_major": 2,
       "version_minor": 0
      },
      "text/plain": [
       "Computing partial embeddings:   0%|          | 0/1 [00:00<?, ?embeddings/s]"
      ]
     },
     "metadata": {},
     "output_type": "display_data"
    },
    {
     "data": {
      "application/vnd.jupyter.widget-view+json": {
       "model_id": "c68897a2746944159449e08c2dacbd63",
       "version_major": 2,
       "version_minor": 0
      },
      "text/plain": [
       "Computing partial embeddings:   0%|          | 0/1 [00:00<?, ?embeddings/s]"
      ]
     },
     "metadata": {},
     "output_type": "display_data"
    },
    {
     "data": {
      "application/vnd.jupyter.widget-view+json": {
       "model_id": "8ea44061ced94e6fbc1248dfa319876a",
       "version_major": 2,
       "version_minor": 0
      },
      "text/plain": [
       "Computing partial embeddings:   0%|          | 0/1 [00:00<?, ?embeddings/s]"
      ]
     },
     "metadata": {},
     "output_type": "display_data"
    },
    {
     "data": {
      "application/vnd.jupyter.widget-view+json": {
       "model_id": "989438540c1b48f7bd3c3a2cfc517be7",
       "version_major": 2,
       "version_minor": 0
      },
      "text/plain": [
       "Computing partial embeddings:   0%|          | 0/1 [00:00<?, ?embeddings/s]"
      ]
     },
     "metadata": {},
     "output_type": "display_data"
    },
    {
     "data": {
      "application/vnd.jupyter.widget-view+json": {
       "model_id": "6423ffe901e1464dad2574c67571ebc3",
       "version_major": 2,
       "version_minor": 0
      },
      "text/plain": [
       "Computing partial embeddings:   0%|          | 0/1 [00:00<?, ?embeddings/s]"
      ]
     },
     "metadata": {},
     "output_type": "display_data"
    },
    {
     "data": {
      "application/vnd.jupyter.widget-view+json": {
       "model_id": "a8fb45c4d2404f009eadfbdc35ae2fb3",
       "version_major": 2,
       "version_minor": 0
      },
      "text/plain": [
       "Computing partial embeddings:   0%|          | 0/1 [00:00<?, ?embeddings/s]"
      ]
     },
     "metadata": {},
     "output_type": "display_data"
    },
    {
     "data": {
      "application/vnd.jupyter.widget-view+json": {
       "model_id": "f10ca7fd677041d39241b5500a83a7a7",
       "version_major": 2,
       "version_minor": 0
      },
      "text/plain": [
       "Computing partial embeddings:   0%|          | 0/1 [00:00<?, ?embeddings/s]"
      ]
     },
     "metadata": {},
     "output_type": "display_data"
    },
    {
     "data": {
      "application/vnd.jupyter.widget-view+json": {
       "model_id": "47bc4eb0046a4b85b6ecc9929a2ffb03",
       "version_major": 2,
       "version_minor": 0
      },
      "text/plain": [
       "Computing partial embeddings:   0%|          | 0/1 [00:00<?, ?embeddings/s]"
      ]
     },
     "metadata": {},
     "output_type": "display_data"
    },
    {
     "data": {
      "application/vnd.jupyter.widget-view+json": {
       "model_id": "1062be285aee47a9bba121b87e917687",
       "version_major": 2,
       "version_minor": 0
      },
      "text/plain": [
       "Computing partial embeddings:   0%|          | 0/1 [00:00<?, ?embeddings/s]"
      ]
     },
     "metadata": {},
     "output_type": "display_data"
    },
    {
     "data": {
      "application/vnd.jupyter.widget-view+json": {
       "model_id": "0c97c193b726428d85f066b728f6d31b",
       "version_major": 2,
       "version_minor": 0
      },
      "text/plain": [
       "Computing partial embeddings:   0%|          | 0/1 [00:00<?, ?embeddings/s]"
      ]
     },
     "metadata": {},
     "output_type": "display_data"
    },
    {
     "data": {
      "application/vnd.jupyter.widget-view+json": {
       "model_id": "ecc7eb696fee4f6686f803505cc42fe0",
       "version_major": 2,
       "version_minor": 0
      },
      "text/plain": [
       "Computing partial embeddings:   0%|          | 0/1 [00:00<?, ?embeddings/s]"
      ]
     },
     "metadata": {},
     "output_type": "display_data"
    },
    {
     "data": {
      "application/vnd.jupyter.widget-view+json": {
       "model_id": "10744e18692d4c068bbcd7e37c563009",
       "version_major": 2,
       "version_minor": 0
      },
      "text/plain": [
       "Computing partial embeddings:   0%|          | 0/1 [00:00<?, ?embeddings/s]"
      ]
     },
     "metadata": {},
     "output_type": "display_data"
    },
    {
     "data": {
      "application/vnd.jupyter.widget-view+json": {
       "model_id": "4582c8e07d714f1bb160dd86160216d8",
       "version_major": 2,
       "version_minor": 0
      },
      "text/plain": [
       "Computing partial embeddings:   0%|          | 0/1 [00:00<?, ?embeddings/s]"
      ]
     },
     "metadata": {},
     "output_type": "display_data"
    },
    {
     "data": {
      "application/vnd.jupyter.widget-view+json": {
       "model_id": "6d73faa25d4d42ae852a1929892d8c31",
       "version_major": 2,
       "version_minor": 0
      },
      "text/plain": [
       "Computing partial embeddings:   0%|          | 0/1 [00:00<?, ?embeddings/s]"
      ]
     },
     "metadata": {},
     "output_type": "display_data"
    },
    {
     "data": {
      "application/vnd.jupyter.widget-view+json": {
       "model_id": "db1f4c54fac5494dbec40c2d27151c77",
       "version_major": 2,
       "version_minor": 0
      },
      "text/plain": [
       "Computing partial embeddings:   0%|          | 0/1 [00:00<?, ?embeddings/s]"
      ]
     },
     "metadata": {},
     "output_type": "display_data"
    },
    {
     "data": {
      "application/vnd.jupyter.widget-view+json": {
       "model_id": "3b779ce6f03349589c8ffade2b406ad7",
       "version_major": 2,
       "version_minor": 0
      },
      "text/plain": [
       "Computing partial embeddings:   0%|          | 0/1 [00:00<?, ?embeddings/s]"
      ]
     },
     "metadata": {},
     "output_type": "display_data"
    },
    {
     "data": {
      "application/vnd.jupyter.widget-view+json": {
       "model_id": "eb37669e4c0a449fbe25e8f22d3dd230",
       "version_major": 2,
       "version_minor": 0
      },
      "text/plain": [
       "Computing partial embeddings:   0%|          | 0/1 [00:00<?, ?embeddings/s]"
      ]
     },
     "metadata": {},
     "output_type": "display_data"
    },
    {
     "data": {
      "application/vnd.jupyter.widget-view+json": {
       "model_id": "1aa9cb96db0e4fcba1a6d31bd66243f4",
       "version_major": 2,
       "version_minor": 0
      },
      "text/plain": [
       "Computing partial embeddings:   0%|          | 0/1 [00:00<?, ?embeddings/s]"
      ]
     },
     "metadata": {},
     "output_type": "display_data"
    },
    {
     "data": {
      "application/vnd.jupyter.widget-view+json": {
       "model_id": "4cc542a6a8644d439f0ca58a18a8cc33",
       "version_major": 2,
       "version_minor": 0
      },
      "text/plain": [
       "Computing partial embeddings:   0%|          | 0/1 [00:00<?, ?embeddings/s]"
      ]
     },
     "metadata": {},
     "output_type": "display_data"
    },
    {
     "data": {
      "application/vnd.jupyter.widget-view+json": {
       "model_id": "468da9f274824f36b9524579ef335b3d",
       "version_major": 2,
       "version_minor": 0
      },
      "text/plain": [
       "Computing partial embeddings:   0%|          | 0/1 [00:00<?, ?embeddings/s]"
      ]
     },
     "metadata": {},
     "output_type": "display_data"
    },
    {
     "data": {
      "application/vnd.jupyter.widget-view+json": {
       "model_id": "81dc9174d97943b08bc2e4e6bb131da3",
       "version_major": 2,
       "version_minor": 0
      },
      "text/plain": [
       "Computing partial embeddings:   0%|          | 0/1 [00:00<?, ?embeddings/s]"
      ]
     },
     "metadata": {},
     "output_type": "display_data"
    },
    {
     "data": {
      "application/vnd.jupyter.widget-view+json": {
       "model_id": "4d6ce1c31c7a49c1a840289a3ea30251",
       "version_major": 2,
       "version_minor": 0
      },
      "text/plain": [
       "Computing partial embeddings:   0%|          | 0/1 [00:00<?, ?embeddings/s]"
      ]
     },
     "metadata": {},
     "output_type": "display_data"
    },
    {
     "data": {
      "application/vnd.jupyter.widget-view+json": {
       "model_id": "c06b94a9bb8147a1bca1c9a36fa1a909",
       "version_major": 2,
       "version_minor": 0
      },
      "text/plain": [
       "Computing partial embeddings:   0%|          | 0/1 [00:00<?, ?embeddings/s]"
      ]
     },
     "metadata": {},
     "output_type": "display_data"
    },
    {
     "data": {
      "application/vnd.jupyter.widget-view+json": {
       "model_id": "5cfa13ae3fb5433e8f5cd4a471405b44",
       "version_major": 2,
       "version_minor": 0
      },
      "text/plain": [
       "Computing partial embeddings:   0%|          | 0/1 [00:00<?, ?embeddings/s]"
      ]
     },
     "metadata": {},
     "output_type": "display_data"
    },
    {
     "data": {
      "application/vnd.jupyter.widget-view+json": {
       "model_id": "4853e64168464cd1ba46d3f9fb4a013a",
       "version_major": 2,
       "version_minor": 0
      },
      "text/plain": [
       "Computing partial embeddings:   0%|          | 0/1 [00:00<?, ?embeddings/s]"
      ]
     },
     "metadata": {},
     "output_type": "display_data"
    },
    {
     "data": {
      "application/vnd.jupyter.widget-view+json": {
       "model_id": "0cb4509c6f5e4bf08a0b9a1c09258c5b",
       "version_major": 2,
       "version_minor": 0
      },
      "text/plain": [
       "Computing partial embeddings:   0%|          | 0/1 [00:00<?, ?embeddings/s]"
      ]
     },
     "metadata": {},
     "output_type": "display_data"
    },
    {
     "data": {
      "application/vnd.jupyter.widget-view+json": {
       "model_id": "df1ded392d104a23803c7d262ec6efdf",
       "version_major": 2,
       "version_minor": 0
      },
      "text/plain": [
       "Computing partial embeddings:   0%|          | 0/1 [00:00<?, ?embeddings/s]"
      ]
     },
     "metadata": {},
     "output_type": "display_data"
    },
    {
     "data": {
      "application/vnd.jupyter.widget-view+json": {
       "model_id": "b84280c037514f3db1c8f91622785924",
       "version_major": 2,
       "version_minor": 0
      },
      "text/plain": [
       "Computing partial embeddings:   0%|          | 0/1 [00:00<?, ?embeddings/s]"
      ]
     },
     "metadata": {},
     "output_type": "display_data"
    },
    {
     "data": {
      "application/vnd.jupyter.widget-view+json": {
       "model_id": "2a1480d6946d445ca2ba74249318f7de",
       "version_major": 2,
       "version_minor": 0
      },
      "text/plain": [
       "Computing partial embeddings:   0%|          | 0/1 [00:00<?, ?embeddings/s]"
      ]
     },
     "metadata": {},
     "output_type": "display_data"
    },
    {
     "data": {
      "application/vnd.jupyter.widget-view+json": {
       "model_id": "1e1c1c11f67c4606b2f85c712f5b54dd",
       "version_major": 2,
       "version_minor": 0
      },
      "text/plain": [
       "Computing partial embeddings:   0%|          | 0/1 [00:00<?, ?embeddings/s]"
      ]
     },
     "metadata": {},
     "output_type": "display_data"
    },
    {
     "data": {
      "application/vnd.jupyter.widget-view+json": {
       "model_id": "ec496df2eba9481b9fb0ab940210e3ed",
       "version_major": 2,
       "version_minor": 0
      },
      "text/plain": [
       "Computing partial embeddings:   0%|          | 0/1 [00:00<?, ?embeddings/s]"
      ]
     },
     "metadata": {},
     "output_type": "display_data"
    },
    {
     "data": {
      "application/vnd.jupyter.widget-view+json": {
       "model_id": "09ffb40e18194c86aea51554c5e8884e",
       "version_major": 2,
       "version_minor": 0
      },
      "text/plain": [
       "Computing partial embeddings:   0%|          | 0/1 [00:00<?, ?embeddings/s]"
      ]
     },
     "metadata": {},
     "output_type": "display_data"
    },
    {
     "data": {
      "application/vnd.jupyter.widget-view+json": {
       "model_id": "8a31771e07244da98996299c6d9bedfd",
       "version_major": 2,
       "version_minor": 0
      },
      "text/plain": [
       "Computing partial embeddings:   0%|          | 0/1 [00:00<?, ?embeddings/s]"
      ]
     },
     "metadata": {},
     "output_type": "display_data"
    },
    {
     "data": {
      "application/vnd.jupyter.widget-view+json": {
       "model_id": "c031c1489d414a2cb7301c5c5fb2c951",
       "version_major": 2,
       "version_minor": 0
      },
      "text/plain": [
       "Computing partial embeddings:   0%|          | 0/1 [00:00<?, ?embeddings/s]"
      ]
     },
     "metadata": {},
     "output_type": "display_data"
    },
    {
     "data": {
      "application/vnd.jupyter.widget-view+json": {
       "model_id": "87c2f05b42614b89ab40f3f137a41480",
       "version_major": 2,
       "version_minor": 0
      },
      "text/plain": [
       "Computing partial embeddings:   0%|          | 0/1 [00:00<?, ?embeddings/s]"
      ]
     },
     "metadata": {},
     "output_type": "display_data"
    },
    {
     "data": {
      "application/vnd.jupyter.widget-view+json": {
       "model_id": "755d4c2a393142c8b2c0586625d08105",
       "version_major": 2,
       "version_minor": 0
      },
      "text/plain": [
       "Computing partial embeddings:   0%|          | 0/1 [00:00<?, ?embeddings/s]"
      ]
     },
     "metadata": {},
     "output_type": "display_data"
    },
    {
     "data": {
      "application/vnd.jupyter.widget-view+json": {
       "model_id": "247c78a39af14f74a94f1758ff879c05",
       "version_major": 2,
       "version_minor": 0
      },
      "text/plain": [
       "Computing partial embeddings:   0%|          | 0/1 [00:00<?, ?embeddings/s]"
      ]
     },
     "metadata": {},
     "output_type": "display_data"
    },
    {
     "data": {
      "application/vnd.jupyter.widget-view+json": {
       "model_id": "e2df65d0217f4f7ab8f057ec28de01b8",
       "version_major": 2,
       "version_minor": 0
      },
      "text/plain": [
       "Computing partial embeddings:   0%|          | 0/1 [00:00<?, ?embeddings/s]"
      ]
     },
     "metadata": {},
     "output_type": "display_data"
    },
    {
     "data": {
      "application/vnd.jupyter.widget-view+json": {
       "model_id": "1939debf10db4126a10edef405fd4938",
       "version_major": 2,
       "version_minor": 0
      },
      "text/plain": [
       "Computing partial embeddings:   0%|          | 0/1 [00:00<?, ?embeddings/s]"
      ]
     },
     "metadata": {},
     "output_type": "display_data"
    },
    {
     "data": {
      "application/vnd.jupyter.widget-view+json": {
       "model_id": "dd4583c44155423ca9c5b6381b91fc03",
       "version_major": 2,
       "version_minor": 0
      },
      "text/plain": [
       "Computing partial embeddings:   0%|          | 0/1 [00:00<?, ?embeddings/s]"
      ]
     },
     "metadata": {},
     "output_type": "display_data"
    },
    {
     "data": {
      "application/vnd.jupyter.widget-view+json": {
       "model_id": "5f8f8aa00387434295a6165d6f76d7ac",
       "version_major": 2,
       "version_minor": 0
      },
      "text/plain": [
       "Computing partial embeddings:   0%|          | 0/1 [00:00<?, ?embeddings/s]"
      ]
     },
     "metadata": {},
     "output_type": "display_data"
    },
    {
     "data": {
      "application/vnd.jupyter.widget-view+json": {
       "model_id": "eda7e2f1cd02400e97b2667c132696fb",
       "version_major": 2,
       "version_minor": 0
      },
      "text/plain": [
       "Computing partial embeddings:   0%|          | 0/1 [00:00<?, ?embeddings/s]"
      ]
     },
     "metadata": {},
     "output_type": "display_data"
    },
    {
     "data": {
      "application/vnd.jupyter.widget-view+json": {
       "model_id": "6f3c495ae0714dd1881f795bf93e6a92",
       "version_major": 2,
       "version_minor": 0
      },
      "text/plain": [
       "Computing partial embeddings:   0%|          | 0/1 [00:00<?, ?embeddings/s]"
      ]
     },
     "metadata": {},
     "output_type": "display_data"
    },
    {
     "data": {
      "application/vnd.jupyter.widget-view+json": {
       "model_id": "4e3bd39dc5934c8f9b27b0fbf7610043",
       "version_major": 2,
       "version_minor": 0
      },
      "text/plain": [
       "Computing partial embeddings:   0%|          | 0/1 [00:00<?, ?embeddings/s]"
      ]
     },
     "metadata": {},
     "output_type": "display_data"
    },
    {
     "data": {
      "application/vnd.jupyter.widget-view+json": {
       "model_id": "e9295e1d9e014faf904300756039fb1c",
       "version_major": 2,
       "version_minor": 0
      },
      "text/plain": [
       "Computing partial embeddings:   0%|          | 0/1 [00:00<?, ?embeddings/s]"
      ]
     },
     "metadata": {},
     "output_type": "display_data"
    },
    {
     "data": {
      "application/vnd.jupyter.widget-view+json": {
       "model_id": "e087e107354c40a6a852e38f8c5aa13d",
       "version_major": 2,
       "version_minor": 0
      },
      "text/plain": [
       "Computing partial embeddings:   0%|          | 0/1 [00:00<?, ?embeddings/s]"
      ]
     },
     "metadata": {},
     "output_type": "display_data"
    },
    {
     "data": {
      "application/vnd.jupyter.widget-view+json": {
       "model_id": "d71aa6713a8d4e609130f4706f5d54e7",
       "version_major": 2,
       "version_minor": 0
      },
      "text/plain": [
       "Computing partial embeddings:   0%|          | 0/1 [00:00<?, ?embeddings/s]"
      ]
     },
     "metadata": {},
     "output_type": "display_data"
    },
    {
     "data": {
      "application/vnd.jupyter.widget-view+json": {
       "model_id": "a765a3b729f843eab6d7c5cc883ed570",
       "version_major": 2,
       "version_minor": 0
      },
      "text/plain": [
       "Computing partial embeddings:   0%|          | 0/1 [00:00<?, ?embeddings/s]"
      ]
     },
     "metadata": {},
     "output_type": "display_data"
    },
    {
     "data": {
      "application/vnd.jupyter.widget-view+json": {
       "model_id": "fda6851f5b6a414d810fa570e9b94665",
       "version_major": 2,
       "version_minor": 0
      },
      "text/plain": [
       "Computing partial embeddings:   0%|          | 0/1 [00:00<?, ?embeddings/s]"
      ]
     },
     "metadata": {},
     "output_type": "display_data"
    },
    {
     "data": {
      "application/vnd.jupyter.widget-view+json": {
       "model_id": "e72f82e3c5174ea781797575041d6fa1",
       "version_major": 2,
       "version_minor": 0
      },
      "text/plain": [
       "Computing partial embeddings:   0%|          | 0/1 [00:00<?, ?embeddings/s]"
      ]
     },
     "metadata": {},
     "output_type": "display_data"
    },
    {
     "data": {
      "application/vnd.jupyter.widget-view+json": {
       "model_id": "93bfd6361db04ba699a1a288ce271990",
       "version_major": 2,
       "version_minor": 0
      },
      "text/plain": [
       "Computing partial embeddings:   0%|          | 0/1 [00:00<?, ?embeddings/s]"
      ]
     },
     "metadata": {},
     "output_type": "display_data"
    },
    {
     "data": {
      "application/vnd.jupyter.widget-view+json": {
       "model_id": "eed1931af33a4a0197e9dc80a36ff01f",
       "version_major": 2,
       "version_minor": 0
      },
      "text/plain": [
       "Computing partial embeddings:   0%|          | 0/1 [00:00<?, ?embeddings/s]"
      ]
     },
     "metadata": {},
     "output_type": "display_data"
    },
    {
     "data": {
      "application/vnd.jupyter.widget-view+json": {
       "model_id": "0893c80e769345ab97ccf5a1b599ea37",
       "version_major": 2,
       "version_minor": 0
      },
      "text/plain": [
       "Computing partial embeddings:   0%|          | 0/1 [00:00<?, ?embeddings/s]"
      ]
     },
     "metadata": {},
     "output_type": "display_data"
    },
    {
     "data": {
      "application/vnd.jupyter.widget-view+json": {
       "model_id": "82ade06d58114ec38c1b711e85ee8267",
       "version_major": 2,
       "version_minor": 0
      },
      "text/plain": [
       "Computing partial embeddings:   0%|          | 0/1 [00:00<?, ?embeddings/s]"
      ]
     },
     "metadata": {},
     "output_type": "display_data"
    },
    {
     "data": {
      "application/vnd.jupyter.widget-view+json": {
       "model_id": "f8d599f6cdc74041aea98d5b712c6f88",
       "version_major": 2,
       "version_minor": 0
      },
      "text/plain": [
       "Computing partial embeddings:   0%|          | 0/1 [00:00<?, ?embeddings/s]"
      ]
     },
     "metadata": {},
     "output_type": "display_data"
    },
    {
     "data": {
      "application/vnd.jupyter.widget-view+json": {
       "model_id": "e0bca91acd874d789a5c19e82584df78",
       "version_major": 2,
       "version_minor": 0
      },
      "text/plain": [
       "Computing partial embeddings:   0%|          | 0/1 [00:00<?, ?embeddings/s]"
      ]
     },
     "metadata": {},
     "output_type": "display_data"
    },
    {
     "data": {
      "application/vnd.jupyter.widget-view+json": {
       "model_id": "88e43420082744bda1be13ece3b2fa93",
       "version_major": 2,
       "version_minor": 0
      },
      "text/plain": [
       "Computing partial embeddings:   0%|          | 0/1 [00:00<?, ?embeddings/s]"
      ]
     },
     "metadata": {},
     "output_type": "display_data"
    },
    {
     "data": {
      "application/vnd.jupyter.widget-view+json": {
       "model_id": "2ac905b6f35d42be88103683815f2600",
       "version_major": 2,
       "version_minor": 0
      },
      "text/plain": [
       "Computing partial embeddings:   0%|          | 0/1 [00:00<?, ?embeddings/s]"
      ]
     },
     "metadata": {},
     "output_type": "display_data"
    },
    {
     "data": {
      "application/vnd.jupyter.widget-view+json": {
       "model_id": "0d7c61d33222401887b9083bee7e32f1",
       "version_major": 2,
       "version_minor": 0
      },
      "text/plain": [
       "Computing partial embeddings:   0%|          | 0/1 [00:00<?, ?embeddings/s]"
      ]
     },
     "metadata": {},
     "output_type": "display_data"
    },
    {
     "data": {
      "application/vnd.jupyter.widget-view+json": {
       "model_id": "12804749602544b397e01e36a341af3e",
       "version_major": 2,
       "version_minor": 0
      },
      "text/plain": [
       "Computing partial embeddings:   0%|          | 0/1 [00:00<?, ?embeddings/s]"
      ]
     },
     "metadata": {},
     "output_type": "display_data"
    },
    {
     "data": {
      "application/vnd.jupyter.widget-view+json": {
       "model_id": "b668e44688984a10899080b5b75293a8",
       "version_major": 2,
       "version_minor": 0
      },
      "text/plain": [
       "Computing partial embeddings:   0%|          | 0/1 [00:00<?, ?embeddings/s]"
      ]
     },
     "metadata": {},
     "output_type": "display_data"
    },
    {
     "data": {
      "application/vnd.jupyter.widget-view+json": {
       "model_id": "318eae8611b34fa5944eadf7f1ab3146",
       "version_major": 2,
       "version_minor": 0
      },
      "text/plain": [
       "Computing partial embeddings:   0%|          | 0/1 [00:00<?, ?embeddings/s]"
      ]
     },
     "metadata": {},
     "output_type": "display_data"
    },
    {
     "data": {
      "application/vnd.jupyter.widget-view+json": {
       "model_id": "846922a5d79f421f9090479e2b8ea7be",
       "version_major": 2,
       "version_minor": 0
      },
      "text/plain": [
       "Computing partial embeddings:   0%|          | 0/1 [00:00<?, ?embeddings/s]"
      ]
     },
     "metadata": {},
     "output_type": "display_data"
    },
    {
     "data": {
      "application/vnd.jupyter.widget-view+json": {
       "model_id": "1fbe98ec4a304dc286f442a968ed8f19",
       "version_major": 2,
       "version_minor": 0
      },
      "text/plain": [
       "Computing partial embeddings:   0%|          | 0/1 [00:00<?, ?embeddings/s]"
      ]
     },
     "metadata": {},
     "output_type": "display_data"
    },
    {
     "data": {
      "application/vnd.jupyter.widget-view+json": {
       "model_id": "496b3aa677bc4d9a8647e97f9ddc69f2",
       "version_major": 2,
       "version_minor": 0
      },
      "text/plain": [
       "Computing partial embeddings:   0%|          | 0/1 [00:00<?, ?embeddings/s]"
      ]
     },
     "metadata": {},
     "output_type": "display_data"
    },
    {
     "data": {
      "application/vnd.jupyter.widget-view+json": {
       "model_id": "2889a2a95eab4e2d9f8cd1b1c5504299",
       "version_major": 2,
       "version_minor": 0
      },
      "text/plain": [
       "Computing partial embeddings:   0%|          | 0/1 [00:00<?, ?embeddings/s]"
      ]
     },
     "metadata": {},
     "output_type": "display_data"
    },
    {
     "data": {
      "application/vnd.jupyter.widget-view+json": {
       "model_id": "ed73bd7b0f4c416ea7091f207beda0eb",
       "version_major": 2,
       "version_minor": 0
      },
      "text/plain": [
       "Computing partial embeddings:   0%|          | 0/1 [00:00<?, ?embeddings/s]"
      ]
     },
     "metadata": {},
     "output_type": "display_data"
    },
    {
     "data": {
      "application/vnd.jupyter.widget-view+json": {
       "model_id": "c94f416e64c64f57a21363540c64a036",
       "version_major": 2,
       "version_minor": 0
      },
      "text/plain": [
       "Computing partial embeddings:   0%|          | 0/1 [00:00<?, ?embeddings/s]"
      ]
     },
     "metadata": {},
     "output_type": "display_data"
    },
    {
     "data": {
      "application/vnd.jupyter.widget-view+json": {
       "model_id": "2e2cea58ec2d42a1a012bd03d45c8e07",
       "version_major": 2,
       "version_minor": 0
      },
      "text/plain": [
       "Computing partial embeddings:   0%|          | 0/1 [00:00<?, ?embeddings/s]"
      ]
     },
     "metadata": {},
     "output_type": "display_data"
    },
    {
     "data": {
      "application/vnd.jupyter.widget-view+json": {
       "model_id": "467612bbacdc429cbaeb0f0323993e73",
       "version_major": 2,
       "version_minor": 0
      },
      "text/plain": [
       "Computing partial embeddings:   0%|          | 0/1 [00:00<?, ?embeddings/s]"
      ]
     },
     "metadata": {},
     "output_type": "display_data"
    },
    {
     "data": {
      "application/vnd.jupyter.widget-view+json": {
       "model_id": "259523a1c7234b96952608819434b6d6",
       "version_major": 2,
       "version_minor": 0
      },
      "text/plain": [
       "Computing partial embeddings:   0%|          | 0/1 [00:00<?, ?embeddings/s]"
      ]
     },
     "metadata": {},
     "output_type": "display_data"
    },
    {
     "data": {
      "application/vnd.jupyter.widget-view+json": {
       "model_id": "542b2c36f21d451490effa92695bfdfe",
       "version_major": 2,
       "version_minor": 0
      },
      "text/plain": [
       "Computing partial embeddings:   0%|          | 0/1 [00:00<?, ?embeddings/s]"
      ]
     },
     "metadata": {},
     "output_type": "display_data"
    },
    {
     "name": "stdout",
     "output_type": "stream",
     "text": [
      "total ms 964 - 10ms\n"
     ]
    }
   ],
   "source": [
    "N = 100\n",
    "ts = time()\n",
    "for _ in range(N):\n",
    "    usim.text.embed(['2 strings one family'])\n",
    "total = (time() - ts) * 1000\n",
    "print(f'total ms {round(total)} - {round(total/N)}ms')"
   ]
  },
  {
   "cell_type": "code",
   "execution_count": 6,
   "metadata": {},
   "outputs": [
    {
     "data": {
      "application/vnd.jupyter.widget-view+json": {
       "model_id": "066469bcd7b04cbdb02135567f8b464d",
       "version_major": 2,
       "version_minor": 0
      },
      "text/plain": [
       "Computing partial embeddings:   0%|          | 0/7 [00:00<?, ?embeddings/s]"
      ]
     },
     "metadata": {},
     "output_type": "display_data"
    },
    {
     "name": "stdout",
     "output_type": "stream",
     "text": [
      "long range False False 0.2628289759159088\n"
     ]
    },
    {
     "data": {
      "application/vnd.jupyter.widget-view+json": {
       "model_id": "082d99d5222549ef9ded1ad92c660d05",
       "version_major": 2,
       "version_minor": 0
      },
      "text/plain": [
       "Computing partial embeddings:   0%|          | 0/2 [00:00<?, ?embeddings/s]"
      ]
     },
     "metadata": {},
     "output_type": "display_data"
    },
    {
     "name": "stdout",
     "output_type": "stream",
     "text": [
      "golden 0.4870411157608032\n"
     ]
    },
    {
     "data": {
      "application/vnd.jupyter.widget-view+json": {
       "model_id": "6197bac054e846ec89da60405af2de7a",
       "version_major": 2,
       "version_minor": 0
      },
      "text/plain": [
       "Computing partial embeddings:   0%|          | 0/2 [00:00<?, ?embeddings/s]"
      ]
     },
     "metadata": {},
     "output_type": "display_data"
    },
    {
     "name": "stdout",
     "output_type": "stream",
     "text": [
      "exact 1.0000001192092896\n"
     ]
    }
   ],
   "source": [
    "t = 'apa' * 1024\n",
    "d = usim.text.similarity('apapa', t)\n",
    "print('long range', d.is_global_match, d.is_partial_match, d.distance)\n",
    "\n",
    "\n",
    "# golden test 0.48\n",
    "d = usim.text.similarity('Doubting dreams'.lower(), 'rough winds do shake the darling buds of may,'.lower())\n",
    "print('golden', d.distance)\n",
    "\n",
    "d = usim.text.similarity('I love icecreams', 'I love icecreams')\n",
    "print('exact', d.distance)\n"
   ]
  },
  {
   "cell_type": "code",
   "execution_count": 7,
   "metadata": {},
   "outputs": [
    {
     "name": "stdout",
     "output_type": "stream",
     "text": [
      "4096\n"
     ]
    }
   ],
   "source": [
    "example = 't' * 4096\n",
    "print(len(example))\n"
   ]
  },
  {
   "cell_type": "code",
   "execution_count": 8,
   "metadata": {},
   "outputs": [
    {
     "data": {
      "application/vnd.jupyter.widget-view+json": {
       "model_id": "e0878c1270de4012ba74a23a771158d8",
       "version_major": 2,
       "version_minor": 0
      },
      "text/plain": [
       "Computing partial embeddings:   0%|          | 0/14 [00:00<?, ?embeddings/s]"
      ]
     },
     "metadata": {},
     "output_type": "display_data"
    },
    {
     "data": {
      "application/vnd.jupyter.widget-view+json": {
       "model_id": "abb7a53962774691ad3ecedb5bee5496",
       "version_major": 2,
       "version_minor": 0
      },
      "text/plain": [
       "Computing partial embeddings:   0%|          | 0/1 [00:00<?, ?embeddings/s]"
      ]
     },
     "metadata": {},
     "output_type": "display_data"
    },
    {
     "data": {
      "application/vnd.jupyter.widget-view+json": {
       "model_id": "3bb60893612c4709b474bc011c39b8aa",
       "version_major": 2,
       "version_minor": 0
      },
      "text/plain": [
       "Computing partial embeddings:   0%|          | 0/4 [00:00<?, ?embeddings/s]"
      ]
     },
     "metadata": {},
     "output_type": "display_data"
    },
    {
     "ename": "AttributeError",
     "evalue": "'ResultCollection' object has no attribute 'merge'",
     "output_type": "error",
     "traceback": [
      "\u001b[0;31m---------------------------------------------------------------------------\u001b[0m",
      "\u001b[0;31mAttributeError\u001b[0m                            Traceback (most recent call last)",
      "Cell \u001b[0;32mIn[8], line 9\u001b[0m\n\u001b[1;32m      5\u001b[0m usim\u001b[38;5;241m.\u001b[39mtext\u001b[38;5;241m.\u001b[39mindex([example,  partial,  \u001b[38;5;124m'\u001b[39m\u001b[38;5;124mI love icecreams\u001b[39m\u001b[38;5;124m'\u001b[39m, \u001b[38;5;124m'\u001b[39m\u001b[38;5;124mtea oh tea\u001b[39m\u001b[38;5;124m'\u001b[39m, \u001b[38;5;124m'\u001b[39m\u001b[38;5;124mcookiess!!!\u001b[39m\u001b[38;5;124m'\u001b[39m, \u001b[38;5;124m'\u001b[39m\u001b[38;5;124mno cookies for you\u001b[39m\u001b[38;5;124m'\u001b[39m])\n\u001b[1;32m      6\u001b[0m usim\u001b[38;5;241m.\u001b[39mtext\u001b[38;5;241m.\u001b[39mindex([\u001b[38;5;124m'\u001b[39m\u001b[38;5;124micecream or icecream sandwich that is the question\u001b[39m\u001b[38;5;124m'\u001b[39m])\n\u001b[0;32m----> 9\u001b[0m rc \u001b[38;5;241m=\u001b[39m \u001b[43musim\u001b[49m\u001b[38;5;241;43m.\u001b[39;49m\u001b[43mtext\u001b[49m\u001b[38;5;241;43m.\u001b[39;49m\u001b[43msearch\u001b[49m\u001b[43m(\u001b[49m\u001b[43m[\u001b[49m\u001b[38;5;124;43m'\u001b[39;49m\u001b[38;5;124;43mI love icecreams\u001b[39;49m\u001b[38;5;124;43m'\u001b[39;49m\u001b[43m,\u001b[49m\u001b[43m \u001b[49m\u001b[38;5;124;43m'\u001b[39;49m\u001b[38;5;124;43mmy icecream\u001b[39;49m\u001b[38;5;124;43m'\u001b[39;49m\u001b[43m,\u001b[49m\u001b[43m \u001b[49m\u001b[38;5;124;43m'\u001b[39;49m\u001b[38;5;124;43mcookiess!!!\u001b[39;49m\u001b[38;5;124;43m'\u001b[39;49m\u001b[43m,\u001b[49m\u001b[43m \u001b[49m\u001b[43mchunk\u001b[49m\u001b[43m]\u001b[49m\u001b[43m,\u001b[49m\n\u001b[1;32m     10\u001b[0m \u001b[43m                           \u001b[49m\u001b[43mpk\u001b[49m\u001b[38;5;241;43m=\u001b[39;49m\u001b[38;5;241;43m2\u001b[39;49m\u001b[43m,\u001b[49m\u001b[43m \u001b[49m\u001b[43mgk\u001b[49m\u001b[38;5;241;43m=\u001b[39;49m\u001b[38;5;241;43m2\u001b[39;49m\u001b[43m)\u001b[49m\n\u001b[1;32m     11\u001b[0m total \u001b[38;5;241m=\u001b[39m (time() \u001b[38;5;241m-\u001b[39m ts) \u001b[38;5;241m*\u001b[39m \u001b[38;5;241m1000\u001b[39m\n\u001b[1;32m     12\u001b[0m \u001b[38;5;28mprint\u001b[39m(\u001b[38;5;124mf\u001b[39m\u001b[38;5;124m'\u001b[39m\u001b[38;5;124mtotal ms \u001b[39m\u001b[38;5;132;01m{\u001b[39;00m\u001b[38;5;28mround\u001b[39m(total)\u001b[38;5;132;01m}\u001b[39;00m\u001b[38;5;124m'\u001b[39m)\n",
      "File \u001b[0;32m~/unisim/unisim/modality.py:187\u001b[0m, in \u001b[0;36mModality.search\u001b[0;34m(self, inputs, gk, pk)\u001b[0m\n\u001b[1;32m    176\u001b[0m     fpqe, _ \u001b[38;5;241m=\u001b[39m \u001b[38;5;28mself\u001b[39m\u001b[38;5;241m.\u001b[39m_flatten_partial_embeddings(pqe)\n\u001b[1;32m    178\u001b[0m     r \u001b[38;5;241m=\u001b[39m \u001b[38;5;28mself\u001b[39m\u001b[38;5;241m.\u001b[39mindexer\u001b[38;5;241m.\u001b[39mquery(\n\u001b[1;32m    179\u001b[0m         global_query_embeddings\u001b[38;5;241m=\u001b[39mgqe,\n\u001b[1;32m    180\u001b[0m         partial_query_embeddings\u001b[38;5;241m=\u001b[39mfpqe,\n\u001b[0;32m   (...)\u001b[0m\n\u001b[1;32m    185\u001b[0m         data\u001b[38;5;241m=\u001b[39m\u001b[38;5;28mself\u001b[39m\u001b[38;5;241m.\u001b[39mindexed_data,\n\u001b[1;32m    186\u001b[0m     )\n\u001b[0;32m--> 187\u001b[0m     \u001b[43mresults\u001b[49m\u001b[38;5;241;43m.\u001b[39;49m\u001b[43mmerge\u001b[49m(r)\n\u001b[1;32m    189\u001b[0m \u001b[38;5;28;01mreturn\u001b[39;00m results\n",
      "\u001b[0;31mAttributeError\u001b[0m: 'ResultCollection' object has no attribute 'merge'"
     ]
    }
   ],
   "source": [
    "usim.text.reset_index()\n",
    "ts  = time()\n",
    "chunk = 'cookies'\n",
    "partial =  'k' * 530 + chunk\n",
    "usim.text.index([example,  partial,  'I love icecreams', 'tea oh tea', 'cookiess!!!', 'no cookies for you'])\n",
    "usim.text.index(['icecream or icecream sandwich that is the question'])\n",
    "\n",
    "\n",
    "rc = usim.text.search(['I love icecreams', 'my icecream', 'cookiess!!!', chunk],\n",
    "                           pk=2, gk=2)\n",
    "total = (time() - ts) * 1000\n",
    "print(f'total ms {round(total)}')\n",
    "print(rc)\n",
    "usim.viz.result(rc.results[3])"
   ]
  },
  {
   "cell_type": "markdown",
   "metadata": {},
   "source": []
  },
  {
   "cell_type": "code",
   "execution_count": 9,
   "metadata": {},
   "outputs": [
    {
     "name": "stdout",
     "output_type": "stream",
     "text": [
      "[Indexer info]\n",
      "|-is_exact: True\n",
      "|-use_tf_knn: False\n"
     ]
    }
   ],
   "source": [
    "usim.text.indexer.info()"
   ]
  },
  {
   "cell_type": "code",
   "execution_count": null,
   "metadata": {},
   "outputs": [],
   "source": []
  }
 ],
 "metadata": {
  "kernelspec": {
   "display_name": "Python 3 (ipykernel)",
   "language": "python",
   "name": "python3"
  },
  "language_info": {
   "codemirror_mode": {
    "name": "ipython",
    "version": 3
   },
   "file_extension": ".py",
   "mimetype": "text/x-python",
   "name": "python",
   "nbconvert_exporter": "python",
   "pygments_lexer": "ipython3",
   "version": "3.10.12"
  }
 },
 "nbformat": 4,
 "nbformat_minor": 4
}
